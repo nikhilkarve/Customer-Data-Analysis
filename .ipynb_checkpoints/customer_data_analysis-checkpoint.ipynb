{
 "cells": [
  {
   "cell_type": "markdown",
   "id": "44ead6c2",
   "metadata": {},
   "source": [
    "#### Expected Outcome:\n",
    "- Know how many product sold every month.\n",
    "- Know how much customer spend their money every month.\n",
    "- Customer segmentation analysis.\n",
    "- Recommendation based on customer segmentation."
   ]
  },
  {
   "cell_type": "markdown",
   "id": "13f24bfe",
   "metadata": {},
   "source": [
    "#### This project will follow CRISP-DM process."
   ]
  },
  {
   "cell_type": "code",
   "execution_count": 1,
   "id": "5636ae39",
   "metadata": {},
   "outputs": [],
   "source": [
    "# Let's get the data. \n",
    "# source: https://archive.ics.uci.edu/ml/datasets/Online+Retail\n",
    "import pandas as pd\n",
    "import numpy as np\n",
    "import matplotlib.pyplot as plt\n",
    "import seaborn as sns"
   ]
  },
  {
   "cell_type": "code",
   "execution_count": 2,
   "id": "18ba9c19",
   "metadata": {},
   "outputs": [],
   "source": [
    "data_v1 = pd.read_excel('retail_data.xlsx')"
   ]
  },
  {
   "cell_type": "code",
   "execution_count": 3,
   "id": "e2b6e0ea",
   "metadata": {},
   "outputs": [
    {
     "data": {
      "text/html": [
       "<div>\n",
       "<style scoped>\n",
       "    .dataframe tbody tr th:only-of-type {\n",
       "        vertical-align: middle;\n",
       "    }\n",
       "\n",
       "    .dataframe tbody tr th {\n",
       "        vertical-align: top;\n",
       "    }\n",
       "\n",
       "    .dataframe thead th {\n",
       "        text-align: right;\n",
       "    }\n",
       "</style>\n",
       "<table border=\"1\" class=\"dataframe\">\n",
       "  <thead>\n",
       "    <tr style=\"text-align: right;\">\n",
       "      <th></th>\n",
       "      <th>InvoiceNo</th>\n",
       "      <th>StockCode</th>\n",
       "      <th>Description</th>\n",
       "      <th>Quantity</th>\n",
       "      <th>InvoiceDate</th>\n",
       "      <th>UnitPrice</th>\n",
       "      <th>CustomerID</th>\n",
       "      <th>Country</th>\n",
       "    </tr>\n",
       "  </thead>\n",
       "  <tbody>\n",
       "    <tr>\n",
       "      <th>0</th>\n",
       "      <td>536365</td>\n",
       "      <td>85123A</td>\n",
       "      <td>WHITE HANGING HEART T-LIGHT HOLDER</td>\n",
       "      <td>6</td>\n",
       "      <td>2010-12-01 08:26:00</td>\n",
       "      <td>2.55</td>\n",
       "      <td>17850.0</td>\n",
       "      <td>United Kingdom</td>\n",
       "    </tr>\n",
       "    <tr>\n",
       "      <th>1</th>\n",
       "      <td>536365</td>\n",
       "      <td>71053</td>\n",
       "      <td>WHITE METAL LANTERN</td>\n",
       "      <td>6</td>\n",
       "      <td>2010-12-01 08:26:00</td>\n",
       "      <td>3.39</td>\n",
       "      <td>17850.0</td>\n",
       "      <td>United Kingdom</td>\n",
       "    </tr>\n",
       "    <tr>\n",
       "      <th>2</th>\n",
       "      <td>536365</td>\n",
       "      <td>84406B</td>\n",
       "      <td>CREAM CUPID HEARTS COAT HANGER</td>\n",
       "      <td>8</td>\n",
       "      <td>2010-12-01 08:26:00</td>\n",
       "      <td>2.75</td>\n",
       "      <td>17850.0</td>\n",
       "      <td>United Kingdom</td>\n",
       "    </tr>\n",
       "    <tr>\n",
       "      <th>3</th>\n",
       "      <td>536365</td>\n",
       "      <td>84029G</td>\n",
       "      <td>KNITTED UNION FLAG HOT WATER BOTTLE</td>\n",
       "      <td>6</td>\n",
       "      <td>2010-12-01 08:26:00</td>\n",
       "      <td>3.39</td>\n",
       "      <td>17850.0</td>\n",
       "      <td>United Kingdom</td>\n",
       "    </tr>\n",
       "    <tr>\n",
       "      <th>4</th>\n",
       "      <td>536365</td>\n",
       "      <td>84029E</td>\n",
       "      <td>RED WOOLLY HOTTIE WHITE HEART.</td>\n",
       "      <td>6</td>\n",
       "      <td>2010-12-01 08:26:00</td>\n",
       "      <td>3.39</td>\n",
       "      <td>17850.0</td>\n",
       "      <td>United Kingdom</td>\n",
       "    </tr>\n",
       "    <tr>\n",
       "      <th>5</th>\n",
       "      <td>536365</td>\n",
       "      <td>22752</td>\n",
       "      <td>SET 7 BABUSHKA NESTING BOXES</td>\n",
       "      <td>2</td>\n",
       "      <td>2010-12-01 08:26:00</td>\n",
       "      <td>7.65</td>\n",
       "      <td>17850.0</td>\n",
       "      <td>United Kingdom</td>\n",
       "    </tr>\n",
       "    <tr>\n",
       "      <th>6</th>\n",
       "      <td>536365</td>\n",
       "      <td>21730</td>\n",
       "      <td>GLASS STAR FROSTED T-LIGHT HOLDER</td>\n",
       "      <td>6</td>\n",
       "      <td>2010-12-01 08:26:00</td>\n",
       "      <td>4.25</td>\n",
       "      <td>17850.0</td>\n",
       "      <td>United Kingdom</td>\n",
       "    </tr>\n",
       "    <tr>\n",
       "      <th>7</th>\n",
       "      <td>536366</td>\n",
       "      <td>22633</td>\n",
       "      <td>HAND WARMER UNION JACK</td>\n",
       "      <td>6</td>\n",
       "      <td>2010-12-01 08:28:00</td>\n",
       "      <td>1.85</td>\n",
       "      <td>17850.0</td>\n",
       "      <td>United Kingdom</td>\n",
       "    </tr>\n",
       "    <tr>\n",
       "      <th>8</th>\n",
       "      <td>536366</td>\n",
       "      <td>22632</td>\n",
       "      <td>HAND WARMER RED POLKA DOT</td>\n",
       "      <td>6</td>\n",
       "      <td>2010-12-01 08:28:00</td>\n",
       "      <td>1.85</td>\n",
       "      <td>17850.0</td>\n",
       "      <td>United Kingdom</td>\n",
       "    </tr>\n",
       "    <tr>\n",
       "      <th>9</th>\n",
       "      <td>536367</td>\n",
       "      <td>84879</td>\n",
       "      <td>ASSORTED COLOUR BIRD ORNAMENT</td>\n",
       "      <td>32</td>\n",
       "      <td>2010-12-01 08:34:00</td>\n",
       "      <td>1.69</td>\n",
       "      <td>13047.0</td>\n",
       "      <td>United Kingdom</td>\n",
       "    </tr>\n",
       "  </tbody>\n",
       "</table>\n",
       "</div>"
      ],
      "text/plain": [
       "  InvoiceNo StockCode                          Description  Quantity  \\\n",
       "0    536365    85123A   WHITE HANGING HEART T-LIGHT HOLDER         6   \n",
       "1    536365     71053                  WHITE METAL LANTERN         6   \n",
       "2    536365    84406B       CREAM CUPID HEARTS COAT HANGER         8   \n",
       "3    536365    84029G  KNITTED UNION FLAG HOT WATER BOTTLE         6   \n",
       "4    536365    84029E       RED WOOLLY HOTTIE WHITE HEART.         6   \n",
       "5    536365     22752         SET 7 BABUSHKA NESTING BOXES         2   \n",
       "6    536365     21730    GLASS STAR FROSTED T-LIGHT HOLDER         6   \n",
       "7    536366     22633               HAND WARMER UNION JACK         6   \n",
       "8    536366     22632            HAND WARMER RED POLKA DOT         6   \n",
       "9    536367     84879        ASSORTED COLOUR BIRD ORNAMENT        32   \n",
       "\n",
       "          InvoiceDate  UnitPrice  CustomerID         Country  \n",
       "0 2010-12-01 08:26:00       2.55     17850.0  United Kingdom  \n",
       "1 2010-12-01 08:26:00       3.39     17850.0  United Kingdom  \n",
       "2 2010-12-01 08:26:00       2.75     17850.0  United Kingdom  \n",
       "3 2010-12-01 08:26:00       3.39     17850.0  United Kingdom  \n",
       "4 2010-12-01 08:26:00       3.39     17850.0  United Kingdom  \n",
       "5 2010-12-01 08:26:00       7.65     17850.0  United Kingdom  \n",
       "6 2010-12-01 08:26:00       4.25     17850.0  United Kingdom  \n",
       "7 2010-12-01 08:28:00       1.85     17850.0  United Kingdom  \n",
       "8 2010-12-01 08:28:00       1.85     17850.0  United Kingdom  \n",
       "9 2010-12-01 08:34:00       1.69     13047.0  United Kingdom  "
      ]
     },
     "execution_count": 3,
     "metadata": {},
     "output_type": "execute_result"
    }
   ],
   "source": [
    "data_v1.head(10)"
   ]
  },
  {
   "cell_type": "code",
   "execution_count": 6,
   "id": "57e23928",
   "metadata": {},
   "outputs": [
    {
     "data": {
      "text/plain": [
       "Index(['InvoiceNo', 'StockCode', 'Description', 'Quantity', 'InvoiceDate',\n",
       "       'UnitPrice', 'CustomerID', 'Country'],\n",
       "      dtype='object')"
      ]
     },
     "execution_count": 6,
     "metadata": {},
     "output_type": "execute_result"
    }
   ],
   "source": [
    "data_v1.columns"
   ]
  },
  {
   "cell_type": "markdown",
   "id": "ec5e3a09",
   "metadata": {},
   "source": [
    "#### First task is to create a data quality report of the available data."
   ]
  },
  {
   "cell_type": "markdown",
   "id": "dd6120e2",
   "metadata": {},
   "source": [
    "- InvoiceNo: Invoice number. Nominal, a 6-digit integral number uniquely assigned to each transaction. If this code starts with letter 'c', it indicates a cancellation. \n",
    "- StockCode: Product (item) code. Nominal, a 5-digit integral number uniquely assigned to each distinct product. \n",
    "- Description: Product (item) name. Nominal. \n",
    "- Quantity: The quantities of each product (item) per transaction. Numeric. \n",
    "- InvoiceDate: Invice Date and time. Numeric, the day and time when each transaction was generated. \n",
    "- UnitPrice: Unit price. Numeric, Product price per unit in sterling. \n",
    "- CustomerID: Customer number. Nominal, a 5-digit integral number uniquely assigned to each customer. \n",
    "- Country: Country name. Nominal, the name of the country where each customer resides."
   ]
  },
  {
   "cell_type": "code",
   "execution_count": 52,
   "id": "3dd927d5",
   "metadata": {},
   "outputs": [],
   "source": [
    "categorical_f = ['InvoiceNo', 'StockCode', 'Description', 'CustomerID', 'Country']\n",
    "numerical_f = ['Quantity', 'UnitPrice']\n",
    "#We will deal with InvoiceDate seperately"
   ]
  },
  {
   "cell_type": "markdown",
   "id": "47d9cb75",
   "metadata": {},
   "source": [
    "As we can see there are total 5 nominal variables and 3 numeric variables. We will create a seperate data quality report for both."
   ]
  },
  {
   "cell_type": "code",
   "execution_count": 53,
   "id": "1ad1a096",
   "metadata": {},
   "outputs": [],
   "source": [
    "## For numeric variables"
   ]
  },
  {
   "cell_type": "code",
   "execution_count": 54,
   "id": "448ee438",
   "metadata": {},
   "outputs": [
    {
     "data": {
      "text/html": [
       "<div>\n",
       "<style scoped>\n",
       "    .dataframe tbody tr th:only-of-type {\n",
       "        vertical-align: middle;\n",
       "    }\n",
       "\n",
       "    .dataframe tbody tr th {\n",
       "        vertical-align: top;\n",
       "    }\n",
       "\n",
       "    .dataframe thead th {\n",
       "        text-align: right;\n",
       "    }\n",
       "</style>\n",
       "<table border=\"1\" class=\"dataframe\">\n",
       "  <thead>\n",
       "    <tr style=\"text-align: right;\">\n",
       "      <th></th>\n",
       "      <th>Quantity</th>\n",
       "      <th>UnitPrice</th>\n",
       "      <th>CustomerID</th>\n",
       "    </tr>\n",
       "  </thead>\n",
       "  <tbody>\n",
       "    <tr>\n",
       "      <th>count</th>\n",
       "      <td>541909.000000</td>\n",
       "      <td>541909.000000</td>\n",
       "      <td>406829.000000</td>\n",
       "    </tr>\n",
       "    <tr>\n",
       "      <th>mean</th>\n",
       "      <td>9.552250</td>\n",
       "      <td>4.611114</td>\n",
       "      <td>15287.690570</td>\n",
       "    </tr>\n",
       "    <tr>\n",
       "      <th>std</th>\n",
       "      <td>218.081158</td>\n",
       "      <td>96.759853</td>\n",
       "      <td>1713.600303</td>\n",
       "    </tr>\n",
       "    <tr>\n",
       "      <th>min</th>\n",
       "      <td>-80995.000000</td>\n",
       "      <td>-11062.060000</td>\n",
       "      <td>12346.000000</td>\n",
       "    </tr>\n",
       "    <tr>\n",
       "      <th>25%</th>\n",
       "      <td>1.000000</td>\n",
       "      <td>1.250000</td>\n",
       "      <td>13953.000000</td>\n",
       "    </tr>\n",
       "    <tr>\n",
       "      <th>50%</th>\n",
       "      <td>3.000000</td>\n",
       "      <td>2.080000</td>\n",
       "      <td>15152.000000</td>\n",
       "    </tr>\n",
       "    <tr>\n",
       "      <th>75%</th>\n",
       "      <td>10.000000</td>\n",
       "      <td>4.130000</td>\n",
       "      <td>16791.000000</td>\n",
       "    </tr>\n",
       "    <tr>\n",
       "      <th>max</th>\n",
       "      <td>80995.000000</td>\n",
       "      <td>38970.000000</td>\n",
       "      <td>18287.000000</td>\n",
       "    </tr>\n",
       "  </tbody>\n",
       "</table>\n",
       "</div>"
      ],
      "text/plain": [
       "            Quantity      UnitPrice     CustomerID\n",
       "count  541909.000000  541909.000000  406829.000000\n",
       "mean        9.552250       4.611114   15287.690570\n",
       "std       218.081158      96.759853    1713.600303\n",
       "min    -80995.000000  -11062.060000   12346.000000\n",
       "25%         1.000000       1.250000   13953.000000\n",
       "50%         3.000000       2.080000   15152.000000\n",
       "75%        10.000000       4.130000   16791.000000\n",
       "max     80995.000000   38970.000000   18287.000000"
      ]
     },
     "execution_count": 54,
     "metadata": {},
     "output_type": "execute_result"
    }
   ],
   "source": [
    "data_v1.describe()"
   ]
  },
  {
   "cell_type": "code",
   "execution_count": 55,
   "id": "b7e69312",
   "metadata": {},
   "outputs": [],
   "source": [
    "dqt_num = data_v1.describe().transpose()"
   ]
  },
  {
   "cell_type": "code",
   "execution_count": 56,
   "id": "1fa632b9",
   "metadata": {},
   "outputs": [
    {
     "data": {
      "text/html": [
       "<div>\n",
       "<style scoped>\n",
       "    .dataframe tbody tr th:only-of-type {\n",
       "        vertical-align: middle;\n",
       "    }\n",
       "\n",
       "    .dataframe tbody tr th {\n",
       "        vertical-align: top;\n",
       "    }\n",
       "\n",
       "    .dataframe thead th {\n",
       "        text-align: right;\n",
       "    }\n",
       "</style>\n",
       "<table border=\"1\" class=\"dataframe\">\n",
       "  <thead>\n",
       "    <tr style=\"text-align: right;\">\n",
       "      <th></th>\n",
       "      <th>count</th>\n",
       "      <th>mean</th>\n",
       "      <th>std</th>\n",
       "      <th>min</th>\n",
       "      <th>25%</th>\n",
       "      <th>50%</th>\n",
       "      <th>75%</th>\n",
       "      <th>max</th>\n",
       "    </tr>\n",
       "  </thead>\n",
       "  <tbody>\n",
       "    <tr>\n",
       "      <th>Quantity</th>\n",
       "      <td>541909.0</td>\n",
       "      <td>9.552250</td>\n",
       "      <td>218.081158</td>\n",
       "      <td>-80995.00</td>\n",
       "      <td>1.00</td>\n",
       "      <td>3.00</td>\n",
       "      <td>10.00</td>\n",
       "      <td>80995.0</td>\n",
       "    </tr>\n",
       "    <tr>\n",
       "      <th>UnitPrice</th>\n",
       "      <td>541909.0</td>\n",
       "      <td>4.611114</td>\n",
       "      <td>96.759853</td>\n",
       "      <td>-11062.06</td>\n",
       "      <td>1.25</td>\n",
       "      <td>2.08</td>\n",
       "      <td>4.13</td>\n",
       "      <td>38970.0</td>\n",
       "    </tr>\n",
       "    <tr>\n",
       "      <th>CustomerID</th>\n",
       "      <td>406829.0</td>\n",
       "      <td>15287.690570</td>\n",
       "      <td>1713.600303</td>\n",
       "      <td>12346.00</td>\n",
       "      <td>13953.00</td>\n",
       "      <td>15152.00</td>\n",
       "      <td>16791.00</td>\n",
       "      <td>18287.0</td>\n",
       "    </tr>\n",
       "  </tbody>\n",
       "</table>\n",
       "</div>"
      ],
      "text/plain": [
       "               count          mean          std       min       25%       50%  \\\n",
       "Quantity    541909.0      9.552250   218.081158 -80995.00      1.00      3.00   \n",
       "UnitPrice   541909.0      4.611114    96.759853 -11062.06      1.25      2.08   \n",
       "CustomerID  406829.0  15287.690570  1713.600303  12346.00  13953.00  15152.00   \n",
       "\n",
       "                 75%      max  \n",
       "Quantity       10.00  80995.0  \n",
       "UnitPrice       4.13  38970.0  \n",
       "CustomerID  16791.00  18287.0  "
      ]
     },
     "execution_count": 56,
     "metadata": {},
     "output_type": "execute_result"
    }
   ],
   "source": [
    "dqt_num"
   ]
  },
  {
   "cell_type": "code",
   "execution_count": 57,
   "id": "51d1092a",
   "metadata": {},
   "outputs": [],
   "source": [
    "dqt_num.reset_index(inplace=True)"
   ]
  },
  {
   "cell_type": "code",
   "execution_count": 58,
   "id": "cd64ec5f",
   "metadata": {},
   "outputs": [
    {
     "data": {
      "text/html": [
       "<div>\n",
       "<style scoped>\n",
       "    .dataframe tbody tr th:only-of-type {\n",
       "        vertical-align: middle;\n",
       "    }\n",
       "\n",
       "    .dataframe tbody tr th {\n",
       "        vertical-align: top;\n",
       "    }\n",
       "\n",
       "    .dataframe thead th {\n",
       "        text-align: right;\n",
       "    }\n",
       "</style>\n",
       "<table border=\"1\" class=\"dataframe\">\n",
       "  <thead>\n",
       "    <tr style=\"text-align: right;\">\n",
       "      <th></th>\n",
       "      <th>Feature</th>\n",
       "      <th>count</th>\n",
       "      <th>mean</th>\n",
       "      <th>std</th>\n",
       "      <th>min</th>\n",
       "      <th>25%</th>\n",
       "      <th>50%</th>\n",
       "      <th>75%</th>\n",
       "      <th>max</th>\n",
       "    </tr>\n",
       "  </thead>\n",
       "  <tbody>\n",
       "    <tr>\n",
       "      <th>0</th>\n",
       "      <td>Quantity</td>\n",
       "      <td>541909.0</td>\n",
       "      <td>9.552250</td>\n",
       "      <td>218.081158</td>\n",
       "      <td>-80995.00</td>\n",
       "      <td>1.00</td>\n",
       "      <td>3.00</td>\n",
       "      <td>10.00</td>\n",
       "      <td>80995.0</td>\n",
       "    </tr>\n",
       "    <tr>\n",
       "      <th>1</th>\n",
       "      <td>UnitPrice</td>\n",
       "      <td>541909.0</td>\n",
       "      <td>4.611114</td>\n",
       "      <td>96.759853</td>\n",
       "      <td>-11062.06</td>\n",
       "      <td>1.25</td>\n",
       "      <td>2.08</td>\n",
       "      <td>4.13</td>\n",
       "      <td>38970.0</td>\n",
       "    </tr>\n",
       "    <tr>\n",
       "      <th>2</th>\n",
       "      <td>CustomerID</td>\n",
       "      <td>406829.0</td>\n",
       "      <td>15287.690570</td>\n",
       "      <td>1713.600303</td>\n",
       "      <td>12346.00</td>\n",
       "      <td>13953.00</td>\n",
       "      <td>15152.00</td>\n",
       "      <td>16791.00</td>\n",
       "      <td>18287.0</td>\n",
       "    </tr>\n",
       "  </tbody>\n",
       "</table>\n",
       "</div>"
      ],
      "text/plain": [
       "      Feature     count          mean          std       min       25%  \\\n",
       "0    Quantity  541909.0      9.552250   218.081158 -80995.00      1.00   \n",
       "1   UnitPrice  541909.0      4.611114    96.759853 -11062.06      1.25   \n",
       "2  CustomerID  406829.0  15287.690570  1713.600303  12346.00  13953.00   \n",
       "\n",
       "        50%       75%      max  \n",
       "0      3.00     10.00  80995.0  \n",
       "1      2.08      4.13  38970.0  \n",
       "2  15152.00  16791.00  18287.0  "
      ]
     },
     "execution_count": 58,
     "metadata": {},
     "output_type": "execute_result"
    }
   ],
   "source": [
    "dqt_num.rename({'index': 'Feature'}, axis=1, inplace=True)\n",
    "dqt_num"
   ]
  },
  {
   "cell_type": "code",
   "execution_count": 59,
   "id": "07d77c0b",
   "metadata": {},
   "outputs": [
    {
     "data": {
      "text/html": [
       "<div>\n",
       "<style scoped>\n",
       "    .dataframe tbody tr th:only-of-type {\n",
       "        vertical-align: middle;\n",
       "    }\n",
       "\n",
       "    .dataframe tbody tr th {\n",
       "        vertical-align: top;\n",
       "    }\n",
       "\n",
       "    .dataframe thead th {\n",
       "        text-align: right;\n",
       "    }\n",
       "</style>\n",
       "<table border=\"1\" class=\"dataframe\">\n",
       "  <thead>\n",
       "    <tr style=\"text-align: right;\">\n",
       "      <th></th>\n",
       "      <th>Feature</th>\n",
       "      <th>count</th>\n",
       "      <th>mean</th>\n",
       "      <th>std</th>\n",
       "      <th>min</th>\n",
       "      <th>Q1</th>\n",
       "      <th>Median</th>\n",
       "      <th>Q3</th>\n",
       "      <th>max</th>\n",
       "    </tr>\n",
       "  </thead>\n",
       "  <tbody>\n",
       "    <tr>\n",
       "      <th>0</th>\n",
       "      <td>Quantity</td>\n",
       "      <td>541909.0</td>\n",
       "      <td>9.552250</td>\n",
       "      <td>218.081158</td>\n",
       "      <td>-80995.00</td>\n",
       "      <td>1.00</td>\n",
       "      <td>3.00</td>\n",
       "      <td>10.00</td>\n",
       "      <td>80995.0</td>\n",
       "    </tr>\n",
       "    <tr>\n",
       "      <th>1</th>\n",
       "      <td>UnitPrice</td>\n",
       "      <td>541909.0</td>\n",
       "      <td>4.611114</td>\n",
       "      <td>96.759853</td>\n",
       "      <td>-11062.06</td>\n",
       "      <td>1.25</td>\n",
       "      <td>2.08</td>\n",
       "      <td>4.13</td>\n",
       "      <td>38970.0</td>\n",
       "    </tr>\n",
       "    <tr>\n",
       "      <th>2</th>\n",
       "      <td>CustomerID</td>\n",
       "      <td>406829.0</td>\n",
       "      <td>15287.690570</td>\n",
       "      <td>1713.600303</td>\n",
       "      <td>12346.00</td>\n",
       "      <td>13953.00</td>\n",
       "      <td>15152.00</td>\n",
       "      <td>16791.00</td>\n",
       "      <td>18287.0</td>\n",
       "    </tr>\n",
       "  </tbody>\n",
       "</table>\n",
       "</div>"
      ],
      "text/plain": [
       "      Feature     count          mean          std       min        Q1  \\\n",
       "0    Quantity  541909.0      9.552250   218.081158 -80995.00      1.00   \n",
       "1   UnitPrice  541909.0      4.611114    96.759853 -11062.06      1.25   \n",
       "2  CustomerID  406829.0  15287.690570  1713.600303  12346.00  13953.00   \n",
       "\n",
       "     Median        Q3      max  \n",
       "0      3.00     10.00  80995.0  \n",
       "1      2.08      4.13  38970.0  \n",
       "2  15152.00  16791.00  18287.0  "
      ]
     },
     "execution_count": 59,
     "metadata": {},
     "output_type": "execute_result"
    }
   ],
   "source": [
    "dqt_num.rename({'25%': 'Q1', '50%':'Median','75%':'Q3'}, inplace=True, axis=1)\n",
    "dqt_num"
   ]
  },
  {
   "cell_type": "code",
   "execution_count": 60,
   "id": "108ade35",
   "metadata": {},
   "outputs": [],
   "source": [
    "numerical_data = data_v1[numerical_f]"
   ]
  },
  {
   "cell_type": "code",
   "execution_count": 61,
   "id": "4cd1b7d3",
   "metadata": {},
   "outputs": [],
   "source": [
    "missing_percentage = (numerical_data.isnull().sum() / len(numerical_data))*100"
   ]
  },
  {
   "cell_type": "code",
   "execution_count": 62,
   "id": "243320d5",
   "metadata": {},
   "outputs": [],
   "source": [
    "join_this = missing_percentage.to_frame()"
   ]
  },
  {
   "cell_type": "code",
   "execution_count": 63,
   "id": "68668aa3",
   "metadata": {},
   "outputs": [],
   "source": [
    "join_this.reset_index(inplace=True)"
   ]
  },
  {
   "cell_type": "code",
   "execution_count": 64,
   "id": "6bbcf829",
   "metadata": {},
   "outputs": [],
   "source": [
    "join_this.rename({'index': 'Feature', 0: 'Missing %'}, inplace=True, axis=1)"
   ]
  },
  {
   "cell_type": "code",
   "execution_count": 65,
   "id": "5967d175",
   "metadata": {},
   "outputs": [
    {
     "data": {
      "text/html": [
       "<div>\n",
       "<style scoped>\n",
       "    .dataframe tbody tr th:only-of-type {\n",
       "        vertical-align: middle;\n",
       "    }\n",
       "\n",
       "    .dataframe tbody tr th {\n",
       "        vertical-align: top;\n",
       "    }\n",
       "\n",
       "    .dataframe thead th {\n",
       "        text-align: right;\n",
       "    }\n",
       "</style>\n",
       "<table border=\"1\" class=\"dataframe\">\n",
       "  <thead>\n",
       "    <tr style=\"text-align: right;\">\n",
       "      <th></th>\n",
       "      <th>Feature</th>\n",
       "      <th>Missing %</th>\n",
       "    </tr>\n",
       "  </thead>\n",
       "  <tbody>\n",
       "    <tr>\n",
       "      <th>0</th>\n",
       "      <td>Quantity</td>\n",
       "      <td>0.0</td>\n",
       "    </tr>\n",
       "    <tr>\n",
       "      <th>1</th>\n",
       "      <td>UnitPrice</td>\n",
       "      <td>0.0</td>\n",
       "    </tr>\n",
       "  </tbody>\n",
       "</table>\n",
       "</div>"
      ],
      "text/plain": [
       "     Feature  Missing %\n",
       "0   Quantity        0.0\n",
       "1  UnitPrice        0.0"
      ]
     },
     "execution_count": 65,
     "metadata": {},
     "output_type": "execute_result"
    }
   ],
   "source": [
    "join_this"
   ]
  },
  {
   "cell_type": "code",
   "execution_count": 66,
   "id": "ef7ac5dc",
   "metadata": {},
   "outputs": [],
   "source": [
    "dqt_num = pd.merge(dqt_num, join_this, on='Feature')"
   ]
  },
  {
   "cell_type": "code",
   "execution_count": 73,
   "id": "6e7be7fc",
   "metadata": {},
   "outputs": [],
   "source": [
    "card_join = numerical_data.nunique().to_frame()"
   ]
  },
  {
   "cell_type": "code",
   "execution_count": 75,
   "id": "3c8b6c6f",
   "metadata": {},
   "outputs": [],
   "source": [
    "card_join.reset_index(inplace=True)"
   ]
  },
  {
   "cell_type": "code",
   "execution_count": 79,
   "id": "4deb1559",
   "metadata": {},
   "outputs": [],
   "source": [
    "card_join.drop('level_0', inplace=True, axis=1)"
   ]
  },
  {
   "cell_type": "code",
   "execution_count": 81,
   "id": "8d35c5c1",
   "metadata": {},
   "outputs": [],
   "source": [
    "card_join.rename({'index': 'Feature', 0: 'Card.'}, inplace=True, axis=1)"
   ]
  },
  {
   "cell_type": "code",
   "execution_count": 84,
   "id": "f86d9612",
   "metadata": {},
   "outputs": [],
   "source": [
    "dqt_num = dqt_num.merge(card_join, on='Feature')"
   ]
  },
  {
   "cell_type": "code",
   "execution_count": 85,
   "id": "5aaebb38",
   "metadata": {},
   "outputs": [
    {
     "data": {
      "text/html": [
       "<div>\n",
       "<style scoped>\n",
       "    .dataframe tbody tr th:only-of-type {\n",
       "        vertical-align: middle;\n",
       "    }\n",
       "\n",
       "    .dataframe tbody tr th {\n",
       "        vertical-align: top;\n",
       "    }\n",
       "\n",
       "    .dataframe thead th {\n",
       "        text-align: right;\n",
       "    }\n",
       "</style>\n",
       "<table border=\"1\" class=\"dataframe\">\n",
       "  <thead>\n",
       "    <tr style=\"text-align: right;\">\n",
       "      <th></th>\n",
       "      <th>Feature</th>\n",
       "      <th>count</th>\n",
       "      <th>mean</th>\n",
       "      <th>std</th>\n",
       "      <th>min</th>\n",
       "      <th>Q1</th>\n",
       "      <th>Median</th>\n",
       "      <th>Q3</th>\n",
       "      <th>max</th>\n",
       "      <th>Missing %</th>\n",
       "      <th>Card.</th>\n",
       "    </tr>\n",
       "  </thead>\n",
       "  <tbody>\n",
       "    <tr>\n",
       "      <th>0</th>\n",
       "      <td>Quantity</td>\n",
       "      <td>541909.0</td>\n",
       "      <td>9.552250</td>\n",
       "      <td>218.081158</td>\n",
       "      <td>-80995.00</td>\n",
       "      <td>1.00</td>\n",
       "      <td>3.00</td>\n",
       "      <td>10.00</td>\n",
       "      <td>80995.0</td>\n",
       "      <td>0.0</td>\n",
       "      <td>722</td>\n",
       "    </tr>\n",
       "    <tr>\n",
       "      <th>1</th>\n",
       "      <td>UnitPrice</td>\n",
       "      <td>541909.0</td>\n",
       "      <td>4.611114</td>\n",
       "      <td>96.759853</td>\n",
       "      <td>-11062.06</td>\n",
       "      <td>1.25</td>\n",
       "      <td>2.08</td>\n",
       "      <td>4.13</td>\n",
       "      <td>38970.0</td>\n",
       "      <td>0.0</td>\n",
       "      <td>1630</td>\n",
       "    </tr>\n",
       "  </tbody>\n",
       "</table>\n",
       "</div>"
      ],
      "text/plain": [
       "     Feature     count      mean         std       min    Q1  Median     Q3  \\\n",
       "0   Quantity  541909.0  9.552250  218.081158 -80995.00  1.00    3.00  10.00   \n",
       "1  UnitPrice  541909.0  4.611114   96.759853 -11062.06  1.25    2.08   4.13   \n",
       "\n",
       "       max  Missing %  Card.  \n",
       "0  80995.0        0.0    722  \n",
       "1  38970.0        0.0   1630  "
      ]
     },
     "execution_count": 85,
     "metadata": {},
     "output_type": "execute_result"
    }
   ],
   "source": [
    "dqt_num"
   ]
  },
  {
   "cell_type": "code",
   "execution_count": 317,
   "id": "04469031",
   "metadata": {},
   "outputs": [],
   "source": [
    "dqt_cat = data_v1[categorical_f].describe(include=['object', 'int64', 'float64']).transpose()"
   ]
  },
  {
   "cell_type": "code",
   "execution_count": 318,
   "id": "187d2a44",
   "metadata": {},
   "outputs": [
    {
     "data": {
      "text/html": [
       "<div>\n",
       "<style scoped>\n",
       "    .dataframe tbody tr th:only-of-type {\n",
       "        vertical-align: middle;\n",
       "    }\n",
       "\n",
       "    .dataframe tbody tr th {\n",
       "        vertical-align: top;\n",
       "    }\n",
       "\n",
       "    .dataframe thead th {\n",
       "        text-align: right;\n",
       "    }\n",
       "</style>\n",
       "<table border=\"1\" class=\"dataframe\">\n",
       "  <thead>\n",
       "    <tr style=\"text-align: right;\">\n",
       "      <th></th>\n",
       "      <th>count</th>\n",
       "      <th>unique</th>\n",
       "      <th>top</th>\n",
       "      <th>freq</th>\n",
       "      <th>mean</th>\n",
       "      <th>std</th>\n",
       "      <th>min</th>\n",
       "      <th>25%</th>\n",
       "      <th>50%</th>\n",
       "      <th>75%</th>\n",
       "      <th>max</th>\n",
       "    </tr>\n",
       "  </thead>\n",
       "  <tbody>\n",
       "    <tr>\n",
       "      <th>InvoiceNo</th>\n",
       "      <td>541909.0</td>\n",
       "      <td>25900.0</td>\n",
       "      <td>573585.0</td>\n",
       "      <td>1114.0</td>\n",
       "      <td>NaN</td>\n",
       "      <td>NaN</td>\n",
       "      <td>NaN</td>\n",
       "      <td>NaN</td>\n",
       "      <td>NaN</td>\n",
       "      <td>NaN</td>\n",
       "      <td>NaN</td>\n",
       "    </tr>\n",
       "    <tr>\n",
       "      <th>StockCode</th>\n",
       "      <td>541909</td>\n",
       "      <td>4070</td>\n",
       "      <td>85123A</td>\n",
       "      <td>2313</td>\n",
       "      <td>NaN</td>\n",
       "      <td>NaN</td>\n",
       "      <td>NaN</td>\n",
       "      <td>NaN</td>\n",
       "      <td>NaN</td>\n",
       "      <td>NaN</td>\n",
       "      <td>NaN</td>\n",
       "    </tr>\n",
       "    <tr>\n",
       "      <th>Description</th>\n",
       "      <td>540455</td>\n",
       "      <td>4223</td>\n",
       "      <td>WHITE HANGING HEART T-LIGHT HOLDER</td>\n",
       "      <td>2369</td>\n",
       "      <td>NaN</td>\n",
       "      <td>NaN</td>\n",
       "      <td>NaN</td>\n",
       "      <td>NaN</td>\n",
       "      <td>NaN</td>\n",
       "      <td>NaN</td>\n",
       "      <td>NaN</td>\n",
       "    </tr>\n",
       "    <tr>\n",
       "      <th>CustomerID</th>\n",
       "      <td>406829.0</td>\n",
       "      <td>NaN</td>\n",
       "      <td>NaN</td>\n",
       "      <td>NaN</td>\n",
       "      <td>15287.69057</td>\n",
       "      <td>1713.600303</td>\n",
       "      <td>12346.0</td>\n",
       "      <td>13953.0</td>\n",
       "      <td>15152.0</td>\n",
       "      <td>16791.0</td>\n",
       "      <td>18287.0</td>\n",
       "    </tr>\n",
       "    <tr>\n",
       "      <th>Country</th>\n",
       "      <td>541909</td>\n",
       "      <td>38</td>\n",
       "      <td>United Kingdom</td>\n",
       "      <td>495478</td>\n",
       "      <td>NaN</td>\n",
       "      <td>NaN</td>\n",
       "      <td>NaN</td>\n",
       "      <td>NaN</td>\n",
       "      <td>NaN</td>\n",
       "      <td>NaN</td>\n",
       "      <td>NaN</td>\n",
       "    </tr>\n",
       "  </tbody>\n",
       "</table>\n",
       "</div>"
      ],
      "text/plain": [
       "                count   unique                                 top    freq  \\\n",
       "InvoiceNo    541909.0  25900.0                            573585.0  1114.0   \n",
       "StockCode      541909     4070                              85123A    2313   \n",
       "Description    540455     4223  WHITE HANGING HEART T-LIGHT HOLDER    2369   \n",
       "CustomerID   406829.0      NaN                                 NaN     NaN   \n",
       "Country        541909       38                      United Kingdom  495478   \n",
       "\n",
       "                    mean          std      min      25%      50%      75%  \\\n",
       "InvoiceNo            NaN          NaN      NaN      NaN      NaN      NaN   \n",
       "StockCode            NaN          NaN      NaN      NaN      NaN      NaN   \n",
       "Description          NaN          NaN      NaN      NaN      NaN      NaN   \n",
       "CustomerID   15287.69057  1713.600303  12346.0  13953.0  15152.0  16791.0   \n",
       "Country              NaN          NaN      NaN      NaN      NaN      NaN   \n",
       "\n",
       "                 max  \n",
       "InvoiceNo        NaN  \n",
       "StockCode        NaN  \n",
       "Description      NaN  \n",
       "CustomerID   18287.0  \n",
       "Country          NaN  "
      ]
     },
     "execution_count": 318,
     "metadata": {},
     "output_type": "execute_result"
    }
   ],
   "source": [
    "dqt_cat"
   ]
  },
  {
   "cell_type": "code",
   "execution_count": 319,
   "id": "8fc06176",
   "metadata": {},
   "outputs": [],
   "source": [
    "dqt_cat.drop(['mean', 'min', 'max', '25%', '50%', '75%','std'], axis=1, inplace=True)"
   ]
  },
  {
   "cell_type": "code",
   "execution_count": 320,
   "id": "0e89d6bd",
   "metadata": {},
   "outputs": [],
   "source": [
    "dqt_cat.rename({'unique':'Card.', 'top':'Mode'}, axis=1, inplace=True)"
   ]
  },
  {
   "cell_type": "code",
   "execution_count": 321,
   "id": "3fd75d05",
   "metadata": {},
   "outputs": [],
   "source": [
    "dqt_cat.reset_index(inplace=True)"
   ]
  },
  {
   "cell_type": "code",
   "execution_count": 322,
   "id": "b14878b7",
   "metadata": {},
   "outputs": [],
   "source": [
    "dqt_cat.rename({'index': 'Feature'}, inplace=True, axis=1)"
   ]
  },
  {
   "cell_type": "code",
   "execution_count": 323,
   "id": "2c24db83",
   "metadata": {},
   "outputs": [],
   "source": [
    "join_null = ((data_v1[categorical_f].isna().sum() / len(data_v1[categorical_f]))*100).to_frame()"
   ]
  },
  {
   "cell_type": "code",
   "execution_count": 324,
   "id": "67136b3a",
   "metadata": {},
   "outputs": [],
   "source": [
    "join_null.reset_index(inplace=True)"
   ]
  },
  {
   "cell_type": "code",
   "execution_count": 325,
   "id": "c15eff73",
   "metadata": {},
   "outputs": [],
   "source": [
    "join_null.rename({'index': 'Feature', 0: 'Missing %'}, inplace=True, axis=1)"
   ]
  },
  {
   "cell_type": "code",
   "execution_count": 326,
   "id": "26ac03d2",
   "metadata": {},
   "outputs": [],
   "source": [
    "dqt_cat=dqt_cat.merge(join_null, on='Feature')"
   ]
  },
  {
   "cell_type": "code",
   "execution_count": 327,
   "id": "8c043261",
   "metadata": {},
   "outputs": [],
   "source": [
    "keys = []\n",
    "values = []\n",
    "for col in dqt_cat['Feature']:\n",
    "    lol = dict(data_v1[col].value_counts())\n",
    "    key, value = list(lol.items())[1]\n",
    "    keys.append(key)\n",
    "    values.append(value)"
   ]
  },
  {
   "cell_type": "code",
   "execution_count": 328,
   "id": "11675cdc",
   "metadata": {},
   "outputs": [
    {
     "data": {
      "text/plain": [
       "[581219, 22423, 'REGENCY CAKESTAND 3 TIER', 14911.0, 'Germany']"
      ]
     },
     "execution_count": 328,
     "metadata": {},
     "output_type": "execute_result"
    }
   ],
   "source": [
    "keys"
   ]
  },
  {
   "cell_type": "code",
   "execution_count": 329,
   "id": "67c9c05c",
   "metadata": {},
   "outputs": [
    {
     "data": {
      "text/plain": [
       "[749, 2203, 2200, 5903, 9495]"
      ]
     },
     "execution_count": 329,
     "metadata": {},
     "output_type": "execute_result"
    }
   ],
   "source": [
    "values"
   ]
  },
  {
   "cell_type": "code",
   "execution_count": 330,
   "id": "75e9edf8",
   "metadata": {},
   "outputs": [],
   "source": [
    "join_2mode = pd.DataFrame(index = keys, columns = [\"Score\"], data = values)"
   ]
  },
  {
   "cell_type": "code",
   "execution_count": 331,
   "id": "93fc5a12",
   "metadata": {},
   "outputs": [],
   "source": [
    "join_2mode.reset_index(inplace=True)"
   ]
  },
  {
   "cell_type": "code",
   "execution_count": 332,
   "id": "693134db",
   "metadata": {},
   "outputs": [],
   "source": [
    "join_2mode.rename({'index':'2nd Mode'}, inplace=True, axis=1)"
   ]
  },
  {
   "cell_type": "code",
   "execution_count": 333,
   "id": "4f0389fc",
   "metadata": {},
   "outputs": [],
   "source": [
    "join_2mode['Feature'] = dqt_cat['Feature']"
   ]
  },
  {
   "cell_type": "code",
   "execution_count": 334,
   "id": "f1e225b1",
   "metadata": {},
   "outputs": [],
   "source": [
    "join_2mode.rename({ 'Score':'2nd Mode freqn'}, inplace=True, axis=1)"
   ]
  },
  {
   "cell_type": "code",
   "execution_count": 335,
   "id": "2682e083",
   "metadata": {},
   "outputs": [],
   "source": [
    "dqt_cat=dqt_cat.merge(join_2mode, on='Feature')"
   ]
  },
  {
   "cell_type": "code",
   "execution_count": 336,
   "id": "edd01203",
   "metadata": {},
   "outputs": [],
   "source": [
    "dqt_cat.at[3, 'Card.'] = data_v1['CustomerID'].nunique()"
   ]
  },
  {
   "cell_type": "code",
   "execution_count": 337,
   "id": "27ab1c8b",
   "metadata": {},
   "outputs": [
    {
     "data": {
      "text/plain": [
       "25900"
      ]
     },
     "execution_count": 337,
     "metadata": {},
     "output_type": "execute_result"
    }
   ],
   "source": [
    "data_v1['InvoiceNo'].nunique()"
   ]
  },
  {
   "cell_type": "code",
   "execution_count": 338,
   "id": "08d95cf4",
   "metadata": {},
   "outputs": [
    {
     "data": {
      "text/plain": [
       "17841.0    7983\n",
       "14911.0    5903\n",
       "14096.0    5128\n",
       "12748.0    4642\n",
       "14606.0    2782\n",
       "           ... \n",
       "14351.0       1\n",
       "13256.0       1\n",
       "12943.0       1\n",
       "17923.0       1\n",
       "13747.0       1\n",
       "Name: CustomerID, Length: 4372, dtype: int64"
      ]
     },
     "execution_count": 338,
     "metadata": {},
     "output_type": "execute_result"
    }
   ],
   "source": [
    "data_v1['CustomerID'].value_counts()"
   ]
  },
  {
   "cell_type": "code",
   "execution_count": 339,
   "id": "4adc5495",
   "metadata": {},
   "outputs": [],
   "source": [
    "temp = dict(data_v1['CustomerID'].value_counts())\n",
    "key, value = list(temp.items())[0]"
   ]
  },
  {
   "cell_type": "code",
   "execution_count": 340,
   "id": "5ab9c6fd",
   "metadata": {},
   "outputs": [
    {
     "data": {
      "text/plain": [
       "17841.0"
      ]
     },
     "execution_count": 340,
     "metadata": {},
     "output_type": "execute_result"
    }
   ],
   "source": [
    "key"
   ]
  },
  {
   "cell_type": "code",
   "execution_count": 341,
   "id": "a586e9b9",
   "metadata": {},
   "outputs": [
    {
     "data": {
      "text/plain": [
       "7983"
      ]
     },
     "execution_count": 341,
     "metadata": {},
     "output_type": "execute_result"
    }
   ],
   "source": [
    "value"
   ]
  },
  {
   "cell_type": "code",
   "execution_count": 342,
   "id": "4cfa6813",
   "metadata": {},
   "outputs": [],
   "source": [
    "dqt_cat.at[3, 'Mode'] = key\n",
    "dqt_cat.at[3, 'freq'] = value"
   ]
  },
  {
   "cell_type": "code",
   "execution_count": 343,
   "id": "cbff69d3",
   "metadata": {},
   "outputs": [
    {
     "data": {
      "text/html": [
       "<div>\n",
       "<style scoped>\n",
       "    .dataframe tbody tr th:only-of-type {\n",
       "        vertical-align: middle;\n",
       "    }\n",
       "\n",
       "    .dataframe tbody tr th {\n",
       "        vertical-align: top;\n",
       "    }\n",
       "\n",
       "    .dataframe thead th {\n",
       "        text-align: right;\n",
       "    }\n",
       "</style>\n",
       "<table border=\"1\" class=\"dataframe\">\n",
       "  <thead>\n",
       "    <tr style=\"text-align: right;\">\n",
       "      <th></th>\n",
       "      <th>Feature</th>\n",
       "      <th>count</th>\n",
       "      <th>Card.</th>\n",
       "      <th>Mode</th>\n",
       "      <th>freq</th>\n",
       "      <th>Missing %</th>\n",
       "      <th>2nd Mode</th>\n",
       "      <th>2nd Mode freqn</th>\n",
       "    </tr>\n",
       "  </thead>\n",
       "  <tbody>\n",
       "    <tr>\n",
       "      <th>0</th>\n",
       "      <td>InvoiceNo</td>\n",
       "      <td>541909.0</td>\n",
       "      <td>25900.0</td>\n",
       "      <td>573585.0</td>\n",
       "      <td>1114.0</td>\n",
       "      <td>0.000000</td>\n",
       "      <td>581219</td>\n",
       "      <td>749</td>\n",
       "    </tr>\n",
       "    <tr>\n",
       "      <th>1</th>\n",
       "      <td>StockCode</td>\n",
       "      <td>541909</td>\n",
       "      <td>4070</td>\n",
       "      <td>85123A</td>\n",
       "      <td>2313</td>\n",
       "      <td>0.000000</td>\n",
       "      <td>22423</td>\n",
       "      <td>2203</td>\n",
       "    </tr>\n",
       "    <tr>\n",
       "      <th>2</th>\n",
       "      <td>Description</td>\n",
       "      <td>540455</td>\n",
       "      <td>4223</td>\n",
       "      <td>WHITE HANGING HEART T-LIGHT HOLDER</td>\n",
       "      <td>2369</td>\n",
       "      <td>0.268311</td>\n",
       "      <td>REGENCY CAKESTAND 3 TIER</td>\n",
       "      <td>2200</td>\n",
       "    </tr>\n",
       "    <tr>\n",
       "      <th>3</th>\n",
       "      <td>CustomerID</td>\n",
       "      <td>406829.0</td>\n",
       "      <td>4372</td>\n",
       "      <td>17841.0</td>\n",
       "      <td>7983</td>\n",
       "      <td>24.926694</td>\n",
       "      <td>14911.0</td>\n",
       "      <td>5903</td>\n",
       "    </tr>\n",
       "    <tr>\n",
       "      <th>4</th>\n",
       "      <td>Country</td>\n",
       "      <td>541909</td>\n",
       "      <td>38</td>\n",
       "      <td>United Kingdom</td>\n",
       "      <td>495478</td>\n",
       "      <td>0.000000</td>\n",
       "      <td>Germany</td>\n",
       "      <td>9495</td>\n",
       "    </tr>\n",
       "  </tbody>\n",
       "</table>\n",
       "</div>"
      ],
      "text/plain": [
       "       Feature     count    Card.                                Mode    freq  \\\n",
       "0    InvoiceNo  541909.0  25900.0                            573585.0  1114.0   \n",
       "1    StockCode    541909     4070                              85123A    2313   \n",
       "2  Description    540455     4223  WHITE HANGING HEART T-LIGHT HOLDER    2369   \n",
       "3   CustomerID  406829.0     4372                             17841.0    7983   \n",
       "4      Country    541909       38                      United Kingdom  495478   \n",
       "\n",
       "   Missing %                  2nd Mode  2nd Mode freqn  \n",
       "0   0.000000                    581219             749  \n",
       "1   0.000000                     22423            2203  \n",
       "2   0.268311  REGENCY CAKESTAND 3 TIER            2200  \n",
       "3  24.926694                   14911.0            5903  \n",
       "4   0.000000                   Germany            9495  "
      ]
     },
     "execution_count": 343,
     "metadata": {},
     "output_type": "execute_result"
    }
   ],
   "source": [
    "dqt_cat"
   ]
  },
  {
   "cell_type": "code",
   "execution_count": 344,
   "id": "eedd3b54",
   "metadata": {},
   "outputs": [
    {
     "data": {
      "text/plain": [
       "Index(['Feature', 'count', 'Card.', 'Mode', 'freq', 'Missing %', '2nd Mode',\n",
       "       '2nd Mode freqn'],\n",
       "      dtype='object')"
      ]
     },
     "execution_count": 344,
     "metadata": {},
     "output_type": "execute_result"
    }
   ],
   "source": [
    "dqt_cat.columns"
   ]
  },
  {
   "cell_type": "code",
   "execution_count": 345,
   "id": "709d8291",
   "metadata": {},
   "outputs": [],
   "source": [
    "dqt_cat['Mode %'] = (dqt_cat['freq'] / dqt_cat['count']) * 100"
   ]
  },
  {
   "cell_type": "code",
   "execution_count": 346,
   "id": "0d9b34ea",
   "metadata": {},
   "outputs": [
    {
     "data": {
      "text/html": [
       "<div>\n",
       "<style scoped>\n",
       "    .dataframe tbody tr th:only-of-type {\n",
       "        vertical-align: middle;\n",
       "    }\n",
       "\n",
       "    .dataframe tbody tr th {\n",
       "        vertical-align: top;\n",
       "    }\n",
       "\n",
       "    .dataframe thead th {\n",
       "        text-align: right;\n",
       "    }\n",
       "</style>\n",
       "<table border=\"1\" class=\"dataframe\">\n",
       "  <thead>\n",
       "    <tr style=\"text-align: right;\">\n",
       "      <th></th>\n",
       "      <th>Feature</th>\n",
       "      <th>count</th>\n",
       "      <th>Card.</th>\n",
       "      <th>Mode</th>\n",
       "      <th>freq</th>\n",
       "      <th>Missing %</th>\n",
       "      <th>2nd Mode</th>\n",
       "      <th>2nd Mode freqn</th>\n",
       "      <th>Mode %</th>\n",
       "    </tr>\n",
       "  </thead>\n",
       "  <tbody>\n",
       "    <tr>\n",
       "      <th>0</th>\n",
       "      <td>InvoiceNo</td>\n",
       "      <td>541909.0</td>\n",
       "      <td>25900.0</td>\n",
       "      <td>573585.0</td>\n",
       "      <td>1114.0</td>\n",
       "      <td>0.000000</td>\n",
       "      <td>581219</td>\n",
       "      <td>749</td>\n",
       "      <td>0.20557</td>\n",
       "    </tr>\n",
       "    <tr>\n",
       "      <th>1</th>\n",
       "      <td>StockCode</td>\n",
       "      <td>541909</td>\n",
       "      <td>4070</td>\n",
       "      <td>85123A</td>\n",
       "      <td>2313</td>\n",
       "      <td>0.000000</td>\n",
       "      <td>22423</td>\n",
       "      <td>2203</td>\n",
       "      <td>0.426824</td>\n",
       "    </tr>\n",
       "    <tr>\n",
       "      <th>2</th>\n",
       "      <td>Description</td>\n",
       "      <td>540455</td>\n",
       "      <td>4223</td>\n",
       "      <td>WHITE HANGING HEART T-LIGHT HOLDER</td>\n",
       "      <td>2369</td>\n",
       "      <td>0.268311</td>\n",
       "      <td>REGENCY CAKESTAND 3 TIER</td>\n",
       "      <td>2200</td>\n",
       "      <td>0.438334</td>\n",
       "    </tr>\n",
       "    <tr>\n",
       "      <th>3</th>\n",
       "      <td>CustomerID</td>\n",
       "      <td>406829.0</td>\n",
       "      <td>4372</td>\n",
       "      <td>17841.0</td>\n",
       "      <td>7983</td>\n",
       "      <td>24.926694</td>\n",
       "      <td>14911.0</td>\n",
       "      <td>5903</td>\n",
       "      <td>1.962249</td>\n",
       "    </tr>\n",
       "    <tr>\n",
       "      <th>4</th>\n",
       "      <td>Country</td>\n",
       "      <td>541909</td>\n",
       "      <td>38</td>\n",
       "      <td>United Kingdom</td>\n",
       "      <td>495478</td>\n",
       "      <td>0.000000</td>\n",
       "      <td>Germany</td>\n",
       "      <td>9495</td>\n",
       "      <td>91.431956</td>\n",
       "    </tr>\n",
       "  </tbody>\n",
       "</table>\n",
       "</div>"
      ],
      "text/plain": [
       "       Feature     count    Card.                                Mode    freq  \\\n",
       "0    InvoiceNo  541909.0  25900.0                            573585.0  1114.0   \n",
       "1    StockCode    541909     4070                              85123A    2313   \n",
       "2  Description    540455     4223  WHITE HANGING HEART T-LIGHT HOLDER    2369   \n",
       "3   CustomerID  406829.0     4372                             17841.0    7983   \n",
       "4      Country    541909       38                      United Kingdom  495478   \n",
       "\n",
       "   Missing %                  2nd Mode  2nd Mode freqn     Mode %  \n",
       "0   0.000000                    581219             749    0.20557  \n",
       "1   0.000000                     22423            2203   0.426824  \n",
       "2   0.268311  REGENCY CAKESTAND 3 TIER            2200   0.438334  \n",
       "3  24.926694                   14911.0            5903   1.962249  \n",
       "4   0.000000                   Germany            9495  91.431956  "
      ]
     },
     "execution_count": 346,
     "metadata": {},
     "output_type": "execute_result"
    }
   ],
   "source": [
    "dqt_cat"
   ]
  },
  {
   "cell_type": "code",
   "execution_count": 347,
   "id": "28c02155",
   "metadata": {},
   "outputs": [],
   "source": [
    "dqt_cat['2nd Mode %'] = (dqt_cat['2nd Mode freqn']/dqt_cat['count'])*100"
   ]
  },
  {
   "cell_type": "code",
   "execution_count": 348,
   "id": "32c9106a",
   "metadata": {},
   "outputs": [
    {
     "data": {
      "text/html": [
       "<div>\n",
       "<style scoped>\n",
       "    .dataframe tbody tr th:only-of-type {\n",
       "        vertical-align: middle;\n",
       "    }\n",
       "\n",
       "    .dataframe tbody tr th {\n",
       "        vertical-align: top;\n",
       "    }\n",
       "\n",
       "    .dataframe thead th {\n",
       "        text-align: right;\n",
       "    }\n",
       "</style>\n",
       "<table border=\"1\" class=\"dataframe\">\n",
       "  <thead>\n",
       "    <tr style=\"text-align: right;\">\n",
       "      <th></th>\n",
       "      <th>Feature</th>\n",
       "      <th>count</th>\n",
       "      <th>Card.</th>\n",
       "      <th>Mode</th>\n",
       "      <th>freq</th>\n",
       "      <th>Missing %</th>\n",
       "      <th>2nd Mode</th>\n",
       "      <th>2nd Mode freqn</th>\n",
       "      <th>Mode %</th>\n",
       "      <th>2nd Mode %</th>\n",
       "    </tr>\n",
       "  </thead>\n",
       "  <tbody>\n",
       "    <tr>\n",
       "      <th>0</th>\n",
       "      <td>InvoiceNo</td>\n",
       "      <td>541909.0</td>\n",
       "      <td>25900.0</td>\n",
       "      <td>573585.0</td>\n",
       "      <td>1114.0</td>\n",
       "      <td>0.000000</td>\n",
       "      <td>581219</td>\n",
       "      <td>749</td>\n",
       "      <td>0.20557</td>\n",
       "      <td>0.138215</td>\n",
       "    </tr>\n",
       "    <tr>\n",
       "      <th>1</th>\n",
       "      <td>StockCode</td>\n",
       "      <td>541909</td>\n",
       "      <td>4070</td>\n",
       "      <td>85123A</td>\n",
       "      <td>2313</td>\n",
       "      <td>0.000000</td>\n",
       "      <td>22423</td>\n",
       "      <td>2203</td>\n",
       "      <td>0.426824</td>\n",
       "      <td>0.406526</td>\n",
       "    </tr>\n",
       "    <tr>\n",
       "      <th>2</th>\n",
       "      <td>Description</td>\n",
       "      <td>540455</td>\n",
       "      <td>4223</td>\n",
       "      <td>WHITE HANGING HEART T-LIGHT HOLDER</td>\n",
       "      <td>2369</td>\n",
       "      <td>0.268311</td>\n",
       "      <td>REGENCY CAKESTAND 3 TIER</td>\n",
       "      <td>2200</td>\n",
       "      <td>0.438334</td>\n",
       "      <td>0.407064</td>\n",
       "    </tr>\n",
       "    <tr>\n",
       "      <th>3</th>\n",
       "      <td>CustomerID</td>\n",
       "      <td>406829.0</td>\n",
       "      <td>4372</td>\n",
       "      <td>17841.0</td>\n",
       "      <td>7983</td>\n",
       "      <td>24.926694</td>\n",
       "      <td>14911.0</td>\n",
       "      <td>5903</td>\n",
       "      <td>1.962249</td>\n",
       "      <td>1.450978</td>\n",
       "    </tr>\n",
       "    <tr>\n",
       "      <th>4</th>\n",
       "      <td>Country</td>\n",
       "      <td>541909</td>\n",
       "      <td>38</td>\n",
       "      <td>United Kingdom</td>\n",
       "      <td>495478</td>\n",
       "      <td>0.000000</td>\n",
       "      <td>Germany</td>\n",
       "      <td>9495</td>\n",
       "      <td>91.431956</td>\n",
       "      <td>1.752139</td>\n",
       "    </tr>\n",
       "  </tbody>\n",
       "</table>\n",
       "</div>"
      ],
      "text/plain": [
       "       Feature     count    Card.                                Mode    freq  \\\n",
       "0    InvoiceNo  541909.0  25900.0                            573585.0  1114.0   \n",
       "1    StockCode    541909     4070                              85123A    2313   \n",
       "2  Description    540455     4223  WHITE HANGING HEART T-LIGHT HOLDER    2369   \n",
       "3   CustomerID  406829.0     4372                             17841.0    7983   \n",
       "4      Country    541909       38                      United Kingdom  495478   \n",
       "\n",
       "   Missing %                  2nd Mode  2nd Mode freqn     Mode % 2nd Mode %  \n",
       "0   0.000000                    581219             749    0.20557   0.138215  \n",
       "1   0.000000                     22423            2203   0.426824   0.406526  \n",
       "2   0.268311  REGENCY CAKESTAND 3 TIER            2200   0.438334   0.407064  \n",
       "3  24.926694                   14911.0            5903   1.962249   1.450978  \n",
       "4   0.000000                   Germany            9495  91.431956   1.752139  "
      ]
     },
     "execution_count": 348,
     "metadata": {},
     "output_type": "execute_result"
    }
   ],
   "source": [
    "dqt_cat"
   ]
  },
  {
   "cell_type": "code",
   "execution_count": 349,
   "id": "781315a2",
   "metadata": {},
   "outputs": [
    {
     "data": {
      "text/html": [
       "<div>\n",
       "<style scoped>\n",
       "    .dataframe tbody tr th:only-of-type {\n",
       "        vertical-align: middle;\n",
       "    }\n",
       "\n",
       "    .dataframe tbody tr th {\n",
       "        vertical-align: top;\n",
       "    }\n",
       "\n",
       "    .dataframe thead th {\n",
       "        text-align: right;\n",
       "    }\n",
       "</style>\n",
       "<table border=\"1\" class=\"dataframe\">\n",
       "  <thead>\n",
       "    <tr style=\"text-align: right;\">\n",
       "      <th></th>\n",
       "      <th>Feature</th>\n",
       "      <th>count</th>\n",
       "      <th>mean</th>\n",
       "      <th>std</th>\n",
       "      <th>min</th>\n",
       "      <th>Q1</th>\n",
       "      <th>Median</th>\n",
       "      <th>Q3</th>\n",
       "      <th>max</th>\n",
       "      <th>Missing %</th>\n",
       "      <th>Card.</th>\n",
       "    </tr>\n",
       "  </thead>\n",
       "  <tbody>\n",
       "    <tr>\n",
       "      <th>0</th>\n",
       "      <td>Quantity</td>\n",
       "      <td>541909.0</td>\n",
       "      <td>9.552250</td>\n",
       "      <td>218.081158</td>\n",
       "      <td>-80995.00</td>\n",
       "      <td>1.00</td>\n",
       "      <td>3.00</td>\n",
       "      <td>10.00</td>\n",
       "      <td>80995.0</td>\n",
       "      <td>0.0</td>\n",
       "      <td>722</td>\n",
       "    </tr>\n",
       "    <tr>\n",
       "      <th>1</th>\n",
       "      <td>UnitPrice</td>\n",
       "      <td>541909.0</td>\n",
       "      <td>4.611114</td>\n",
       "      <td>96.759853</td>\n",
       "      <td>-11062.06</td>\n",
       "      <td>1.25</td>\n",
       "      <td>2.08</td>\n",
       "      <td>4.13</td>\n",
       "      <td>38970.0</td>\n",
       "      <td>0.0</td>\n",
       "      <td>1630</td>\n",
       "    </tr>\n",
       "  </tbody>\n",
       "</table>\n",
       "</div>"
      ],
      "text/plain": [
       "     Feature     count      mean         std       min    Q1  Median     Q3  \\\n",
       "0   Quantity  541909.0  9.552250  218.081158 -80995.00  1.00    3.00  10.00   \n",
       "1  UnitPrice  541909.0  4.611114   96.759853 -11062.06  1.25    2.08   4.13   \n",
       "\n",
       "       max  Missing %  Card.  \n",
       "0  80995.0        0.0    722  \n",
       "1  38970.0        0.0   1630  "
      ]
     },
     "execution_count": 349,
     "metadata": {},
     "output_type": "execute_result"
    }
   ],
   "source": [
    "dqt_num"
   ]
  },
  {
   "cell_type": "markdown",
   "id": "6accaf32",
   "metadata": {},
   "source": [
    "Here we have data quality reports of numerical and categorical variables.\n",
    "\n",
    "- Observation 1: CustomerID has around 25% of missing values. For 0.26% of items 'Description' seems to be missing.\n",
    "- Observation 2: In Data Quality Report of numerical variables, you can see 'Quantity' has a minimum value of -80995.00 and maximum value of 80995. This must be returned/cancelled orders. Even 'UnitPrice' also has a negative value of -11062.06 which is unusual. This also must be representing cancelled/returned orders.\n",
    "- Observation 3: As you can see in 'Country' row, 91.43% of the orders have 'United Kingdom' as country."
   ]
  },
  {
   "cell_type": "markdown",
   "id": "5e1fdd47",
   "metadata": {},
   "source": [
    "Step 1 - As we can't fill up 25% missing values of CustomerID we need to remove them."
   ]
  },
  {
   "cell_type": "code",
   "execution_count": 351,
   "id": "4d249935",
   "metadata": {},
   "outputs": [],
   "source": [
    "data_v1 = data_v1[pd.notnull(data_v1['CustomerID'])] #Removed null values from the data."
   ]
  },
  {
   "cell_type": "code",
   "execution_count": 357,
   "id": "ec5b8bd4",
   "metadata": {},
   "outputs": [
    {
     "data": {
      "text/plain": [
       "0"
      ]
     },
     "execution_count": 357,
     "metadata": {},
     "output_type": "execute_result"
    }
   ],
   "source": [
    "data_v1['Description'].isnull().sum() \n",
    "#As you can see when we removed values having null CustomerID, values with null description also got removed."
   ]
  },
  {
   "cell_type": "markdown",
   "id": "e4ffecaa",
   "metadata": {},
   "source": [
    "Step 2 - Keeping values belonging to 'United Kingdom' as 'Country'"
   ]
  },
  {
   "cell_type": "code",
   "execution_count": 362,
   "id": "4faaeb6b",
   "metadata": {},
   "outputs": [],
   "source": [
    "data_v1 = data_v1[data_v1['Country'] == 'United Kingdom']"
   ]
  },
  {
   "cell_type": "markdown",
   "id": "fd2fc284",
   "metadata": {},
   "source": [
    "Step 3 - Removing negative values from 'Quantity' and 'UnitPrice'."
   ]
  },
  {
   "cell_type": "code",
   "execution_count": 364,
   "id": "d77c6611",
   "metadata": {},
   "outputs": [],
   "source": [
    "data_v1 = data_v1[data_v1['Quantity'] > 0]\n",
    "data_v1 = data_v1[data_v1['UnitPrice'] > 0]"
   ]
  },
  {
   "cell_type": "markdown",
   "id": "438eae45",
   "metadata": {},
   "source": [
    "Now only one column to work with is remaining which is 'InvoiceDate'. It is a column having datetime values. Let us see how we can deal with it."
   ]
  },
  {
   "cell_type": "code",
   "execution_count": 370,
   "id": "335cc038",
   "metadata": {},
   "outputs": [],
   "source": [
    "import datetime as dt"
   ]
  },
  {
   "cell_type": "code",
   "execution_count": 371,
   "id": "a5d824a8",
   "metadata": {},
   "outputs": [],
   "source": [
    "data_v1['InvoiceDate'] = pd.to_datetime(data_v1['InvoiceDate'])"
   ]
  },
  {
   "cell_type": "code",
   "execution_count": 373,
   "id": "4536e9fd",
   "metadata": {},
   "outputs": [],
   "source": [
    "data_v1['InvoiceYearMonth'] = data_v1['InvoiceDate'].map(lambda date: 100*date.year + date.month)"
   ]
  },
  {
   "cell_type": "code",
   "execution_count": 375,
   "id": "9529c00c",
   "metadata": {},
   "outputs": [],
   "source": [
    "data_v1['Date'] = data_v1['InvoiceDate'].dt.strftime('%Y-%m')"
   ]
  },
  {
   "cell_type": "code",
   "execution_count": 377,
   "id": "69a157e1",
   "metadata": {},
   "outputs": [
    {
     "name": "stdout",
     "output_type": "stream",
     "text": [
      "2011-12\n",
      "2010-12\n"
     ]
    }
   ],
   "source": [
    "#Let's check the stats of this column.\n",
    "print(max(data_v1['Date']))\n",
    "print(min(data_v1['Date']))"
   ]
  },
  {
   "cell_type": "markdown",
   "id": "a28b65e3",
   "metadata": {},
   "source": [
    "As you can see this data is between the year 2010 and 2011. That is, this data is distributed over a year."
   ]
  },
  {
   "cell_type": "code",
   "execution_count": 378,
   "id": "0e8763e6",
   "metadata": {},
   "outputs": [
    {
     "name": "stdout",
     "output_type": "stream",
     "text": [
      "<class 'pandas.core.frame.DataFrame'>\n",
      "Int64Index: 354321 entries, 0 to 541893\n",
      "Data columns (total 10 columns):\n",
      " #   Column            Non-Null Count   Dtype         \n",
      "---  ------            --------------   -----         \n",
      " 0   InvoiceNo         354321 non-null  object        \n",
      " 1   StockCode         354321 non-null  object        \n",
      " 2   Description       354321 non-null  object        \n",
      " 3   Quantity          354321 non-null  int64         \n",
      " 4   InvoiceDate       354321 non-null  datetime64[ns]\n",
      " 5   UnitPrice         354321 non-null  float64       \n",
      " 6   CustomerID        354321 non-null  float64       \n",
      " 7   Country           354321 non-null  object        \n",
      " 8   InvoiceYearMonth  354321 non-null  int64         \n",
      " 9   Date              354321 non-null  object        \n",
      "dtypes: datetime64[ns](1), float64(2), int64(2), object(5)\n",
      "memory usage: 37.8+ MB\n"
     ]
    }
   ],
   "source": [
    "data_v1.info()"
   ]
  },
  {
   "cell_type": "markdown",
   "id": "40c1f1e5",
   "metadata": {},
   "source": [
    "### Performing EDA"
   ]
  },
  {
   "cell_type": "markdown",
   "id": "72bd4fe6",
   "metadata": {},
   "source": [
    "Let us analyze CustomerID first."
   ]
  },
  {
   "cell_type": "code",
   "execution_count": 379,
   "id": "7161db48",
   "metadata": {},
   "outputs": [],
   "source": [
    "data_v2 = data_v1"
   ]
  },
  {
   "cell_type": "code",
   "execution_count": 383,
   "id": "bafbdc0c",
   "metadata": {},
   "outputs": [
    {
     "name": "stdout",
     "output_type": "stream",
     "text": [
      "Number of unique customers: 3920\n",
      "Total number of entries: 354321\n"
     ]
    }
   ],
   "source": [
    "print(\"Number of unique customers: {}\".format(data_v2['CustomerID'].nunique()))\n",
    "print(\"Total number of entries: {}\".format(len(data_v2['CustomerID'])))"
   ]
  },
  {
   "cell_type": "markdown",
   "id": "af198e8c",
   "metadata": {},
   "source": [
    "- Observation: As you can see the number of entries are far greater than number of unique customers. According to our data quality report, CustomerID = 17841, has most number of orders."
   ]
  },
  {
   "cell_type": "markdown",
   "id": "e9ad1fcc",
   "metadata": {},
   "source": [
    "Let's see the trend of customers spending their money over a period of a year."
   ]
  },
  {
   "cell_type": "code",
   "execution_count": 389,
   "id": "c483a2b2",
   "metadata": {},
   "outputs": [],
   "source": [
    "#First we will have to calculate total spending of customers.\n",
    "#For that let's multiply Quantity by UnitPrice for every customer.\n",
    "data_v2['AmountSpent'] = data_v2['Quantity']*data_v2['UnitPrice']"
   ]
  },
  {
   "cell_type": "code",
   "execution_count": 391,
   "id": "f7f38dcf",
   "metadata": {},
   "outputs": [],
   "source": [
    "amount_date = data_v2.groupby(['Date'])['AmountSpent'].sum().to_frame()"
   ]
  },
  {
   "cell_type": "code",
   "execution_count": 393,
   "id": "ac30e59c",
   "metadata": {},
   "outputs": [],
   "source": [
    "amount_date.reset_index(inplace=True)"
   ]
  },
  {
   "cell_type": "code",
   "execution_count": 403,
   "id": "113f26df",
   "metadata": {},
   "outputs": [
    {
     "data": {
      "text/plain": [
       "[Text(0.5, 0, 'Months'), Text(0, 0.5, 'Amount spent (normalized)')]"
      ]
     },
     "execution_count": 403,
     "metadata": {},
     "output_type": "execute_result"
    },
    {
     "data": {
      "image/png": "[encoded data removed]",
      "text/plain": [
       "<Figure size 1080x576 with 1 Axes>"
      ]
     },
     "metadata": {
      "needs_background": "light"
     },
     "output_type": "display_data"
    }
   ],
   "source": [
    "#Let's plot total amount spent vs months\n",
    "plt.figure(figsize=[15,8])\n",
    "ax1 = sns.lineplot(x=amount_date['Date'], y=amount_date['AmountSpent'], marker = 'o')\n",
    "ax1.set(xlabel='Months', ylabel='Amount spent (normalized)')"
   ]
  },
  {
   "cell_type": "code",
   "execution_count": 411,
   "id": "a2f77c36",
   "metadata": {},
   "outputs": [
    {
     "data": {
      "text/plain": [
       "1947"
      ]
     },
     "execution_count": 411,
     "metadata": {},
     "output_type": "execute_result"
    }
   ],
   "source": [
    "len(data_v2[data_v2['StockCode'] == '85123A']['Description'])"
   ]
  },
  {
   "cell_type": "code",
   "execution_count": 414,
   "id": "f140631d",
   "metadata": {},
   "outputs": [],
   "source": [
    "quantity_date = data_v2.groupby(['Date'])['Quantity'].sum().to_frame()"
   ]
  },
  {
   "cell_type": "code",
   "execution_count": 416,
   "id": "48c6bd76",
   "metadata": {},
   "outputs": [
    {
     "data": {
      "text/html": [
       "<div>\n",
       "<style scoped>\n",
       "    .dataframe tbody tr th:only-of-type {\n",
       "        vertical-align: middle;\n",
       "    }\n",
       "\n",
       "    .dataframe tbody tr th {\n",
       "        vertical-align: top;\n",
       "    }\n",
       "\n",
       "    .dataframe thead th {\n",
       "        text-align: right;\n",
       "    }\n",
       "</style>\n",
       "<table border=\"1\" class=\"dataframe\">\n",
       "  <thead>\n",
       "    <tr style=\"text-align: right;\">\n",
       "      <th></th>\n",
       "      <th>Date</th>\n",
       "      <th>Quantity</th>\n",
       "    </tr>\n",
       "  </thead>\n",
       "  <tbody>\n",
       "    <tr>\n",
       "      <th>0</th>\n",
       "      <td>2010-12</td>\n",
       "      <td>267767</td>\n",
       "    </tr>\n",
       "    <tr>\n",
       "      <th>1</th>\n",
       "      <td>2011-01</td>\n",
       "      <td>278251</td>\n",
       "    </tr>\n",
       "    <tr>\n",
       "      <th>2</th>\n",
       "      <td>2011-02</td>\n",
       "      <td>213375</td>\n",
       "    </tr>\n",
       "    <tr>\n",
       "      <th>3</th>\n",
       "      <td>2011-03</td>\n",
       "      <td>276304</td>\n",
       "    </tr>\n",
       "    <tr>\n",
       "      <th>4</th>\n",
       "      <td>2011-04</td>\n",
       "      <td>260448</td>\n",
       "    </tr>\n",
       "    <tr>\n",
       "      <th>5</th>\n",
       "      <td>2011-05</td>\n",
       "      <td>301824</td>\n",
       "    </tr>\n",
       "    <tr>\n",
       "      <th>6</th>\n",
       "      <td>2011-06</td>\n",
       "      <td>280974</td>\n",
       "    </tr>\n",
       "    <tr>\n",
       "      <th>7</th>\n",
       "      <td>2011-07</td>\n",
       "      <td>303601</td>\n",
       "    </tr>\n",
       "    <tr>\n",
       "      <th>8</th>\n",
       "      <td>2011-08</td>\n",
       "      <td>310831</td>\n",
       "    </tr>\n",
       "    <tr>\n",
       "      <th>9</th>\n",
       "      <td>2011-09</td>\n",
       "      <td>454559</td>\n",
       "    </tr>\n",
       "    <tr>\n",
       "      <th>10</th>\n",
       "      <td>2011-10</td>\n",
       "      <td>476984</td>\n",
       "    </tr>\n",
       "    <tr>\n",
       "      <th>11</th>\n",
       "      <td>2011-11</td>\n",
       "      <td>571215</td>\n",
       "    </tr>\n",
       "    <tr>\n",
       "      <th>12</th>\n",
       "      <td>2011-12</td>\n",
       "      <td>260607</td>\n",
       "    </tr>\n",
       "  </tbody>\n",
       "</table>\n",
       "</div>"
      ],
      "text/plain": [
       "       Date  Quantity\n",
       "0   2010-12    267767\n",
       "1   2011-01    278251\n",
       "2   2011-02    213375\n",
       "3   2011-03    276304\n",
       "4   2011-04    260448\n",
       "5   2011-05    301824\n",
       "6   2011-06    280974\n",
       "7   2011-07    303601\n",
       "8   2011-08    310831\n",
       "9   2011-09    454559\n",
       "10  2011-10    476984\n",
       "11  2011-11    571215\n",
       "12  2011-12    260607"
      ]
     },
     "execution_count": 416,
     "metadata": {},
     "output_type": "execute_result"
    }
   ],
   "source": [
    "quantity_date.reset_index()"
   ]
  },
  {
   "cell_type": "code",
   "execution_count": 418,
   "id": "194ab67a",
   "metadata": {},
   "outputs": [
    {
     "data": {
      "text/plain": [
       "[Text(0.5, 0, 'Months'), Text(0, 0.5, 'Products Sold')]"
      ]
     },
     "execution_count": 418,
     "metadata": {},
     "output_type": "execute_result"
    },
    {
     "data": {
      "image/png": "[encoded data removed]",
      "text/plain": [
       "<Figure size 1080x576 with 1 Axes>"
      ]
     },
     "metadata": {
      "needs_background": "light"
     },
     "output_type": "display_data"
    }
   ],
   "source": [
    "plt.figure(figsize=[15,8])\n",
    "ax2 = sns.lineplot(data=quantity_date, x='Date', y='Quantity', marker='o')\n",
    "ax2.set(xlabel='Months', ylabel='Products Sold')"
   ]
  },
  {
   "cell_type": "markdown",
   "id": "b00c8bfe",
   "metadata": {},
   "source": [
    "### RFM Analysis:\n",
    "\n",
    "What Is Recency, Frequency, Monetary Value (RFM)?\n",
    "Recency, frequency, monetary value is a marketing analysis tool used to identify a company's or an organization's best customers by measuring and analyzing spending habits.\n",
    "\n",
    "An RFM analysis evaluates clients and customers by scoring them in three categories: how recently they've made a purchase, how often they buy, and the size of their purchases.\n",
    "\n",
    "The RFM model is based on three quantitative factors :-\n",
    "\n",
    "1. Recency: How recently a customer has made a purchase.\n",
    "2. Frequency: How often a customer makes a purchase.\n",
    "3. Monetary Value: How much money a customer spends on purchases.\n",
    "\n",
    "(source: https://www.investopedia.com/terms/r/rfm-recency-frequency-monetary-value.asp)"
   ]
  },
  {
   "cell_type": "code",
   "execution_count": 423,
   "id": "bd4f7763",
   "metadata": {},
   "outputs": [],
   "source": [
    "#Keeping dates only.\n",
    "data_v2['Date'] = pd.DatetimeIndex(data_v2['InvoiceDate']).date"
   ]
  },
  {
   "cell_type": "code",
   "execution_count": 438,
   "id": "22355367",
   "metadata": {},
   "outputs": [],
   "source": [
    "data_recency = data_v2.groupby(['CustomerID'], as_index=False)['Date'].max() "
   ]
  },
  {
   "cell_type": "code",
   "execution_count": 439,
   "id": "2b1e442b",
   "metadata": {},
   "outputs": [
    {
     "data": {
      "text/html": [
       "<div>\n",
       "<style scoped>\n",
       "    .dataframe tbody tr th:only-of-type {\n",
       "        vertical-align: middle;\n",
       "    }\n",
       "\n",
       "    .dataframe tbody tr th {\n",
       "        vertical-align: top;\n",
       "    }\n",
       "\n",
       "    .dataframe thead th {\n",
       "        text-align: right;\n",
       "    }\n",
       "</style>\n",
       "<table border=\"1\" class=\"dataframe\">\n",
       "  <thead>\n",
       "    <tr style=\"text-align: right;\">\n",
       "      <th></th>\n",
       "      <th>CustomerID</th>\n",
       "      <th>Date</th>\n",
       "    </tr>\n",
       "  </thead>\n",
       "  <tbody>\n",
       "    <tr>\n",
       "      <th>0</th>\n",
       "      <td>12346.0</td>\n",
       "      <td>2011-01-18</td>\n",
       "    </tr>\n",
       "    <tr>\n",
       "      <th>1</th>\n",
       "      <td>12747.0</td>\n",
       "      <td>2011-12-07</td>\n",
       "    </tr>\n",
       "    <tr>\n",
       "      <th>2</th>\n",
       "      <td>12748.0</td>\n",
       "      <td>2011-12-09</td>\n",
       "    </tr>\n",
       "    <tr>\n",
       "      <th>3</th>\n",
       "      <td>12749.0</td>\n",
       "      <td>2011-12-06</td>\n",
       "    </tr>\n",
       "    <tr>\n",
       "      <th>4</th>\n",
       "      <td>12820.0</td>\n",
       "      <td>2011-12-06</td>\n",
       "    </tr>\n",
       "    <tr>\n",
       "      <th>...</th>\n",
       "      <td>...</td>\n",
       "      <td>...</td>\n",
       "    </tr>\n",
       "    <tr>\n",
       "      <th>3915</th>\n",
       "      <td>18280.0</td>\n",
       "      <td>2011-03-07</td>\n",
       "    </tr>\n",
       "    <tr>\n",
       "      <th>3916</th>\n",
       "      <td>18281.0</td>\n",
       "      <td>2011-06-12</td>\n",
       "    </tr>\n",
       "    <tr>\n",
       "      <th>3917</th>\n",
       "      <td>18282.0</td>\n",
       "      <td>2011-12-02</td>\n",
       "    </tr>\n",
       "    <tr>\n",
       "      <th>3918</th>\n",
       "      <td>18283.0</td>\n",
       "      <td>2011-12-06</td>\n",
       "    </tr>\n",
       "    <tr>\n",
       "      <th>3919</th>\n",
       "      <td>18287.0</td>\n",
       "      <td>2011-10-28</td>\n",
       "    </tr>\n",
       "  </tbody>\n",
       "</table>\n",
       "<p>3920 rows × 2 columns</p>\n",
       "</div>"
      ],
      "text/plain": [
       "      CustomerID        Date\n",
       "0        12346.0  2011-01-18\n",
       "1        12747.0  2011-12-07\n",
       "2        12748.0  2011-12-09\n",
       "3        12749.0  2011-12-06\n",
       "4        12820.0  2011-12-06\n",
       "...          ...         ...\n",
       "3915     18280.0  2011-03-07\n",
       "3916     18281.0  2011-06-12\n",
       "3917     18282.0  2011-12-02\n",
       "3918     18283.0  2011-12-06\n",
       "3919     18287.0  2011-10-28\n",
       "\n",
       "[3920 rows x 2 columns]"
      ]
     },
     "execution_count": 439,
     "metadata": {},
     "output_type": "execute_result"
    }
   ],
   "source": [
    "data_recency"
   ]
  },
  {
   "cell_type": "code",
   "execution_count": 440,
   "id": "7beacbac",
   "metadata": {},
   "outputs": [
    {
     "data": {
      "text/plain": [
       "datetime.date(2011, 12, 9)"
      ]
     },
     "execution_count": 440,
     "metadata": {},
     "output_type": "execute_result"
    }
   ],
   "source": [
    "max(data_v2['Date'])"
   ]
  },
  {
   "cell_type": "code",
   "execution_count": 450,
   "id": "eb8600b2",
   "metadata": {},
   "outputs": [],
   "source": [
    "last_date = max(data_v2['Date'])"
   ]
  },
  {
   "cell_type": "code",
   "execution_count": 463,
   "id": "22ce147a",
   "metadata": {},
   "outputs": [],
   "source": [
    "data_recency['days_since'] = data_recency['Date'].apply(lambda x: (last_date-x).days)"
   ]
  },
  {
   "cell_type": "code",
   "execution_count": 467,
   "id": "1d33e715",
   "metadata": {},
   "outputs": [],
   "source": [
    "data_recency.drop(['Date'], axis=1, inplace=True)"
   ]
  },
  {
   "cell_type": "code",
   "execution_count": 471,
   "id": "9e792502",
   "metadata": {},
   "outputs": [
    {
     "data": {
      "text/html": [
       "<div>\n",
       "<style scoped>\n",
       "    .dataframe tbody tr th:only-of-type {\n",
       "        vertical-align: middle;\n",
       "    }\n",
       "\n",
       "    .dataframe tbody tr th {\n",
       "        vertical-align: top;\n",
       "    }\n",
       "\n",
       "    .dataframe thead th {\n",
       "        text-align: right;\n",
       "    }\n",
       "</style>\n",
       "<table border=\"1\" class=\"dataframe\">\n",
       "  <thead>\n",
       "    <tr style=\"text-align: right;\">\n",
       "      <th></th>\n",
       "      <th>CustomerID</th>\n",
       "      <th>days_since</th>\n",
       "    </tr>\n",
       "  </thead>\n",
       "  <tbody>\n",
       "    <tr>\n",
       "      <th>0</th>\n",
       "      <td>12346.0</td>\n",
       "      <td>325</td>\n",
       "    </tr>\n",
       "    <tr>\n",
       "      <th>1</th>\n",
       "      <td>12747.0</td>\n",
       "      <td>2</td>\n",
       "    </tr>\n",
       "    <tr>\n",
       "      <th>2</th>\n",
       "      <td>12748.0</td>\n",
       "      <td>0</td>\n",
       "    </tr>\n",
       "    <tr>\n",
       "      <th>3</th>\n",
       "      <td>12749.0</td>\n",
       "      <td>3</td>\n",
       "    </tr>\n",
       "    <tr>\n",
       "      <th>4</th>\n",
       "      <td>12820.0</td>\n",
       "      <td>3</td>\n",
       "    </tr>\n",
       "    <tr>\n",
       "      <th>...</th>\n",
       "      <td>...</td>\n",
       "      <td>...</td>\n",
       "    </tr>\n",
       "    <tr>\n",
       "      <th>3915</th>\n",
       "      <td>18280.0</td>\n",
       "      <td>277</td>\n",
       "    </tr>\n",
       "    <tr>\n",
       "      <th>3916</th>\n",
       "      <td>18281.0</td>\n",
       "      <td>180</td>\n",
       "    </tr>\n",
       "    <tr>\n",
       "      <th>3917</th>\n",
       "      <td>18282.0</td>\n",
       "      <td>7</td>\n",
       "    </tr>\n",
       "    <tr>\n",
       "      <th>3918</th>\n",
       "      <td>18283.0</td>\n",
       "      <td>3</td>\n",
       "    </tr>\n",
       "    <tr>\n",
       "      <th>3919</th>\n",
       "      <td>18287.0</td>\n",
       "      <td>42</td>\n",
       "    </tr>\n",
       "  </tbody>\n",
       "</table>\n",
       "<p>3920 rows × 2 columns</p>\n",
       "</div>"
      ],
      "text/plain": [
       "      CustomerID  days_since\n",
       "0        12346.0         325\n",
       "1        12747.0           2\n",
       "2        12748.0           0\n",
       "3        12749.0           3\n",
       "4        12820.0           3\n",
       "...          ...         ...\n",
       "3915     18280.0         277\n",
       "3916     18281.0         180\n",
       "3917     18282.0           7\n",
       "3918     18283.0           3\n",
       "3919     18287.0          42\n",
       "\n",
       "[3920 rows x 2 columns]"
      ]
     },
     "execution_count": 471,
     "metadata": {},
     "output_type": "execute_result"
    }
   ],
   "source": [
    "data_recency"
   ]
  },
  {
   "cell_type": "markdown",
   "id": "7c0940fb",
   "metadata": {},
   "source": [
    "We just calculated recency. Now let's calculate monetary."
   ]
  },
  {
   "cell_type": "code",
   "execution_count": 489,
   "id": "4b265769",
   "metadata": {},
   "outputs": [],
   "source": [
    "#How much money a customer spends on purchases.\n",
    "data_monetary = data_v2.groupby(['CustomerID'])['AmountSpent'].sum()"
   ]
  },
  {
   "cell_type": "code",
   "execution_count": 490,
   "id": "082ac75a",
   "metadata": {},
   "outputs": [],
   "source": [
    "data_monetary = data_monetary.to_frame()"
   ]
  },
  {
   "cell_type": "code",
   "execution_count": 491,
   "id": "7147f6ef",
   "metadata": {},
   "outputs": [],
   "source": [
    "freqn = data_v2.groupby(['CustomerID']).count()['InvoiceNo'].to_frame()"
   ]
  },
  {
   "cell_type": "code",
   "execution_count": 494,
   "id": "a1a7a330",
   "metadata": {},
   "outputs": [],
   "source": [
    "data_monetary = data_monetary.merge(freqn, on='CustomerID')"
   ]
  },
  {
   "cell_type": "code",
   "execution_count": 498,
   "id": "ecdcca13",
   "metadata": {},
   "outputs": [],
   "source": [
    "RFM_data = data_monetary.merge(data_recency, on='CustomerID')"
   ]
  },
  {
   "cell_type": "code",
   "execution_count": 502,
   "id": "b85034e5",
   "metadata": {},
   "outputs": [],
   "source": [
    "RFM_data.rename({'AmountSpent':'Monetary', 'InvoiceNo':'Frequency', 'days_since':'Recency'}, axis=1, inplace=True)"
   ]
  },
  {
   "cell_type": "code",
   "execution_count": 505,
   "id": "77e8b765",
   "metadata": {},
   "outputs": [],
   "source": [
    "RFM_data = RFM_data[['CustomerID', 'Recency', 'Frequency', 'Monetary' ]]"
   ]
  },
  {
   "cell_type": "code",
   "execution_count": 506,
   "id": "9af9bdfb",
   "metadata": {},
   "outputs": [
    {
     "data": {
      "text/html": [
       "<div>\n",
       "<style scoped>\n",
       "    .dataframe tbody tr th:only-of-type {\n",
       "        vertical-align: middle;\n",
       "    }\n",
       "\n",
       "    .dataframe tbody tr th {\n",
       "        vertical-align: top;\n",
       "    }\n",
       "\n",
       "    .dataframe thead th {\n",
       "        text-align: right;\n",
       "    }\n",
       "</style>\n",
       "<table border=\"1\" class=\"dataframe\">\n",
       "  <thead>\n",
       "    <tr style=\"text-align: right;\">\n",
       "      <th></th>\n",
       "      <th>CustomerID</th>\n",
       "      <th>Recency</th>\n",
       "      <th>Frequency</th>\n",
       "      <th>Monetary</th>\n",
       "    </tr>\n",
       "  </thead>\n",
       "  <tbody>\n",
       "    <tr>\n",
       "      <th>0</th>\n",
       "      <td>12346.0</td>\n",
       "      <td>325</td>\n",
       "      <td>1</td>\n",
       "      <td>77183.60</td>\n",
       "    </tr>\n",
       "    <tr>\n",
       "      <th>1</th>\n",
       "      <td>12747.0</td>\n",
       "      <td>2</td>\n",
       "      <td>103</td>\n",
       "      <td>4196.01</td>\n",
       "    </tr>\n",
       "    <tr>\n",
       "      <th>2</th>\n",
       "      <td>12748.0</td>\n",
       "      <td>0</td>\n",
       "      <td>4595</td>\n",
       "      <td>33719.73</td>\n",
       "    </tr>\n",
       "    <tr>\n",
       "      <th>3</th>\n",
       "      <td>12749.0</td>\n",
       "      <td>3</td>\n",
       "      <td>199</td>\n",
       "      <td>4090.88</td>\n",
       "    </tr>\n",
       "    <tr>\n",
       "      <th>4</th>\n",
       "      <td>12820.0</td>\n",
       "      <td>3</td>\n",
       "      <td>59</td>\n",
       "      <td>942.34</td>\n",
       "    </tr>\n",
       "    <tr>\n",
       "      <th>...</th>\n",
       "      <td>...</td>\n",
       "      <td>...</td>\n",
       "      <td>...</td>\n",
       "      <td>...</td>\n",
       "    </tr>\n",
       "    <tr>\n",
       "      <th>3915</th>\n",
       "      <td>18280.0</td>\n",
       "      <td>277</td>\n",
       "      <td>10</td>\n",
       "      <td>180.60</td>\n",
       "    </tr>\n",
       "    <tr>\n",
       "      <th>3916</th>\n",
       "      <td>18281.0</td>\n",
       "      <td>180</td>\n",
       "      <td>7</td>\n",
       "      <td>80.82</td>\n",
       "    </tr>\n",
       "    <tr>\n",
       "      <th>3917</th>\n",
       "      <td>18282.0</td>\n",
       "      <td>7</td>\n",
       "      <td>12</td>\n",
       "      <td>178.05</td>\n",
       "    </tr>\n",
       "    <tr>\n",
       "      <th>3918</th>\n",
       "      <td>18283.0</td>\n",
       "      <td>3</td>\n",
       "      <td>756</td>\n",
       "      <td>2094.88</td>\n",
       "    </tr>\n",
       "    <tr>\n",
       "      <th>3919</th>\n",
       "      <td>18287.0</td>\n",
       "      <td>42</td>\n",
       "      <td>70</td>\n",
       "      <td>1837.28</td>\n",
       "    </tr>\n",
       "  </tbody>\n",
       "</table>\n",
       "<p>3920 rows × 4 columns</p>\n",
       "</div>"
      ],
      "text/plain": [
       "      CustomerID  Recency  Frequency  Monetary\n",
       "0        12346.0      325          1  77183.60\n",
       "1        12747.0        2        103   4196.01\n",
       "2        12748.0        0       4595  33719.73\n",
       "3        12749.0        3        199   4090.88\n",
       "4        12820.0        3         59    942.34\n",
       "...          ...      ...        ...       ...\n",
       "3915     18280.0      277         10    180.60\n",
       "3916     18281.0      180          7     80.82\n",
       "3917     18282.0        7         12    178.05\n",
       "3918     18283.0        3        756   2094.88\n",
       "3919     18287.0       42         70   1837.28\n",
       "\n",
       "[3920 rows x 4 columns]"
      ]
     },
     "execution_count": 506,
     "metadata": {},
     "output_type": "execute_result"
    }
   ],
   "source": [
    "RFM_data"
   ]
  },
  {
   "cell_type": "markdown",
   "id": "d4ef21aa",
   "metadata": {},
   "source": [
    "### Modeling Data"
   ]
  },
  {
   "cell_type": "markdown",
   "id": "903ff61d",
   "metadata": {},
   "source": [
    "Let's divide the RFM data in quantiles and assign values to the customers between 1 to 4 for all the three sections by comparing values to the quantiles. Here 4 will be the highest and 1 will be the lowest."
   ]
  },
  {
   "cell_type": "code",
   "execution_count": 512,
   "id": "34b81254",
   "metadata": {},
   "outputs": [],
   "source": [
    "quantiles = RFM_data.quantile([0.25,0.50,0.75])"
   ]
  },
  {
   "cell_type": "code",
   "execution_count": 513,
   "id": "4ca5de33",
   "metadata": {},
   "outputs": [],
   "source": [
    "quantiles = quantiles.to_dict()"
   ]
  },
  {
   "cell_type": "code",
   "execution_count": 515,
   "id": "ce7ac4df",
   "metadata": {},
   "outputs": [
    {
     "data": {
      "text/plain": [
       "{0.25: 14208.75, 0.5: 15569.5, 0.75: 16913.25}"
      ]
     },
     "execution_count": 515,
     "metadata": {},
     "output_type": "execute_result"
    }
   ],
   "source": [
    "quantiles.pop('CustomerID')"
   ]
  },
  {
   "cell_type": "code",
   "execution_count": 519,
   "id": "fbc63220",
   "metadata": {},
   "outputs": [
    {
     "data": {
      "text/plain": [
       "17.0"
      ]
     },
     "execution_count": 519,
     "metadata": {},
     "output_type": "execute_result"
    }
   ],
   "source": [
    "quantiles['Recency'][0.25]"
   ]
  },
  {
   "cell_type": "code",
   "execution_count": 522,
   "id": "7cbd101d",
   "metadata": {},
   "outputs": [],
   "source": [
    "#Let's write functions for calculating RFM scores.\n",
    "\n",
    "def calcRscore(current, R, quant):\n",
    "    if quant[R][0.25] >= current:\n",
    "        return 1\n",
    "    elif quant[R][0.50] >= current:\n",
    "        return 2\n",
    "    elif quant[R][0.75] >= current:\n",
    "        return 3\n",
    "    else:\n",
    "        return 4\n",
    "    \n",
    "def calcFMscore(current, FM, quant):\n",
    "    if quant[FM][0.25] >= current:\n",
    "        return 4\n",
    "    elif quant[FM][0.50] >= current:\n",
    "        return 3\n",
    "    elif quant[FM][0.75] >= current:\n",
    "        return 2\n",
    "    else:\n",
    "        return 1"
   ]
  },
  {
   "cell_type": "code",
   "execution_count": 527,
   "id": "0f7952f3",
   "metadata": {},
   "outputs": [],
   "source": [
    "custom_segments = RFM_data.copy()"
   ]
  },
  {
   "cell_type": "code",
   "execution_count": 535,
   "id": "61a9333a",
   "metadata": {},
   "outputs": [],
   "source": [
    "custom_segments['R_score'] = custom_segments['Recency'].apply(calcRscore, args=['Recency', quantiles])\n",
    "custom_segments['F_score'] = custom_segments['Frequency'].apply(calcFMscore, args=['Frequency', quantiles])\n",
    "custom_segments['M_score'] = custom_segments['Monetary'].apply(calcFMscore, args=['Monetary', quantiles])"
   ]
  },
  {
   "cell_type": "code",
   "execution_count": null,
   "id": "5172b48c",
   "metadata": {},
   "outputs": [],
   "source": []
  }
 ],
 "metadata": {
  "kernelspec": {
   "display_name": "Python 3",
   "language": "python",
   "name": "python3"
  },
  "language_info": {
   "codemirror_mode": {
    "name": "ipython",
    "version": 3
   },
   "file_extension": ".py",
   "mimetype": "text/x-python",
   "name": "python",
   "nbconvert_exporter": "python",
   "pygments_lexer": "ipython3",
   "version": "3.8.8"
  }
 },
 "nbformat": 4,
 "nbformat_minor": 5
}
