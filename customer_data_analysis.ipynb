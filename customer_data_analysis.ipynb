{
 "cells": [
  {
   "cell_type": "markdown",
   "id": "d966e492",
   "metadata": {},
   "source": [
    "#### Expected Outcome:\n",
    "- Know how many product sold every month.\n",
    "- Know how much customer spend their money every month.\n",
    "- Customer segmentation analysis.\n",
    "- Recommendation based on customer segmentation."
   ]
  },
  {
   "cell_type": "markdown",
   "id": "df83cdc3",
   "metadata": {},
   "source": [
    "#### This project will follow CRISP-DM process."
   ]
  },
  {
   "cell_type": "code",
   "execution_count": 1,
   "id": "65d38d62",
   "metadata": {},
   "outputs": [],
   "source": [
    "# Let's get the data. \n",
    "# source: https://archive.ics.uci.edu/ml/datasets/Online+Retail\n",
    "import pandas as pd\n",
    "import numpy as np\n",
    "import matplotlib.pyplot as plt\n",
    "import seaborn as sns"
   ]
  },
  {
   "cell_type": "code",
   "execution_count": 2,
   "id": "ced27504",
   "metadata": {},
   "outputs": [],
   "source": [
    "data_v1 = pd.read_excel('retail_data.xlsx')"
   ]
  },
  {
   "cell_type": "code",
   "execution_count": 3,
   "id": "7b0afdc0",
   "metadata": {},
   "outputs": [
    {
     "data": {
      "text/html": [
       "<div>\n",
       "<style scoped>\n",
       "    .dataframe tbody tr th:only-of-type {\n",
       "        vertical-align: middle;\n",
       "    }\n",
       "\n",
       "    .dataframe tbody tr th {\n",
       "        vertical-align: top;\n",
       "    }\n",
       "\n",
       "    .dataframe thead th {\n",
       "        text-align: right;\n",
       "    }\n",
       "</style>\n",
       "<table border=\"1\" class=\"dataframe\">\n",
       "  <thead>\n",
       "    <tr style=\"text-align: right;\">\n",
       "      <th></th>\n",
       "      <th>InvoiceNo</th>\n",
       "      <th>StockCode</th>\n",
       "      <th>Description</th>\n",
       "      <th>Quantity</th>\n",
       "      <th>InvoiceDate</th>\n",
       "      <th>UnitPrice</th>\n",
       "      <th>CustomerID</th>\n",
       "      <th>Country</th>\n",
       "    </tr>\n",
       "  </thead>\n",
       "  <tbody>\n",
       "    <tr>\n",
       "      <th>0</th>\n",
       "      <td>536365</td>\n",
       "      <td>85123A</td>\n",
       "      <td>WHITE HANGING HEART T-LIGHT HOLDER</td>\n",
       "      <td>6</td>\n",
       "      <td>2010-12-01 08:26:00</td>\n",
       "      <td>2.55</td>\n",
       "      <td>17850.0</td>\n",
       "      <td>United Kingdom</td>\n",
       "    </tr>\n",
       "    <tr>\n",
       "      <th>1</th>\n",
       "      <td>536365</td>\n",
       "      <td>71053</td>\n",
       "      <td>WHITE METAL LANTERN</td>\n",
       "      <td>6</td>\n",
       "      <td>2010-12-01 08:26:00</td>\n",
       "      <td>3.39</td>\n",
       "      <td>17850.0</td>\n",
       "      <td>United Kingdom</td>\n",
       "    </tr>\n",
       "    <tr>\n",
       "      <th>2</th>\n",
       "      <td>536365</td>\n",
       "      <td>84406B</td>\n",
       "      <td>CREAM CUPID HEARTS COAT HANGER</td>\n",
       "      <td>8</td>\n",
       "      <td>2010-12-01 08:26:00</td>\n",
       "      <td>2.75</td>\n",
       "      <td>17850.0</td>\n",
       "      <td>United Kingdom</td>\n",
       "    </tr>\n",
       "    <tr>\n",
       "      <th>3</th>\n",
       "      <td>536365</td>\n",
       "      <td>84029G</td>\n",
       "      <td>KNITTED UNION FLAG HOT WATER BOTTLE</td>\n",
       "      <td>6</td>\n",
       "      <td>2010-12-01 08:26:00</td>\n",
       "      <td>3.39</td>\n",
       "      <td>17850.0</td>\n",
       "      <td>United Kingdom</td>\n",
       "    </tr>\n",
       "    <tr>\n",
       "      <th>4</th>\n",
       "      <td>536365</td>\n",
       "      <td>84029E</td>\n",
       "      <td>RED WOOLLY HOTTIE WHITE HEART.</td>\n",
       "      <td>6</td>\n",
       "      <td>2010-12-01 08:26:00</td>\n",
       "      <td>3.39</td>\n",
       "      <td>17850.0</td>\n",
       "      <td>United Kingdom</td>\n",
       "    </tr>\n",
       "    <tr>\n",
       "      <th>5</th>\n",
       "      <td>536365</td>\n",
       "      <td>22752</td>\n",
       "      <td>SET 7 BABUSHKA NESTING BOXES</td>\n",
       "      <td>2</td>\n",
       "      <td>2010-12-01 08:26:00</td>\n",
       "      <td>7.65</td>\n",
       "      <td>17850.0</td>\n",
       "      <td>United Kingdom</td>\n",
       "    </tr>\n",
       "    <tr>\n",
       "      <th>6</th>\n",
       "      <td>536365</td>\n",
       "      <td>21730</td>\n",
       "      <td>GLASS STAR FROSTED T-LIGHT HOLDER</td>\n",
       "      <td>6</td>\n",
       "      <td>2010-12-01 08:26:00</td>\n",
       "      <td>4.25</td>\n",
       "      <td>17850.0</td>\n",
       "      <td>United Kingdom</td>\n",
       "    </tr>\n",
       "    <tr>\n",
       "      <th>7</th>\n",
       "      <td>536366</td>\n",
       "      <td>22633</td>\n",
       "      <td>HAND WARMER UNION JACK</td>\n",
       "      <td>6</td>\n",
       "      <td>2010-12-01 08:28:00</td>\n",
       "      <td>1.85</td>\n",
       "      <td>17850.0</td>\n",
       "      <td>United Kingdom</td>\n",
       "    </tr>\n",
       "    <tr>\n",
       "      <th>8</th>\n",
       "      <td>536366</td>\n",
       "      <td>22632</td>\n",
       "      <td>HAND WARMER RED POLKA DOT</td>\n",
       "      <td>6</td>\n",
       "      <td>2010-12-01 08:28:00</td>\n",
       "      <td>1.85</td>\n",
       "      <td>17850.0</td>\n",
       "      <td>United Kingdom</td>\n",
       "    </tr>\n",
       "    <tr>\n",
       "      <th>9</th>\n",
       "      <td>536367</td>\n",
       "      <td>84879</td>\n",
       "      <td>ASSORTED COLOUR BIRD ORNAMENT</td>\n",
       "      <td>32</td>\n",
       "      <td>2010-12-01 08:34:00</td>\n",
       "      <td>1.69</td>\n",
       "      <td>13047.0</td>\n",
       "      <td>United Kingdom</td>\n",
       "    </tr>\n",
       "  </tbody>\n",
       "</table>\n",
       "</div>"
      ],
      "text/plain": [
       "  InvoiceNo StockCode                          Description  Quantity  \\\n",
       "0    536365    85123A   WHITE HANGING HEART T-LIGHT HOLDER         6   \n",
       "1    536365     71053                  WHITE METAL LANTERN         6   \n",
       "2    536365    84406B       CREAM CUPID HEARTS COAT HANGER         8   \n",
       "3    536365    84029G  KNITTED UNION FLAG HOT WATER BOTTLE         6   \n",
       "4    536365    84029E       RED WOOLLY HOTTIE WHITE HEART.         6   \n",
       "5    536365     22752         SET 7 BABUSHKA NESTING BOXES         2   \n",
       "6    536365     21730    GLASS STAR FROSTED T-LIGHT HOLDER         6   \n",
       "7    536366     22633               HAND WARMER UNION JACK         6   \n",
       "8    536366     22632            HAND WARMER RED POLKA DOT         6   \n",
       "9    536367     84879        ASSORTED COLOUR BIRD ORNAMENT        32   \n",
       "\n",
       "          InvoiceDate  UnitPrice  CustomerID         Country  \n",
       "0 2010-12-01 08:26:00       2.55     17850.0  United Kingdom  \n",
       "1 2010-12-01 08:26:00       3.39     17850.0  United Kingdom  \n",
       "2 2010-12-01 08:26:00       2.75     17850.0  United Kingdom  \n",
       "3 2010-12-01 08:26:00       3.39     17850.0  United Kingdom  \n",
       "4 2010-12-01 08:26:00       3.39     17850.0  United Kingdom  \n",
       "5 2010-12-01 08:26:00       7.65     17850.0  United Kingdom  \n",
       "6 2010-12-01 08:26:00       4.25     17850.0  United Kingdom  \n",
       "7 2010-12-01 08:28:00       1.85     17850.0  United Kingdom  \n",
       "8 2010-12-01 08:28:00       1.85     17850.0  United Kingdom  \n",
       "9 2010-12-01 08:34:00       1.69     13047.0  United Kingdom  "
      ]
     },
     "execution_count": 3,
     "metadata": {},
     "output_type": "execute_result"
    }
   ],
   "source": [
    "data_v1.head(10)"
   ]
  },
  {
   "cell_type": "code",
   "execution_count": 6,
   "id": "e1312657",
   "metadata": {},
   "outputs": [
    {
     "data": {
      "text/plain": [
       "Index(['InvoiceNo', 'StockCode', 'Description', 'Quantity', 'InvoiceDate',\n",
       "       'UnitPrice', 'CustomerID', 'Country'],\n",
       "      dtype='object')"
      ]
     },
     "execution_count": 6,
     "metadata": {},
     "output_type": "execute_result"
    }
   ],
   "source": [
    "data_v1.columns"
   ]
  },
  {
   "cell_type": "markdown",
   "id": "1c321dbf",
   "metadata": {},
   "source": [
    "#### First task is to create a data quality report of the available data."
   ]
  },
  {
   "cell_type": "markdown",
   "id": "2da89bb4",
   "metadata": {},
   "source": [
    "- InvoiceNo: Invoice number. Nominal, a 6-digit integral number uniquely assigned to each transaction. If this code starts with letter 'c', it indicates a cancellation. \n",
    "- StockCode: Product (item) code. Nominal, a 5-digit integral number uniquely assigned to each distinct product. \n",
    "- Description: Product (item) name. Nominal. \n",
    "- Quantity: The quantities of each product (item) per transaction. Numeric. \n",
    "- InvoiceDate: Invice Date and time. Numeric, the day and time when each transaction was generated. \n",
    "- UnitPrice: Unit price. Numeric, Product price per unit in sterling. \n",
    "- CustomerID: Customer number. Nominal, a 5-digit integral number uniquely assigned to each customer. \n",
    "- Country: Country name. Nominal, the name of the country where each customer resides."
   ]
  },
  {
   "cell_type": "code",
   "execution_count": 52,
   "id": "cfadea0e",
   "metadata": {},
   "outputs": [],
   "source": [
    "categorical_f = ['InvoiceNo', 'StockCode', 'Description', 'CustomerID', 'Country']\n",
    "numerical_f = ['Quantity', 'UnitPrice']\n",
    "#We will deal with InvoiceDate seperately"
   ]
  },
  {
   "cell_type": "markdown",
   "id": "98d901ac",
   "metadata": {},
   "source": [
    "As we can see there are total 5 nominal variables and 3 numeric variables. We will create a seperate data quality report for both."
   ]
  },
  {
   "cell_type": "code",
   "execution_count": 53,
   "id": "49d2d04f",
   "metadata": {},
   "outputs": [],
   "source": [
    "## For numeric variables"
   ]
  },
  {
   "cell_type": "code",
   "execution_count": 54,
   "id": "ff7fa7e2",
   "metadata": {},
   "outputs": [
    {
     "data": {
      "text/html": [
       "<div>\n",
       "<style scoped>\n",
       "    .dataframe tbody tr th:only-of-type {\n",
       "        vertical-align: middle;\n",
       "    }\n",
       "\n",
       "    .dataframe tbody tr th {\n",
       "        vertical-align: top;\n",
       "    }\n",
       "\n",
       "    .dataframe thead th {\n",
       "        text-align: right;\n",
       "    }\n",
       "</style>\n",
       "<table border=\"1\" class=\"dataframe\">\n",
       "  <thead>\n",
       "    <tr style=\"text-align: right;\">\n",
       "      <th></th>\n",
       "      <th>Quantity</th>\n",
       "      <th>UnitPrice</th>\n",
       "      <th>CustomerID</th>\n",
       "    </tr>\n",
       "  </thead>\n",
       "  <tbody>\n",
       "    <tr>\n",
       "      <th>count</th>\n",
       "      <td>541909.000000</td>\n",
       "      <td>541909.000000</td>\n",
       "      <td>406829.000000</td>\n",
       "    </tr>\n",
       "    <tr>\n",
       "      <th>mean</th>\n",
       "      <td>9.552250</td>\n",
       "      <td>4.611114</td>\n",
       "      <td>15287.690570</td>\n",
       "    </tr>\n",
       "    <tr>\n",
       "      <th>std</th>\n",
       "      <td>218.081158</td>\n",
       "      <td>96.759853</td>\n",
       "      <td>1713.600303</td>\n",
       "    </tr>\n",
       "    <tr>\n",
       "      <th>min</th>\n",
       "      <td>-80995.000000</td>\n",
       "      <td>-11062.060000</td>\n",
       "      <td>12346.000000</td>\n",
       "    </tr>\n",
       "    <tr>\n",
       "      <th>25%</th>\n",
       "      <td>1.000000</td>\n",
       "      <td>1.250000</td>\n",
       "      <td>13953.000000</td>\n",
       "    </tr>\n",
       "    <tr>\n",
       "      <th>50%</th>\n",
       "      <td>3.000000</td>\n",
       "      <td>2.080000</td>\n",
       "      <td>15152.000000</td>\n",
       "    </tr>\n",
       "    <tr>\n",
       "      <th>75%</th>\n",
       "      <td>10.000000</td>\n",
       "      <td>4.130000</td>\n",
       "      <td>16791.000000</td>\n",
       "    </tr>\n",
       "    <tr>\n",
       "      <th>max</th>\n",
       "      <td>80995.000000</td>\n",
       "      <td>38970.000000</td>\n",
       "      <td>18287.000000</td>\n",
       "    </tr>\n",
       "  </tbody>\n",
       "</table>\n",
       "</div>"
      ],
      "text/plain": [
       "            Quantity      UnitPrice     CustomerID\n",
       "count  541909.000000  541909.000000  406829.000000\n",
       "mean        9.552250       4.611114   15287.690570\n",
       "std       218.081158      96.759853    1713.600303\n",
       "min    -80995.000000  -11062.060000   12346.000000\n",
       "25%         1.000000       1.250000   13953.000000\n",
       "50%         3.000000       2.080000   15152.000000\n",
       "75%        10.000000       4.130000   16791.000000\n",
       "max     80995.000000   38970.000000   18287.000000"
      ]
     },
     "execution_count": 54,
     "metadata": {},
     "output_type": "execute_result"
    }
   ],
   "source": [
    "data_v1.describe()"
   ]
  },
  {
   "cell_type": "code",
   "execution_count": 55,
   "id": "9d06b4bf",
   "metadata": {},
   "outputs": [],
   "source": [
    "dqt_num = data_v1.describe().transpose()"
   ]
  },
  {
   "cell_type": "code",
   "execution_count": 56,
   "id": "fa9cba4f",
   "metadata": {},
   "outputs": [
    {
     "data": {
      "text/html": [
       "<div>\n",
       "<style scoped>\n",
       "    .dataframe tbody tr th:only-of-type {\n",
       "        vertical-align: middle;\n",
       "    }\n",
       "\n",
       "    .dataframe tbody tr th {\n",
       "        vertical-align: top;\n",
       "    }\n",
       "\n",
       "    .dataframe thead th {\n",
       "        text-align: right;\n",
       "    }\n",
       "</style>\n",
       "<table border=\"1\" class=\"dataframe\">\n",
       "  <thead>\n",
       "    <tr style=\"text-align: right;\">\n",
       "      <th></th>\n",
       "      <th>count</th>\n",
       "      <th>mean</th>\n",
       "      <th>std</th>\n",
       "      <th>min</th>\n",
       "      <th>25%</th>\n",
       "      <th>50%</th>\n",
       "      <th>75%</th>\n",
       "      <th>max</th>\n",
       "    </tr>\n",
       "  </thead>\n",
       "  <tbody>\n",
       "    <tr>\n",
       "      <th>Quantity</th>\n",
       "      <td>541909.0</td>\n",
       "      <td>9.552250</td>\n",
       "      <td>218.081158</td>\n",
       "      <td>-80995.00</td>\n",
       "      <td>1.00</td>\n",
       "      <td>3.00</td>\n",
       "      <td>10.00</td>\n",
       "      <td>80995.0</td>\n",
       "    </tr>\n",
       "    <tr>\n",
       "      <th>UnitPrice</th>\n",
       "      <td>541909.0</td>\n",
       "      <td>4.611114</td>\n",
       "      <td>96.759853</td>\n",
       "      <td>-11062.06</td>\n",
       "      <td>1.25</td>\n",
       "      <td>2.08</td>\n",
       "      <td>4.13</td>\n",
       "      <td>38970.0</td>\n",
       "    </tr>\n",
       "    <tr>\n",
       "      <th>CustomerID</th>\n",
       "      <td>406829.0</td>\n",
       "      <td>15287.690570</td>\n",
       "      <td>1713.600303</td>\n",
       "      <td>12346.00</td>\n",
       "      <td>13953.00</td>\n",
       "      <td>15152.00</td>\n",
       "      <td>16791.00</td>\n",
       "      <td>18287.0</td>\n",
       "    </tr>\n",
       "  </tbody>\n",
       "</table>\n",
       "</div>"
      ],
      "text/plain": [
       "               count          mean          std       min       25%       50%  \\\n",
       "Quantity    541909.0      9.552250   218.081158 -80995.00      1.00      3.00   \n",
       "UnitPrice   541909.0      4.611114    96.759853 -11062.06      1.25      2.08   \n",
       "CustomerID  406829.0  15287.690570  1713.600303  12346.00  13953.00  15152.00   \n",
       "\n",
       "                 75%      max  \n",
       "Quantity       10.00  80995.0  \n",
       "UnitPrice       4.13  38970.0  \n",
       "CustomerID  16791.00  18287.0  "
      ]
     },
     "execution_count": 56,
     "metadata": {},
     "output_type": "execute_result"
    }
   ],
   "source": [
    "dqt_num"
   ]
  },
  {
   "cell_type": "code",
   "execution_count": 57,
   "id": "f095dca7",
   "metadata": {},
   "outputs": [],
   "source": [
    "dqt_num.reset_index(inplace=True)"
   ]
  },
  {
   "cell_type": "code",
   "execution_count": 58,
   "id": "ddbd33d8",
   "metadata": {},
   "outputs": [
    {
     "data": {
      "text/html": [
       "<div>\n",
       "<style scoped>\n",
       "    .dataframe tbody tr th:only-of-type {\n",
       "        vertical-align: middle;\n",
       "    }\n",
       "\n",
       "    .dataframe tbody tr th {\n",
       "        vertical-align: top;\n",
       "    }\n",
       "\n",
       "    .dataframe thead th {\n",
       "        text-align: right;\n",
       "    }\n",
       "</style>\n",
       "<table border=\"1\" class=\"dataframe\">\n",
       "  <thead>\n",
       "    <tr style=\"text-align: right;\">\n",
       "      <th></th>\n",
       "      <th>Feature</th>\n",
       "      <th>count</th>\n",
       "      <th>mean</th>\n",
       "      <th>std</th>\n",
       "      <th>min</th>\n",
       "      <th>25%</th>\n",
       "      <th>50%</th>\n",
       "      <th>75%</th>\n",
       "      <th>max</th>\n",
       "    </tr>\n",
       "  </thead>\n",
       "  <tbody>\n",
       "    <tr>\n",
       "      <th>0</th>\n",
       "      <td>Quantity</td>\n",
       "      <td>541909.0</td>\n",
       "      <td>9.552250</td>\n",
       "      <td>218.081158</td>\n",
       "      <td>-80995.00</td>\n",
       "      <td>1.00</td>\n",
       "      <td>3.00</td>\n",
       "      <td>10.00</td>\n",
       "      <td>80995.0</td>\n",
       "    </tr>\n",
       "    <tr>\n",
       "      <th>1</th>\n",
       "      <td>UnitPrice</td>\n",
       "      <td>541909.0</td>\n",
       "      <td>4.611114</td>\n",
       "      <td>96.759853</td>\n",
       "      <td>-11062.06</td>\n",
       "      <td>1.25</td>\n",
       "      <td>2.08</td>\n",
       "      <td>4.13</td>\n",
       "      <td>38970.0</td>\n",
       "    </tr>\n",
       "    <tr>\n",
       "      <th>2</th>\n",
       "      <td>CustomerID</td>\n",
       "      <td>406829.0</td>\n",
       "      <td>15287.690570</td>\n",
       "      <td>1713.600303</td>\n",
       "      <td>12346.00</td>\n",
       "      <td>13953.00</td>\n",
       "      <td>15152.00</td>\n",
       "      <td>16791.00</td>\n",
       "      <td>18287.0</td>\n",
       "    </tr>\n",
       "  </tbody>\n",
       "</table>\n",
       "</div>"
      ],
      "text/plain": [
       "      Feature     count          mean          std       min       25%  \\\n",
       "0    Quantity  541909.0      9.552250   218.081158 -80995.00      1.00   \n",
       "1   UnitPrice  541909.0      4.611114    96.759853 -11062.06      1.25   \n",
       "2  CustomerID  406829.0  15287.690570  1713.600303  12346.00  13953.00   \n",
       "\n",
       "        50%       75%      max  \n",
       "0      3.00     10.00  80995.0  \n",
       "1      2.08      4.13  38970.0  \n",
       "2  15152.00  16791.00  18287.0  "
      ]
     },
     "execution_count": 58,
     "metadata": {},
     "output_type": "execute_result"
    }
   ],
   "source": [
    "dqt_num.rename({'index': 'Feature'}, axis=1, inplace=True)\n",
    "dqt_num"
   ]
  },
  {
   "cell_type": "code",
   "execution_count": 59,
   "id": "644558c6",
   "metadata": {},
   "outputs": [
    {
     "data": {
      "text/html": [
       "<div>\n",
       "<style scoped>\n",
       "    .dataframe tbody tr th:only-of-type {\n",
       "        vertical-align: middle;\n",
       "    }\n",
       "\n",
       "    .dataframe tbody tr th {\n",
       "        vertical-align: top;\n",
       "    }\n",
       "\n",
       "    .dataframe thead th {\n",
       "        text-align: right;\n",
       "    }\n",
       "</style>\n",
       "<table border=\"1\" class=\"dataframe\">\n",
       "  <thead>\n",
       "    <tr style=\"text-align: right;\">\n",
       "      <th></th>\n",
       "      <th>Feature</th>\n",
       "      <th>count</th>\n",
       "      <th>mean</th>\n",
       "      <th>std</th>\n",
       "      <th>min</th>\n",
       "      <th>Q1</th>\n",
       "      <th>Median</th>\n",
       "      <th>Q3</th>\n",
       "      <th>max</th>\n",
       "    </tr>\n",
       "  </thead>\n",
       "  <tbody>\n",
       "    <tr>\n",
       "      <th>0</th>\n",
       "      <td>Quantity</td>\n",
       "      <td>541909.0</td>\n",
       "      <td>9.552250</td>\n",
       "      <td>218.081158</td>\n",
       "      <td>-80995.00</td>\n",
       "      <td>1.00</td>\n",
       "      <td>3.00</td>\n",
       "      <td>10.00</td>\n",
       "      <td>80995.0</td>\n",
       "    </tr>\n",
       "    <tr>\n",
       "      <th>1</th>\n",
       "      <td>UnitPrice</td>\n",
       "      <td>541909.0</td>\n",
       "      <td>4.611114</td>\n",
       "      <td>96.759853</td>\n",
       "      <td>-11062.06</td>\n",
       "      <td>1.25</td>\n",
       "      <td>2.08</td>\n",
       "      <td>4.13</td>\n",
       "      <td>38970.0</td>\n",
       "    </tr>\n",
       "    <tr>\n",
       "      <th>2</th>\n",
       "      <td>CustomerID</td>\n",
       "      <td>406829.0</td>\n",
       "      <td>15287.690570</td>\n",
       "      <td>1713.600303</td>\n",
       "      <td>12346.00</td>\n",
       "      <td>13953.00</td>\n",
       "      <td>15152.00</td>\n",
       "      <td>16791.00</td>\n",
       "      <td>18287.0</td>\n",
       "    </tr>\n",
       "  </tbody>\n",
       "</table>\n",
       "</div>"
      ],
      "text/plain": [
       "      Feature     count          mean          std       min        Q1  \\\n",
       "0    Quantity  541909.0      9.552250   218.081158 -80995.00      1.00   \n",
       "1   UnitPrice  541909.0      4.611114    96.759853 -11062.06      1.25   \n",
       "2  CustomerID  406829.0  15287.690570  1713.600303  12346.00  13953.00   \n",
       "\n",
       "     Median        Q3      max  \n",
       "0      3.00     10.00  80995.0  \n",
       "1      2.08      4.13  38970.0  \n",
       "2  15152.00  16791.00  18287.0  "
      ]
     },
     "execution_count": 59,
     "metadata": {},
     "output_type": "execute_result"
    }
   ],
   "source": [
    "dqt_num.rename({'25%': 'Q1', '50%':'Median','75%':'Q3'}, inplace=True, axis=1)\n",
    "dqt_num"
   ]
  },
  {
   "cell_type": "code",
   "execution_count": 60,
   "id": "83ee932a",
   "metadata": {},
   "outputs": [],
   "source": [
    "numerical_data = data_v1[numerical_f]"
   ]
  },
  {
   "cell_type": "code",
   "execution_count": 61,
   "id": "9196a86b",
   "metadata": {},
   "outputs": [],
   "source": [
    "missing_percentage = (numerical_data.isnull().sum() / len(numerical_data))*100"
   ]
  },
  {
   "cell_type": "code",
   "execution_count": 62,
   "id": "11534209",
   "metadata": {},
   "outputs": [],
   "source": [
    "join_this = missing_percentage.to_frame()"
   ]
  },
  {
   "cell_type": "code",
   "execution_count": 63,
   "id": "d40d4597",
   "metadata": {},
   "outputs": [],
   "source": [
    "join_this.reset_index(inplace=True)"
   ]
  },
  {
   "cell_type": "code",
   "execution_count": 64,
   "id": "63f7c551",
   "metadata": {},
   "outputs": [],
   "source": [
    "join_this.rename({'index': 'Feature', 0: 'Missing %'}, inplace=True, axis=1)"
   ]
  },
  {
   "cell_type": "code",
   "execution_count": 65,
   "id": "75c927fe",
   "metadata": {},
   "outputs": [
    {
     "data": {
      "text/html": [
       "<div>\n",
       "<style scoped>\n",
       "    .dataframe tbody tr th:only-of-type {\n",
       "        vertical-align: middle;\n",
       "    }\n",
       "\n",
       "    .dataframe tbody tr th {\n",
       "        vertical-align: top;\n",
       "    }\n",
       "\n",
       "    .dataframe thead th {\n",
       "        text-align: right;\n",
       "    }\n",
       "</style>\n",
       "<table border=\"1\" class=\"dataframe\">\n",
       "  <thead>\n",
       "    <tr style=\"text-align: right;\">\n",
       "      <th></th>\n",
       "      <th>Feature</th>\n",
       "      <th>Missing %</th>\n",
       "    </tr>\n",
       "  </thead>\n",
       "  <tbody>\n",
       "    <tr>\n",
       "      <th>0</th>\n",
       "      <td>Quantity</td>\n",
       "      <td>0.0</td>\n",
       "    </tr>\n",
       "    <tr>\n",
       "      <th>1</th>\n",
       "      <td>UnitPrice</td>\n",
       "      <td>0.0</td>\n",
       "    </tr>\n",
       "  </tbody>\n",
       "</table>\n",
       "</div>"
      ],
      "text/plain": [
       "     Feature  Missing %\n",
       "0   Quantity        0.0\n",
       "1  UnitPrice        0.0"
      ]
     },
     "execution_count": 65,
     "metadata": {},
     "output_type": "execute_result"
    }
   ],
   "source": [
    "join_this"
   ]
  },
  {
   "cell_type": "code",
   "execution_count": 66,
   "id": "37841d1d",
   "metadata": {},
   "outputs": [],
   "source": [
    "dqt_num = pd.merge(dqt_num, join_this, on='Feature')"
   ]
  },
  {
   "cell_type": "code",
   "execution_count": 73,
   "id": "52b345b8",
   "metadata": {},
   "outputs": [],
   "source": [
    "card_join = numerical_data.nunique().to_frame()"
   ]
  },
  {
   "cell_type": "code",
   "execution_count": 75,
   "id": "7fd8f63b",
   "metadata": {},
   "outputs": [],
   "source": [
    "card_join.reset_index(inplace=True)"
   ]
  },
  {
   "cell_type": "code",
   "execution_count": 79,
   "id": "3b1e6ea3",
   "metadata": {},
   "outputs": [],
   "source": [
    "card_join.drop('level_0', inplace=True, axis=1)"
   ]
  },
  {
   "cell_type": "code",
   "execution_count": 81,
   "id": "7cba9e8d",
   "metadata": {},
   "outputs": [],
   "source": [
    "card_join.rename({'index': 'Feature', 0: 'Card.'}, inplace=True, axis=1)"
   ]
  },
  {
   "cell_type": "code",
   "execution_count": 84,
   "id": "af790160",
   "metadata": {},
   "outputs": [],
   "source": [
    "dqt_num = dqt_num.merge(card_join, on='Feature')"
   ]
  },
  {
   "cell_type": "code",
   "execution_count": 85,
   "id": "01f744cc",
   "metadata": {},
   "outputs": [
    {
     "data": {
      "text/html": [
       "<div>\n",
       "<style scoped>\n",
       "    .dataframe tbody tr th:only-of-type {\n",
       "        vertical-align: middle;\n",
       "    }\n",
       "\n",
       "    .dataframe tbody tr th {\n",
       "        vertical-align: top;\n",
       "    }\n",
       "\n",
       "    .dataframe thead th {\n",
       "        text-align: right;\n",
       "    }\n",
       "</style>\n",
       "<table border=\"1\" class=\"dataframe\">\n",
       "  <thead>\n",
       "    <tr style=\"text-align: right;\">\n",
       "      <th></th>\n",
       "      <th>Feature</th>\n",
       "      <th>count</th>\n",
       "      <th>mean</th>\n",
       "      <th>std</th>\n",
       "      <th>min</th>\n",
       "      <th>Q1</th>\n",
       "      <th>Median</th>\n",
       "      <th>Q3</th>\n",
       "      <th>max</th>\n",
       "      <th>Missing %</th>\n",
       "      <th>Card.</th>\n",
       "    </tr>\n",
       "  </thead>\n",
       "  <tbody>\n",
       "    <tr>\n",
       "      <th>0</th>\n",
       "      <td>Quantity</td>\n",
       "      <td>541909.0</td>\n",
       "      <td>9.552250</td>\n",
       "      <td>218.081158</td>\n",
       "      <td>-80995.00</td>\n",
       "      <td>1.00</td>\n",
       "      <td>3.00</td>\n",
       "      <td>10.00</td>\n",
       "      <td>80995.0</td>\n",
       "      <td>0.0</td>\n",
       "      <td>722</td>\n",
       "    </tr>\n",
       "    <tr>\n",
       "      <th>1</th>\n",
       "      <td>UnitPrice</td>\n",
       "      <td>541909.0</td>\n",
       "      <td>4.611114</td>\n",
       "      <td>96.759853</td>\n",
       "      <td>-11062.06</td>\n",
       "      <td>1.25</td>\n",
       "      <td>2.08</td>\n",
       "      <td>4.13</td>\n",
       "      <td>38970.0</td>\n",
       "      <td>0.0</td>\n",
       "      <td>1630</td>\n",
       "    </tr>\n",
       "  </tbody>\n",
       "</table>\n",
       "</div>"
      ],
      "text/plain": [
       "     Feature     count      mean         std       min    Q1  Median     Q3  \\\n",
       "0   Quantity  541909.0  9.552250  218.081158 -80995.00  1.00    3.00  10.00   \n",
       "1  UnitPrice  541909.0  4.611114   96.759853 -11062.06  1.25    2.08   4.13   \n",
       "\n",
       "       max  Missing %  Card.  \n",
       "0  80995.0        0.0    722  \n",
       "1  38970.0        0.0   1630  "
      ]
     },
     "execution_count": 85,
     "metadata": {},
     "output_type": "execute_result"
    }
   ],
   "source": [
    "dqt_num"
   ]
  },
  {
   "cell_type": "code",
   "execution_count": 317,
   "id": "cd4cc3d1",
   "metadata": {},
   "outputs": [],
   "source": [
    "dqt_cat = data_v1[categorical_f].describe(include=['object', 'int64', 'float64']).transpose()"
   ]
  },
  {
   "cell_type": "code",
   "execution_count": 318,
   "id": "d6861660",
   "metadata": {},
   "outputs": [
    {
     "data": {
      "text/html": [
       "<div>\n",
       "<style scoped>\n",
       "    .dataframe tbody tr th:only-of-type {\n",
       "        vertical-align: middle;\n",
       "    }\n",
       "\n",
       "    .dataframe tbody tr th {\n",
       "        vertical-align: top;\n",
       "    }\n",
       "\n",
       "    .dataframe thead th {\n",
       "        text-align: right;\n",
       "    }\n",
       "</style>\n",
       "<table border=\"1\" class=\"dataframe\">\n",
       "  <thead>\n",
       "    <tr style=\"text-align: right;\">\n",
       "      <th></th>\n",
       "      <th>count</th>\n",
       "      <th>unique</th>\n",
       "      <th>top</th>\n",
       "      <th>freq</th>\n",
       "      <th>mean</th>\n",
       "      <th>std</th>\n",
       "      <th>min</th>\n",
       "      <th>25%</th>\n",
       "      <th>50%</th>\n",
       "      <th>75%</th>\n",
       "      <th>max</th>\n",
       "    </tr>\n",
       "  </thead>\n",
       "  <tbody>\n",
       "    <tr>\n",
       "      <th>InvoiceNo</th>\n",
       "      <td>541909.0</td>\n",
       "      <td>25900.0</td>\n",
       "      <td>573585.0</td>\n",
       "      <td>1114.0</td>\n",
       "      <td>NaN</td>\n",
       "      <td>NaN</td>\n",
       "      <td>NaN</td>\n",
       "      <td>NaN</td>\n",
       "      <td>NaN</td>\n",
       "      <td>NaN</td>\n",
       "      <td>NaN</td>\n",
       "    </tr>\n",
       "    <tr>\n",
       "      <th>StockCode</th>\n",
       "      <td>541909</td>\n",
       "      <td>4070</td>\n",
       "      <td>85123A</td>\n",
       "      <td>2313</td>\n",
       "      <td>NaN</td>\n",
       "      <td>NaN</td>\n",
       "      <td>NaN</td>\n",
       "      <td>NaN</td>\n",
       "      <td>NaN</td>\n",
       "      <td>NaN</td>\n",
       "      <td>NaN</td>\n",
       "    </tr>\n",
       "    <tr>\n",
       "      <th>Description</th>\n",
       "      <td>540455</td>\n",
       "      <td>4223</td>\n",
       "      <td>WHITE HANGING HEART T-LIGHT HOLDER</td>\n",
       "      <td>2369</td>\n",
       "      <td>NaN</td>\n",
       "      <td>NaN</td>\n",
       "      <td>NaN</td>\n",
       "      <td>NaN</td>\n",
       "      <td>NaN</td>\n",
       "      <td>NaN</td>\n",
       "      <td>NaN</td>\n",
       "    </tr>\n",
       "    <tr>\n",
       "      <th>CustomerID</th>\n",
       "      <td>406829.0</td>\n",
       "      <td>NaN</td>\n",
       "      <td>NaN</td>\n",
       "      <td>NaN</td>\n",
       "      <td>15287.69057</td>\n",
       "      <td>1713.600303</td>\n",
       "      <td>12346.0</td>\n",
       "      <td>13953.0</td>\n",
       "      <td>15152.0</td>\n",
       "      <td>16791.0</td>\n",
       "      <td>18287.0</td>\n",
       "    </tr>\n",
       "    <tr>\n",
       "      <th>Country</th>\n",
       "      <td>541909</td>\n",
       "      <td>38</td>\n",
       "      <td>United Kingdom</td>\n",
       "      <td>495478</td>\n",
       "      <td>NaN</td>\n",
       "      <td>NaN</td>\n",
       "      <td>NaN</td>\n",
       "      <td>NaN</td>\n",
       "      <td>NaN</td>\n",
       "      <td>NaN</td>\n",
       "      <td>NaN</td>\n",
       "    </tr>\n",
       "  </tbody>\n",
       "</table>\n",
       "</div>"
      ],
      "text/plain": [
       "                count   unique                                 top    freq  \\\n",
       "InvoiceNo    541909.0  25900.0                            573585.0  1114.0   \n",
       "StockCode      541909     4070                              85123A    2313   \n",
       "Description    540455     4223  WHITE HANGING HEART T-LIGHT HOLDER    2369   \n",
       "CustomerID   406829.0      NaN                                 NaN     NaN   \n",
       "Country        541909       38                      United Kingdom  495478   \n",
       "\n",
       "                    mean          std      min      25%      50%      75%  \\\n",
       "InvoiceNo            NaN          NaN      NaN      NaN      NaN      NaN   \n",
       "StockCode            NaN          NaN      NaN      NaN      NaN      NaN   \n",
       "Description          NaN          NaN      NaN      NaN      NaN      NaN   \n",
       "CustomerID   15287.69057  1713.600303  12346.0  13953.0  15152.0  16791.0   \n",
       "Country              NaN          NaN      NaN      NaN      NaN      NaN   \n",
       "\n",
       "                 max  \n",
       "InvoiceNo        NaN  \n",
       "StockCode        NaN  \n",
       "Description      NaN  \n",
       "CustomerID   18287.0  \n",
       "Country          NaN  "
      ]
     },
     "execution_count": 318,
     "metadata": {},
     "output_type": "execute_result"
    }
   ],
   "source": [
    "dqt_cat"
   ]
  },
  {
   "cell_type": "code",
   "execution_count": 319,
   "id": "b365d446",
   "metadata": {},
   "outputs": [],
   "source": [
    "dqt_cat.drop(['mean', 'min', 'max', '25%', '50%', '75%','std'], axis=1, inplace=True)"
   ]
  },
  {
   "cell_type": "code",
   "execution_count": 320,
   "id": "04e6f655",
   "metadata": {},
   "outputs": [],
   "source": [
    "dqt_cat.rename({'unique':'Card.', 'top':'Mode'}, axis=1, inplace=True)"
   ]
  },
  {
   "cell_type": "code",
   "execution_count": 321,
   "id": "5a2aa1b1",
   "metadata": {},
   "outputs": [],
   "source": [
    "dqt_cat.reset_index(inplace=True)"
   ]
  },
  {
   "cell_type": "code",
   "execution_count": 322,
   "id": "f0f251a0",
   "metadata": {},
   "outputs": [],
   "source": [
    "dqt_cat.rename({'index': 'Feature'}, inplace=True, axis=1)"
   ]
  },
  {
   "cell_type": "code",
   "execution_count": 323,
   "id": "1d072a14",
   "metadata": {},
   "outputs": [],
   "source": [
    "join_null = ((data_v1[categorical_f].isna().sum() / len(data_v1[categorical_f]))*100).to_frame()"
   ]
  },
  {
   "cell_type": "code",
   "execution_count": 324,
   "id": "f68c6f31",
   "metadata": {},
   "outputs": [],
   "source": [
    "join_null.reset_index(inplace=True)"
   ]
  },
  {
   "cell_type": "code",
   "execution_count": 325,
   "id": "020b1b26",
   "metadata": {},
   "outputs": [],
   "source": [
    "join_null.rename({'index': 'Feature', 0: 'Missing %'}, inplace=True, axis=1)"
   ]
  },
  {
   "cell_type": "code",
   "execution_count": 326,
   "id": "d6327b2b",
   "metadata": {},
   "outputs": [],
   "source": [
    "dqt_cat=dqt_cat.merge(join_null, on='Feature')"
   ]
  },
  {
   "cell_type": "code",
   "execution_count": 327,
   "id": "a6b8f933",
   "metadata": {},
   "outputs": [],
   "source": [
    "keys = []\n",
    "values = []\n",
    "for col in dqt_cat['Feature']:\n",
    "    lol = dict(data_v1[col].value_counts())\n",
    "    key, value = list(lol.items())[1]\n",
    "    keys.append(key)\n",
    "    values.append(value)"
   ]
  },
  {
   "cell_type": "code",
   "execution_count": 328,
   "id": "15eddf1b",
   "metadata": {},
   "outputs": [
    {
     "data": {
      "text/plain": [
       "[581219, 22423, 'REGENCY CAKESTAND 3 TIER', 14911.0, 'Germany']"
      ]
     },
     "execution_count": 328,
     "metadata": {},
     "output_type": "execute_result"
    }
   ],
   "source": [
    "keys"
   ]
  },
  {
   "cell_type": "code",
   "execution_count": 329,
   "id": "58f0b9d8",
   "metadata": {},
   "outputs": [
    {
     "data": {
      "text/plain": [
       "[749, 2203, 2200, 5903, 9495]"
      ]
     },
     "execution_count": 329,
     "metadata": {},
     "output_type": "execute_result"
    }
   ],
   "source": [
    "values"
   ]
  },
  {
   "cell_type": "code",
   "execution_count": 330,
   "id": "86830c29",
   "metadata": {},
   "outputs": [],
   "source": [
    "join_2mode = pd.DataFrame(index = keys, columns = [\"Score\"], data = values)"
   ]
  },
  {
   "cell_type": "code",
   "execution_count": 331,
   "id": "dd903298",
   "metadata": {},
   "outputs": [],
   "source": [
    "join_2mode.reset_index(inplace=True)"
   ]
  },
  {
   "cell_type": "code",
   "execution_count": 332,
   "id": "6a1dbb0c",
   "metadata": {},
   "outputs": [],
   "source": [
    "join_2mode.rename({'index':'2nd Mode'}, inplace=True, axis=1)"
   ]
  },
  {
   "cell_type": "code",
   "execution_count": 333,
   "id": "5f0b38b7",
   "metadata": {},
   "outputs": [],
   "source": [
    "join_2mode['Feature'] = dqt_cat['Feature']"
   ]
  },
  {
   "cell_type": "code",
   "execution_count": 334,
   "id": "f2da4459",
   "metadata": {},
   "outputs": [],
   "source": [
    "join_2mode.rename({ 'Score':'2nd Mode freqn'}, inplace=True, axis=1)"
   ]
  },
  {
   "cell_type": "code",
   "execution_count": 335,
   "id": "3d578bad",
   "metadata": {},
   "outputs": [],
   "source": [
    "dqt_cat=dqt_cat.merge(join_2mode, on='Feature')"
   ]
  },
  {
   "cell_type": "code",
   "execution_count": 336,
   "id": "35681243",
   "metadata": {},
   "outputs": [],
   "source": [
    "dqt_cat.at[3, 'Card.'] = data_v1['CustomerID'].nunique()"
   ]
  },
  {
   "cell_type": "code",
   "execution_count": 337,
   "id": "e8a4954c",
   "metadata": {},
   "outputs": [
    {
     "data": {
      "text/plain": [
       "25900"
      ]
     },
     "execution_count": 337,
     "metadata": {},
     "output_type": "execute_result"
    }
   ],
   "source": [
    "data_v1['InvoiceNo'].nunique()"
   ]
  },
  {
   "cell_type": "code",
   "execution_count": 338,
   "id": "39a11edd",
   "metadata": {},
   "outputs": [
    {
     "data": {
      "text/plain": [
       "17841.0    7983\n",
       "14911.0    5903\n",
       "14096.0    5128\n",
       "12748.0    4642\n",
       "14606.0    2782\n",
       "           ... \n",
       "14351.0       1\n",
       "13256.0       1\n",
       "12943.0       1\n",
       "17923.0       1\n",
       "13747.0       1\n",
       "Name: CustomerID, Length: 4372, dtype: int64"
      ]
     },
     "execution_count": 338,
     "metadata": {},
     "output_type": "execute_result"
    }
   ],
   "source": [
    "data_v1['CustomerID'].value_counts()"
   ]
  },
  {
   "cell_type": "code",
   "execution_count": 339,
   "id": "b521dd1e",
   "metadata": {},
   "outputs": [],
   "source": [
    "temp = dict(data_v1['CustomerID'].value_counts())\n",
    "key, value = list(temp.items())[0]"
   ]
  },
  {
   "cell_type": "code",
   "execution_count": 340,
   "id": "bf9b4720",
   "metadata": {},
   "outputs": [
    {
     "data": {
      "text/plain": [
       "17841.0"
      ]
     },
     "execution_count": 340,
     "metadata": {},
     "output_type": "execute_result"
    }
   ],
   "source": [
    "key"
   ]
  },
  {
   "cell_type": "code",
   "execution_count": 341,
   "id": "8a607794",
   "metadata": {},
   "outputs": [
    {
     "data": {
      "text/plain": [
       "7983"
      ]
     },
     "execution_count": 341,
     "metadata": {},
     "output_type": "execute_result"
    }
   ],
   "source": [
    "value"
   ]
  },
  {
   "cell_type": "code",
   "execution_count": 342,
   "id": "76258752",
   "metadata": {},
   "outputs": [],
   "source": [
    "dqt_cat.at[3, 'Mode'] = key\n",
    "dqt_cat.at[3, 'freq'] = value"
   ]
  },
  {
   "cell_type": "code",
   "execution_count": 343,
   "id": "92fb03ee",
   "metadata": {},
   "outputs": [
    {
     "data": {
      "text/html": [
       "<div>\n",
       "<style scoped>\n",
       "    .dataframe tbody tr th:only-of-type {\n",
       "        vertical-align: middle;\n",
       "    }\n",
       "\n",
       "    .dataframe tbody tr th {\n",
       "        vertical-align: top;\n",
       "    }\n",
       "\n",
       "    .dataframe thead th {\n",
       "        text-align: right;\n",
       "    }\n",
       "</style>\n",
       "<table border=\"1\" class=\"dataframe\">\n",
       "  <thead>\n",
       "    <tr style=\"text-align: right;\">\n",
       "      <th></th>\n",
       "      <th>Feature</th>\n",
       "      <th>count</th>\n",
       "      <th>Card.</th>\n",
       "      <th>Mode</th>\n",
       "      <th>freq</th>\n",
       "      <th>Missing %</th>\n",
       "      <th>2nd Mode</th>\n",
       "      <th>2nd Mode freqn</th>\n",
       "    </tr>\n",
       "  </thead>\n",
       "  <tbody>\n",
       "    <tr>\n",
       "      <th>0</th>\n",
       "      <td>InvoiceNo</td>\n",
       "      <td>541909.0</td>\n",
       "      <td>25900.0</td>\n",
       "      <td>573585.0</td>\n",
       "      <td>1114.0</td>\n",
       "      <td>0.000000</td>\n",
       "      <td>581219</td>\n",
       "      <td>749</td>\n",
       "    </tr>\n",
       "    <tr>\n",
       "      <th>1</th>\n",
       "      <td>StockCode</td>\n",
       "      <td>541909</td>\n",
       "      <td>4070</td>\n",
       "      <td>85123A</td>\n",
       "      <td>2313</td>\n",
       "      <td>0.000000</td>\n",
       "      <td>22423</td>\n",
       "      <td>2203</td>\n",
       "    </tr>\n",
       "    <tr>\n",
       "      <th>2</th>\n",
       "      <td>Description</td>\n",
       "      <td>540455</td>\n",
       "      <td>4223</td>\n",
       "      <td>WHITE HANGING HEART T-LIGHT HOLDER</td>\n",
       "      <td>2369</td>\n",
       "      <td>0.268311</td>\n",
       "      <td>REGENCY CAKESTAND 3 TIER</td>\n",
       "      <td>2200</td>\n",
       "    </tr>\n",
       "    <tr>\n",
       "      <th>3</th>\n",
       "      <td>CustomerID</td>\n",
       "      <td>406829.0</td>\n",
       "      <td>4372</td>\n",
       "      <td>17841.0</td>\n",
       "      <td>7983</td>\n",
       "      <td>24.926694</td>\n",
       "      <td>14911.0</td>\n",
       "      <td>5903</td>\n",
       "    </tr>\n",
       "    <tr>\n",
       "      <th>4</th>\n",
       "      <td>Country</td>\n",
       "      <td>541909</td>\n",
       "      <td>38</td>\n",
       "      <td>United Kingdom</td>\n",
       "      <td>495478</td>\n",
       "      <td>0.000000</td>\n",
       "      <td>Germany</td>\n",
       "      <td>9495</td>\n",
       "    </tr>\n",
       "  </tbody>\n",
       "</table>\n",
       "</div>"
      ],
      "text/plain": [
       "       Feature     count    Card.                                Mode    freq  \\\n",
       "0    InvoiceNo  541909.0  25900.0                            573585.0  1114.0   \n",
       "1    StockCode    541909     4070                              85123A    2313   \n",
       "2  Description    540455     4223  WHITE HANGING HEART T-LIGHT HOLDER    2369   \n",
       "3   CustomerID  406829.0     4372                             17841.0    7983   \n",
       "4      Country    541909       38                      United Kingdom  495478   \n",
       "\n",
       "   Missing %                  2nd Mode  2nd Mode freqn  \n",
       "0   0.000000                    581219             749  \n",
       "1   0.000000                     22423            2203  \n",
       "2   0.268311  REGENCY CAKESTAND 3 TIER            2200  \n",
       "3  24.926694                   14911.0            5903  \n",
       "4   0.000000                   Germany            9495  "
      ]
     },
     "execution_count": 343,
     "metadata": {},
     "output_type": "execute_result"
    }
   ],
   "source": [
    "dqt_cat"
   ]
  },
  {
   "cell_type": "code",
   "execution_count": 344,
   "id": "0cadf3ec",
   "metadata": {},
   "outputs": [
    {
     "data": {
      "text/plain": [
       "Index(['Feature', 'count', 'Card.', 'Mode', 'freq', 'Missing %', '2nd Mode',\n",
       "       '2nd Mode freqn'],\n",
       "      dtype='object')"
      ]
     },
     "execution_count": 344,
     "metadata": {},
     "output_type": "execute_result"
    }
   ],
   "source": [
    "dqt_cat.columns"
   ]
  },
  {
   "cell_type": "code",
   "execution_count": 345,
   "id": "499909b2",
   "metadata": {},
   "outputs": [],
   "source": [
    "dqt_cat['Mode %'] = (dqt_cat['freq'] / dqt_cat['count']) * 100"
   ]
  },
  {
   "cell_type": "code",
   "execution_count": 346,
   "id": "76642e52",
   "metadata": {},
   "outputs": [
    {
     "data": {
      "text/html": [
       "<div>\n",
       "<style scoped>\n",
       "    .dataframe tbody tr th:only-of-type {\n",
       "        vertical-align: middle;\n",
       "    }\n",
       "\n",
       "    .dataframe tbody tr th {\n",
       "        vertical-align: top;\n",
       "    }\n",
       "\n",
       "    .dataframe thead th {\n",
       "        text-align: right;\n",
       "    }\n",
       "</style>\n",
       "<table border=\"1\" class=\"dataframe\">\n",
       "  <thead>\n",
       "    <tr style=\"text-align: right;\">\n",
       "      <th></th>\n",
       "      <th>Feature</th>\n",
       "      <th>count</th>\n",
       "      <th>Card.</th>\n",
       "      <th>Mode</th>\n",
       "      <th>freq</th>\n",
       "      <th>Missing %</th>\n",
       "      <th>2nd Mode</th>\n",
       "      <th>2nd Mode freqn</th>\n",
       "      <th>Mode %</th>\n",
       "    </tr>\n",
       "  </thead>\n",
       "  <tbody>\n",
       "    <tr>\n",
       "      <th>0</th>\n",
       "      <td>InvoiceNo</td>\n",
       "      <td>541909.0</td>\n",
       "      <td>25900.0</td>\n",
       "      <td>573585.0</td>\n",
       "      <td>1114.0</td>\n",
       "      <td>0.000000</td>\n",
       "      <td>581219</td>\n",
       "      <td>749</td>\n",
       "      <td>0.20557</td>\n",
       "    </tr>\n",
       "    <tr>\n",
       "      <th>1</th>\n",
       "      <td>StockCode</td>\n",
       "      <td>541909</td>\n",
       "      <td>4070</td>\n",
       "      <td>85123A</td>\n",
       "      <td>2313</td>\n",
       "      <td>0.000000</td>\n",
       "      <td>22423</td>\n",
       "      <td>2203</td>\n",
       "      <td>0.426824</td>\n",
       "    </tr>\n",
       "    <tr>\n",
       "      <th>2</th>\n",
       "      <td>Description</td>\n",
       "      <td>540455</td>\n",
       "      <td>4223</td>\n",
       "      <td>WHITE HANGING HEART T-LIGHT HOLDER</td>\n",
       "      <td>2369</td>\n",
       "      <td>0.268311</td>\n",
       "      <td>REGENCY CAKESTAND 3 TIER</td>\n",
       "      <td>2200</td>\n",
       "      <td>0.438334</td>\n",
       "    </tr>\n",
       "    <tr>\n",
       "      <th>3</th>\n",
       "      <td>CustomerID</td>\n",
       "      <td>406829.0</td>\n",
       "      <td>4372</td>\n",
       "      <td>17841.0</td>\n",
       "      <td>7983</td>\n",
       "      <td>24.926694</td>\n",
       "      <td>14911.0</td>\n",
       "      <td>5903</td>\n",
       "      <td>1.962249</td>\n",
       "    </tr>\n",
       "    <tr>\n",
       "      <th>4</th>\n",
       "      <td>Country</td>\n",
       "      <td>541909</td>\n",
       "      <td>38</td>\n",
       "      <td>United Kingdom</td>\n",
       "      <td>495478</td>\n",
       "      <td>0.000000</td>\n",
       "      <td>Germany</td>\n",
       "      <td>9495</td>\n",
       "      <td>91.431956</td>\n",
       "    </tr>\n",
       "  </tbody>\n",
       "</table>\n",
       "</div>"
      ],
      "text/plain": [
       "       Feature     count    Card.                                Mode    freq  \\\n",
       "0    InvoiceNo  541909.0  25900.0                            573585.0  1114.0   \n",
       "1    StockCode    541909     4070                              85123A    2313   \n",
       "2  Description    540455     4223  WHITE HANGING HEART T-LIGHT HOLDER    2369   \n",
       "3   CustomerID  406829.0     4372                             17841.0    7983   \n",
       "4      Country    541909       38                      United Kingdom  495478   \n",
       "\n",
       "   Missing %                  2nd Mode  2nd Mode freqn     Mode %  \n",
       "0   0.000000                    581219             749    0.20557  \n",
       "1   0.000000                     22423            2203   0.426824  \n",
       "2   0.268311  REGENCY CAKESTAND 3 TIER            2200   0.438334  \n",
       "3  24.926694                   14911.0            5903   1.962249  \n",
       "4   0.000000                   Germany            9495  91.431956  "
      ]
     },
     "execution_count": 346,
     "metadata": {},
     "output_type": "execute_result"
    }
   ],
   "source": [
    "dqt_cat"
   ]
  },
  {
   "cell_type": "code",
   "execution_count": 347,
   "id": "74c05746",
   "metadata": {},
   "outputs": [],
   "source": [
    "dqt_cat['2nd Mode %'] = (dqt_cat['2nd Mode freqn']/dqt_cat['count'])*100"
   ]
  },
  {
   "cell_type": "code",
   "execution_count": 348,
   "id": "17fad742",
   "metadata": {},
   "outputs": [
    {
     "data": {
      "text/html": [
       "<div>\n",
       "<style scoped>\n",
       "    .dataframe tbody tr th:only-of-type {\n",
       "        vertical-align: middle;\n",
       "    }\n",
       "\n",
       "    .dataframe tbody tr th {\n",
       "        vertical-align: top;\n",
       "    }\n",
       "\n",
       "    .dataframe thead th {\n",
       "        text-align: right;\n",
       "    }\n",
       "</style>\n",
       "<table border=\"1\" class=\"dataframe\">\n",
       "  <thead>\n",
       "    <tr style=\"text-align: right;\">\n",
       "      <th></th>\n",
       "      <th>Feature</th>\n",
       "      <th>count</th>\n",
       "      <th>Card.</th>\n",
       "      <th>Mode</th>\n",
       "      <th>freq</th>\n",
       "      <th>Missing %</th>\n",
       "      <th>2nd Mode</th>\n",
       "      <th>2nd Mode freqn</th>\n",
       "      <th>Mode %</th>\n",
       "      <th>2nd Mode %</th>\n",
       "    </tr>\n",
       "  </thead>\n",
       "  <tbody>\n",
       "    <tr>\n",
       "      <th>0</th>\n",
       "      <td>InvoiceNo</td>\n",
       "      <td>541909.0</td>\n",
       "      <td>25900.0</td>\n",
       "      <td>573585.0</td>\n",
       "      <td>1114.0</td>\n",
       "      <td>0.000000</td>\n",
       "      <td>581219</td>\n",
       "      <td>749</td>\n",
       "      <td>0.20557</td>\n",
       "      <td>0.138215</td>\n",
       "    </tr>\n",
       "    <tr>\n",
       "      <th>1</th>\n",
       "      <td>StockCode</td>\n",
       "      <td>541909</td>\n",
       "      <td>4070</td>\n",
       "      <td>85123A</td>\n",
       "      <td>2313</td>\n",
       "      <td>0.000000</td>\n",
       "      <td>22423</td>\n",
       "      <td>2203</td>\n",
       "      <td>0.426824</td>\n",
       "      <td>0.406526</td>\n",
       "    </tr>\n",
       "    <tr>\n",
       "      <th>2</th>\n",
       "      <td>Description</td>\n",
       "      <td>540455</td>\n",
       "      <td>4223</td>\n",
       "      <td>WHITE HANGING HEART T-LIGHT HOLDER</td>\n",
       "      <td>2369</td>\n",
       "      <td>0.268311</td>\n",
       "      <td>REGENCY CAKESTAND 3 TIER</td>\n",
       "      <td>2200</td>\n",
       "      <td>0.438334</td>\n",
       "      <td>0.407064</td>\n",
       "    </tr>\n",
       "    <tr>\n",
       "      <th>3</th>\n",
       "      <td>CustomerID</td>\n",
       "      <td>406829.0</td>\n",
       "      <td>4372</td>\n",
       "      <td>17841.0</td>\n",
       "      <td>7983</td>\n",
       "      <td>24.926694</td>\n",
       "      <td>14911.0</td>\n",
       "      <td>5903</td>\n",
       "      <td>1.962249</td>\n",
       "      <td>1.450978</td>\n",
       "    </tr>\n",
       "    <tr>\n",
       "      <th>4</th>\n",
       "      <td>Country</td>\n",
       "      <td>541909</td>\n",
       "      <td>38</td>\n",
       "      <td>United Kingdom</td>\n",
       "      <td>495478</td>\n",
       "      <td>0.000000</td>\n",
       "      <td>Germany</td>\n",
       "      <td>9495</td>\n",
       "      <td>91.431956</td>\n",
       "      <td>1.752139</td>\n",
       "    </tr>\n",
       "  </tbody>\n",
       "</table>\n",
       "</div>"
      ],
      "text/plain": [
       "       Feature     count    Card.                                Mode    freq  \\\n",
       "0    InvoiceNo  541909.0  25900.0                            573585.0  1114.0   \n",
       "1    StockCode    541909     4070                              85123A    2313   \n",
       "2  Description    540455     4223  WHITE HANGING HEART T-LIGHT HOLDER    2369   \n",
       "3   CustomerID  406829.0     4372                             17841.0    7983   \n",
       "4      Country    541909       38                      United Kingdom  495478   \n",
       "\n",
       "   Missing %                  2nd Mode  2nd Mode freqn     Mode % 2nd Mode %  \n",
       "0   0.000000                    581219             749    0.20557   0.138215  \n",
       "1   0.000000                     22423            2203   0.426824   0.406526  \n",
       "2   0.268311  REGENCY CAKESTAND 3 TIER            2200   0.438334   0.407064  \n",
       "3  24.926694                   14911.0            5903   1.962249   1.450978  \n",
       "4   0.000000                   Germany            9495  91.431956   1.752139  "
      ]
     },
     "execution_count": 348,
     "metadata": {},
     "output_type": "execute_result"
    }
   ],
   "source": [
    "dqt_cat"
   ]
  },
  {
   "cell_type": "code",
   "execution_count": 349,
   "id": "3e2b166d",
   "metadata": {},
   "outputs": [
    {
     "data": {
      "text/html": [
       "<div>\n",
       "<style scoped>\n",
       "    .dataframe tbody tr th:only-of-type {\n",
       "        vertical-align: middle;\n",
       "    }\n",
       "\n",
       "    .dataframe tbody tr th {\n",
       "        vertical-align: top;\n",
       "    }\n",
       "\n",
       "    .dataframe thead th {\n",
       "        text-align: right;\n",
       "    }\n",
       "</style>\n",
       "<table border=\"1\" class=\"dataframe\">\n",
       "  <thead>\n",
       "    <tr style=\"text-align: right;\">\n",
       "      <th></th>\n",
       "      <th>Feature</th>\n",
       "      <th>count</th>\n",
       "      <th>mean</th>\n",
       "      <th>std</th>\n",
       "      <th>min</th>\n",
       "      <th>Q1</th>\n",
       "      <th>Median</th>\n",
       "      <th>Q3</th>\n",
       "      <th>max</th>\n",
       "      <th>Missing %</th>\n",
       "      <th>Card.</th>\n",
       "    </tr>\n",
       "  </thead>\n",
       "  <tbody>\n",
       "    <tr>\n",
       "      <th>0</th>\n",
       "      <td>Quantity</td>\n",
       "      <td>541909.0</td>\n",
       "      <td>9.552250</td>\n",
       "      <td>218.081158</td>\n",
       "      <td>-80995.00</td>\n",
       "      <td>1.00</td>\n",
       "      <td>3.00</td>\n",
       "      <td>10.00</td>\n",
       "      <td>80995.0</td>\n",
       "      <td>0.0</td>\n",
       "      <td>722</td>\n",
       "    </tr>\n",
       "    <tr>\n",
       "      <th>1</th>\n",
       "      <td>UnitPrice</td>\n",
       "      <td>541909.0</td>\n",
       "      <td>4.611114</td>\n",
       "      <td>96.759853</td>\n",
       "      <td>-11062.06</td>\n",
       "      <td>1.25</td>\n",
       "      <td>2.08</td>\n",
       "      <td>4.13</td>\n",
       "      <td>38970.0</td>\n",
       "      <td>0.0</td>\n",
       "      <td>1630</td>\n",
       "    </tr>\n",
       "  </tbody>\n",
       "</table>\n",
       "</div>"
      ],
      "text/plain": [
       "     Feature     count      mean         std       min    Q1  Median     Q3  \\\n",
       "0   Quantity  541909.0  9.552250  218.081158 -80995.00  1.00    3.00  10.00   \n",
       "1  UnitPrice  541909.0  4.611114   96.759853 -11062.06  1.25    2.08   4.13   \n",
       "\n",
       "       max  Missing %  Card.  \n",
       "0  80995.0        0.0    722  \n",
       "1  38970.0        0.0   1630  "
      ]
     },
     "execution_count": 349,
     "metadata": {},
     "output_type": "execute_result"
    }
   ],
   "source": [
    "dqt_num"
   ]
  },
  {
   "cell_type": "markdown",
   "id": "8caa0bda",
   "metadata": {},
   "source": [
    "Here we have data quality reports of numerical and categorical variables.\n",
    "\n",
    "- Observation 1: CustomerID has around 25% of missing values. For 0.26% of items 'Description' seems to be missing.\n",
    "- Observation 2: In Data Quality Report of numerical variables, you can see 'Quantity' has a minimum value of -80995.00 and maximum value of 80995. This must be returned/cancelled orders. Even 'UnitPrice' also has a negative value of -11062.06 which is unusual. This also must be representing cancelled/returned orders.\n",
    "- Observation 3: As you can see in 'Country' row, 91.43% of the orders have 'United Kingdom' as country."
   ]
  },
  {
   "cell_type": "markdown",
   "id": "7aac5825",
   "metadata": {},
   "source": [
    "Step 1 - As we can't fill up 25% missing values of CustomerID we need to remove them."
   ]
  },
  {
   "cell_type": "code",
   "execution_count": 351,
   "id": "abe40434",
   "metadata": {},
   "outputs": [],
   "source": [
    "data_v1 = data_v1[pd.notnull(data_v1['CustomerID'])] #Removed null values from the data."
   ]
  },
  {
   "cell_type": "code",
   "execution_count": 357,
   "id": "65192b6b",
   "metadata": {},
   "outputs": [
    {
     "data": {
      "text/plain": [
       "0"
      ]
     },
     "execution_count": 357,
     "metadata": {},
     "output_type": "execute_result"
    }
   ],
   "source": [
    "data_v1['Description'].isnull().sum() \n",
    "#As you can see when we removed values having null CustomerID, values with null description also got removed."
   ]
  },
  {
   "cell_type": "markdown",
   "id": "d11d42c4",
   "metadata": {},
   "source": [
    "Step 2 - Keeping values belonging to 'United Kingdom' as 'Country'"
   ]
  },
  {
   "cell_type": "code",
   "execution_count": 362,
   "id": "ff11a73a",
   "metadata": {},
   "outputs": [],
   "source": [
    "data_v1 = data_v1[data_v1['Country'] == 'United Kingdom']"
   ]
  },
  {
   "cell_type": "markdown",
   "id": "4926e0f4",
   "metadata": {},
   "source": [
    "Step 3 - Removing negative values from 'Quantity' and 'UnitPrice'."
   ]
  },
  {
   "cell_type": "code",
   "execution_count": 364,
   "id": "96676bb7",
   "metadata": {},
   "outputs": [],
   "source": [
    "data_v1 = data_v1[data_v1['Quantity'] > 0]\n",
    "data_v1 = data_v1[data_v1['UnitPrice'] > 0]"
   ]
  },
  {
   "cell_type": "markdown",
   "id": "a63a2281",
   "metadata": {},
   "source": [
    "Now only one column to work with is remaining which is 'InvoiceDate'. It is a column having datetime values. Let us see how we can deal with it."
   ]
  },
  {
   "cell_type": "code",
   "execution_count": 370,
   "id": "8b16bda6",
   "metadata": {},
   "outputs": [],
   "source": [
    "import datetime as dt"
   ]
  },
  {
   "cell_type": "code",
   "execution_count": 371,
   "id": "dd1ed5c8",
   "metadata": {},
   "outputs": [],
   "source": [
    "data_v1['InvoiceDate'] = pd.to_datetime(data_v1['InvoiceDate'])"
   ]
  },
  {
   "cell_type": "code",
   "execution_count": 373,
   "id": "acbacdd4",
   "metadata": {},
   "outputs": [],
   "source": [
    "data_v1['InvoiceYearMonth'] = data_v1['InvoiceDate'].map(lambda date: 100*date.year + date.month)"
   ]
  },
  {
   "cell_type": "code",
   "execution_count": 375,
   "id": "49bde077",
   "metadata": {},
   "outputs": [],
   "source": [
    "data_v1['Date'] = data_v1['InvoiceDate'].dt.strftime('%Y-%m')"
   ]
  },
  {
   "cell_type": "code",
   "execution_count": 377,
   "id": "a92c5fa4",
   "metadata": {},
   "outputs": [
    {
     "name": "stdout",
     "output_type": "stream",
     "text": [
      "2011-12\n",
      "2010-12\n"
     ]
    }
   ],
   "source": [
    "#Let's check the stats of this column.\n",
    "print(max(data_v1['Date']))\n",
    "print(min(data_v1['Date']))"
   ]
  },
  {
   "cell_type": "markdown",
   "id": "829d84c4",
   "metadata": {},
   "source": [
    "As you can see this data is between the year 2010 and 2011. That is, this data is distributed over a year."
   ]
  },
  {
   "cell_type": "code",
   "execution_count": 378,
   "id": "60d849ad",
   "metadata": {},
   "outputs": [
    {
     "name": "stdout",
     "output_type": "stream",
     "text": [
      "<class 'pandas.core.frame.DataFrame'>\n",
      "Int64Index: 354321 entries, 0 to 541893\n",
      "Data columns (total 10 columns):\n",
      " #   Column            Non-Null Count   Dtype         \n",
      "---  ------            --------------   -----         \n",
      " 0   InvoiceNo         354321 non-null  object        \n",
      " 1   StockCode         354321 non-null  object        \n",
      " 2   Description       354321 non-null  object        \n",
      " 3   Quantity          354321 non-null  int64         \n",
      " 4   InvoiceDate       354321 non-null  datetime64[ns]\n",
      " 5   UnitPrice         354321 non-null  float64       \n",
      " 6   CustomerID        354321 non-null  float64       \n",
      " 7   Country           354321 non-null  object        \n",
      " 8   InvoiceYearMonth  354321 non-null  int64         \n",
      " 9   Date              354321 non-null  object        \n",
      "dtypes: datetime64[ns](1), float64(2), int64(2), object(5)\n",
      "memory usage: 37.8+ MB\n"
     ]
    }
   ],
   "source": [
    "data_v1.info()"
   ]
  },
  {
   "cell_type": "markdown",
   "id": "7e71a7b0",
   "metadata": {},
   "source": [
    "### Performing EDA"
   ]
  },
  {
   "cell_type": "markdown",
   "id": "0ff4205e",
   "metadata": {},
   "source": [
    "Let us analyze CustomerID first."
   ]
  },
  {
   "cell_type": "code",
   "execution_count": 379,
   "id": "58f5840c",
   "metadata": {},
   "outputs": [],
   "source": [
    "data_v2 = data_v1"
   ]
  },
  {
   "cell_type": "code",
   "execution_count": 383,
   "id": "2c213c56",
   "metadata": {},
   "outputs": [
    {
     "name": "stdout",
     "output_type": "stream",
     "text": [
      "Number of unique customers: 3920\n",
      "Total number of entries: 354321\n"
     ]
    }
   ],
   "source": [
    "print(\"Number of unique customers: {}\".format(data_v2['CustomerID'].nunique()))\n",
    "print(\"Total number of entries: {}\".format(len(data_v2['CustomerID'])))"
   ]
  },
  {
   "cell_type": "markdown",
   "id": "321158ca",
   "metadata": {},
   "source": [
    "- Observation: As you can see the number of entries are far greater than number of unique customers. According to our data quality report, CustomerID = 17841, has most number of orders."
   ]
  },
  {
   "cell_type": "markdown",
   "id": "515e4562",
   "metadata": {},
   "source": [
    "Let's see the trend of customers spending their money over a period of a year."
   ]
  },
  {
   "cell_type": "code",
   "execution_count": 389,
   "id": "7c4c6501",
   "metadata": {},
   "outputs": [],
   "source": [
    "#First we will have to calculate total spending of customers.\n",
    "#For that let's multiply Quantity by UnitPrice for every customer.\n",
    "data_v2['AmountSpent'] = data_v2['Quantity']*data_v2['UnitPrice']"
   ]
  },
  {
   "cell_type": "code",
   "execution_count": 391,
   "id": "24e59a02",
   "metadata": {},
   "outputs": [],
   "source": [
    "amount_date = data_v2.groupby(['Date'])['AmountSpent'].sum().to_frame()"
   ]
  },
  {
   "cell_type": "code",
   "execution_count": 393,
   "id": "fdb99328",
   "metadata": {},
   "outputs": [],
   "source": [
    "amount_date.reset_index(inplace=True)"
   ]
  },
  {
   "cell_type": "code",
   "execution_count": 403,
   "id": "c0917dd6",
   "metadata": {},
   "outputs": [
    {
     "data": {
      "text/plain": [
       "[Text(0.5, 0, 'Months'), Text(0, 0.5, 'Amount spent (normalized)')]"
      ]
     },
     "execution_count": 403,
     "metadata": {},
     "output_type": "execute_result"
    },
    {
     "data": {
      "image/png": "[encoded data removed]",
      "text/plain": [
       "<Figure size 1080x576 with 1 Axes>"
      ]
     },
     "metadata": {
      "needs_background": "light"
     },
     "output_type": "display_data"
    }
   ],
   "source": [
    "#Let's plot total amount spent vs months\n",
    "plt.figure(figsize=[15,8])\n",
    "ax1 = sns.lineplot(x=amount_date['Date'], y=amount_date['AmountSpent'], marker = 'o')\n",
    "ax1.set(xlabel='Months', ylabel='Amount spent (normalized)')"
   ]
  },
  {
   "cell_type": "code",
   "execution_count": 411,
   "id": "77039633",
   "metadata": {},
   "outputs": [
    {
     "data": {
      "text/plain": [
       "1947"
      ]
     },
     "execution_count": 411,
     "metadata": {},
     "output_type": "execute_result"
    }
   ],
   "source": [
    "len(data_v2[data_v2['StockCode'] == '85123A']['Description'])"
   ]
  },
  {
   "cell_type": "code",
   "execution_count": 414,
   "id": "6f418318",
   "metadata": {},
   "outputs": [],
   "source": [
    "quantity_date = data_v2.groupby(['Date'])['Quantity'].sum().to_frame()"
   ]
  },
  {
   "cell_type": "code",
   "execution_count": 416,
   "id": "2f0078ed",
   "metadata": {},
   "outputs": [
    {
     "data": {
      "text/html": [
       "<div>\n",
       "<style scoped>\n",
       "    .dataframe tbody tr th:only-of-type {\n",
       "        vertical-align: middle;\n",
       "    }\n",
       "\n",
       "    .dataframe tbody tr th {\n",
       "        vertical-align: top;\n",
       "    }\n",
       "\n",
       "    .dataframe thead th {\n",
       "        text-align: right;\n",
       "    }\n",
       "</style>\n",
       "<table border=\"1\" class=\"dataframe\">\n",
       "  <thead>\n",
       "    <tr style=\"text-align: right;\">\n",
       "      <th></th>\n",
       "      <th>Date</th>\n",
       "      <th>Quantity</th>\n",
       "    </tr>\n",
       "  </thead>\n",
       "  <tbody>\n",
       "    <tr>\n",
       "      <th>0</th>\n",
       "      <td>2010-12</td>\n",
       "      <td>267767</td>\n",
       "    </tr>\n",
       "    <tr>\n",
       "      <th>1</th>\n",
       "      <td>2011-01</td>\n",
       "      <td>278251</td>\n",
       "    </tr>\n",
       "    <tr>\n",
       "      <th>2</th>\n",
       "      <td>2011-02</td>\n",
       "      <td>213375</td>\n",
       "    </tr>\n",
       "    <tr>\n",
       "      <th>3</th>\n",
       "      <td>2011-03</td>\n",
       "      <td>276304</td>\n",
       "    </tr>\n",
       "    <tr>\n",
       "      <th>4</th>\n",
       "      <td>2011-04</td>\n",
       "      <td>260448</td>\n",
       "    </tr>\n",
       "    <tr>\n",
       "      <th>5</th>\n",
       "      <td>2011-05</td>\n",
       "      <td>301824</td>\n",
       "    </tr>\n",
       "    <tr>\n",
       "      <th>6</th>\n",
       "      <td>2011-06</td>\n",
       "      <td>280974</td>\n",
       "    </tr>\n",
       "    <tr>\n",
       "      <th>7</th>\n",
       "      <td>2011-07</td>\n",
       "      <td>303601</td>\n",
       "    </tr>\n",
       "    <tr>\n",
       "      <th>8</th>\n",
       "      <td>2011-08</td>\n",
       "      <td>310831</td>\n",
       "    </tr>\n",
       "    <tr>\n",
       "      <th>9</th>\n",
       "      <td>2011-09</td>\n",
       "      <td>454559</td>\n",
       "    </tr>\n",
       "    <tr>\n",
       "      <th>10</th>\n",
       "      <td>2011-10</td>\n",
       "      <td>476984</td>\n",
       "    </tr>\n",
       "    <tr>\n",
       "      <th>11</th>\n",
       "      <td>2011-11</td>\n",
       "      <td>571215</td>\n",
       "    </tr>\n",
       "    <tr>\n",
       "      <th>12</th>\n",
       "      <td>2011-12</td>\n",
       "      <td>260607</td>\n",
       "    </tr>\n",
       "  </tbody>\n",
       "</table>\n",
       "</div>"
      ],
      "text/plain": [
       "       Date  Quantity\n",
       "0   2010-12    267767\n",
       "1   2011-01    278251\n",
       "2   2011-02    213375\n",
       "3   2011-03    276304\n",
       "4   2011-04    260448\n",
       "5   2011-05    301824\n",
       "6   2011-06    280974\n",
       "7   2011-07    303601\n",
       "8   2011-08    310831\n",
       "9   2011-09    454559\n",
       "10  2011-10    476984\n",
       "11  2011-11    571215\n",
       "12  2011-12    260607"
      ]
     },
     "execution_count": 416,
     "metadata": {},
     "output_type": "execute_result"
    }
   ],
   "source": [
    "quantity_date.reset_index()"
   ]
  },
  {
   "cell_type": "code",
   "execution_count": 418,
   "id": "9ba58a48",
   "metadata": {},
   "outputs": [
    {
     "data": {
      "text/plain": [
       "[Text(0.5, 0, 'Months'), Text(0, 0.5, 'Products Sold')]"
      ]
     },
     "execution_count": 418,
     "metadata": {},
     "output_type": "execute_result"
    },
    {
     "data": {
      "image/png": "[encoded data removed]",
      "text/plain": [
       "<Figure size 1080x576 with 1 Axes>"
      ]
     },
     "metadata": {
      "needs_background": "light"
     },
     "output_type": "display_data"
    }
   ],
   "source": [
    "plt.figure(figsize=[15,8])\n",
    "ax2 = sns.lineplot(data=quantity_date, x='Date', y='Quantity', marker='o')\n",
    "ax2.set(xlabel='Months', ylabel='Products Sold')"
   ]
  },
  {
   "cell_type": "markdown",
   "id": "81b042f0",
   "metadata": {},
   "source": [
    "### RFM Analysis:\n",
    "\n",
    "What Is Recency, Frequency, Monetary Value (RFM)?\n",
    "Recency, frequency, monetary value is a marketing analysis tool used to identify a company's or an organization's best customers by measuring and analyzing spending habits.\n",
    "\n",
    "An RFM analysis evaluates clients and customers by scoring them in three categories: how recently they've made a purchase, how often they buy, and the size of their purchases.\n",
    "\n",
    "The RFM model is based on three quantitative factors :-\n",
    "\n",
    "1. Recency: How recently a customer has made a purchase.\n",
    "2. Frequency: How often a customer makes a purchase.\n",
    "3. Monetary Value: How much money a customer spends on purchases.\n",
    "\n",
    "(source: https://www.investopedia.com/terms/r/rfm-recency-frequency-monetary-value.asp)"
   ]
  },
  {
   "cell_type": "code",
   "execution_count": 423,
   "id": "652ba8a0",
   "metadata": {},
   "outputs": [],
   "source": [
    "#Keeping dates only.\n",
    "data_v2['Date'] = pd.DatetimeIndex(data_v2['InvoiceDate']).date"
   ]
  },
  {
   "cell_type": "code",
   "execution_count": 438,
   "id": "5174b8bf",
   "metadata": {},
   "outputs": [],
   "source": [
    "data_recency = data_v2.groupby(['CustomerID'], as_index=False)['Date'].max() "
   ]
  },
  {
   "cell_type": "code",
   "execution_count": 439,
   "id": "354b5ef3",
   "metadata": {},
   "outputs": [
    {
     "data": {
      "text/html": [
       "<div>\n",
       "<style scoped>\n",
       "    .dataframe tbody tr th:only-of-type {\n",
       "        vertical-align: middle;\n",
       "    }\n",
       "\n",
       "    .dataframe tbody tr th {\n",
       "        vertical-align: top;\n",
       "    }\n",
       "\n",
       "    .dataframe thead th {\n",
       "        text-align: right;\n",
       "    }\n",
       "</style>\n",
       "<table border=\"1\" class=\"dataframe\">\n",
       "  <thead>\n",
       "    <tr style=\"text-align: right;\">\n",
       "      <th></th>\n",
       "      <th>CustomerID</th>\n",
       "      <th>Date</th>\n",
       "    </tr>\n",
       "  </thead>\n",
       "  <tbody>\n",
       "    <tr>\n",
       "      <th>0</th>\n",
       "      <td>12346.0</td>\n",
       "      <td>2011-01-18</td>\n",
       "    </tr>\n",
       "    <tr>\n",
       "      <th>1</th>\n",
       "      <td>12747.0</td>\n",
       "      <td>2011-12-07</td>\n",
       "    </tr>\n",
       "    <tr>\n",
       "      <th>2</th>\n",
       "      <td>12748.0</td>\n",
       "      <td>2011-12-09</td>\n",
       "    </tr>\n",
       "    <tr>\n",
       "      <th>3</th>\n",
       "      <td>12749.0</td>\n",
       "      <td>2011-12-06</td>\n",
       "    </tr>\n",
       "    <tr>\n",
       "      <th>4</th>\n",
       "      <td>12820.0</td>\n",
       "      <td>2011-12-06</td>\n",
       "    </tr>\n",
       "    <tr>\n",
       "      <th>...</th>\n",
       "      <td>...</td>\n",
       "      <td>...</td>\n",
       "    </tr>\n",
       "    <tr>\n",
       "      <th>3915</th>\n",
       "      <td>18280.0</td>\n",
       "      <td>2011-03-07</td>\n",
       "    </tr>\n",
       "    <tr>\n",
       "      <th>3916</th>\n",
       "      <td>18281.0</td>\n",
       "      <td>2011-06-12</td>\n",
       "    </tr>\n",
       "    <tr>\n",
       "      <th>3917</th>\n",
       "      <td>18282.0</td>\n",
       "      <td>2011-12-02</td>\n",
       "    </tr>\n",
       "    <tr>\n",
       "      <th>3918</th>\n",
       "      <td>18283.0</td>\n",
       "      <td>2011-12-06</td>\n",
       "    </tr>\n",
       "    <tr>\n",
       "      <th>3919</th>\n",
       "      <td>18287.0</td>\n",
       "      <td>2011-10-28</td>\n",
       "    </tr>\n",
       "  </tbody>\n",
       "</table>\n",
       "<p>3920 rows × 2 columns</p>\n",
       "</div>"
      ],
      "text/plain": [
       "      CustomerID        Date\n",
       "0        12346.0  2011-01-18\n",
       "1        12747.0  2011-12-07\n",
       "2        12748.0  2011-12-09\n",
       "3        12749.0  2011-12-06\n",
       "4        12820.0  2011-12-06\n",
       "...          ...         ...\n",
       "3915     18280.0  2011-03-07\n",
       "3916     18281.0  2011-06-12\n",
       "3917     18282.0  2011-12-02\n",
       "3918     18283.0  2011-12-06\n",
       "3919     18287.0  2011-10-28\n",
       "\n",
       "[3920 rows x 2 columns]"
      ]
     },
     "execution_count": 439,
     "metadata": {},
     "output_type": "execute_result"
    }
   ],
   "source": [
    "data_recency"
   ]
  },
  {
   "cell_type": "code",
   "execution_count": 440,
   "id": "ac9aa00b",
   "metadata": {},
   "outputs": [
    {
     "data": {
      "text/plain": [
       "datetime.date(2011, 12, 9)"
      ]
     },
     "execution_count": 440,
     "metadata": {},
     "output_type": "execute_result"
    }
   ],
   "source": [
    "max(data_v2['Date'])"
   ]
  },
  {
   "cell_type": "code",
   "execution_count": 450,
   "id": "eb4bf6ff",
   "metadata": {},
   "outputs": [],
   "source": [
    "last_date = max(data_v2['Date'])"
   ]
  },
  {
   "cell_type": "code",
   "execution_count": 463,
   "id": "4c22d10e",
   "metadata": {},
   "outputs": [],
   "source": [
    "data_recency['days_since'] = data_recency['Date'].apply(lambda x: (last_date-x).days)"
   ]
  },
  {
   "cell_type": "code",
   "execution_count": 467,
   "id": "eb07f3a6",
   "metadata": {},
   "outputs": [],
   "source": [
    "data_recency.drop(['Date'], axis=1, inplace=True)"
   ]
  },
  {
   "cell_type": "code",
   "execution_count": 471,
   "id": "fe3a1806",
   "metadata": {},
   "outputs": [
    {
     "data": {
      "text/html": [
       "<div>\n",
       "<style scoped>\n",
       "    .dataframe tbody tr th:only-of-type {\n",
       "        vertical-align: middle;\n",
       "    }\n",
       "\n",
       "    .dataframe tbody tr th {\n",
       "        vertical-align: top;\n",
       "    }\n",
       "\n",
       "    .dataframe thead th {\n",
       "        text-align: right;\n",
       "    }\n",
       "</style>\n",
       "<table border=\"1\" class=\"dataframe\">\n",
       "  <thead>\n",
       "    <tr style=\"text-align: right;\">\n",
       "      <th></th>\n",
       "      <th>CustomerID</th>\n",
       "      <th>days_since</th>\n",
       "    </tr>\n",
       "  </thead>\n",
       "  <tbody>\n",
       "    <tr>\n",
       "      <th>0</th>\n",
       "      <td>12346.0</td>\n",
       "      <td>325</td>\n",
       "    </tr>\n",
       "    <tr>\n",
       "      <th>1</th>\n",
       "      <td>12747.0</td>\n",
       "      <td>2</td>\n",
       "    </tr>\n",
       "    <tr>\n",
       "      <th>2</th>\n",
       "      <td>12748.0</td>\n",
       "      <td>0</td>\n",
       "    </tr>\n",
       "    <tr>\n",
       "      <th>3</th>\n",
       "      <td>12749.0</td>\n",
       "      <td>3</td>\n",
       "    </tr>\n",
       "    <tr>\n",
       "      <th>4</th>\n",
       "      <td>12820.0</td>\n",
       "      <td>3</td>\n",
       "    </tr>\n",
       "    <tr>\n",
       "      <th>...</th>\n",
       "      <td>...</td>\n",
       "      <td>...</td>\n",
       "    </tr>\n",
       "    <tr>\n",
       "      <th>3915</th>\n",
       "      <td>18280.0</td>\n",
       "      <td>277</td>\n",
       "    </tr>\n",
       "    <tr>\n",
       "      <th>3916</th>\n",
       "      <td>18281.0</td>\n",
       "      <td>180</td>\n",
       "    </tr>\n",
       "    <tr>\n",
       "      <th>3917</th>\n",
       "      <td>18282.0</td>\n",
       "      <td>7</td>\n",
       "    </tr>\n",
       "    <tr>\n",
       "      <th>3918</th>\n",
       "      <td>18283.0</td>\n",
       "      <td>3</td>\n",
       "    </tr>\n",
       "    <tr>\n",
       "      <th>3919</th>\n",
       "      <td>18287.0</td>\n",
       "      <td>42</td>\n",
       "    </tr>\n",
       "  </tbody>\n",
       "</table>\n",
       "<p>3920 rows × 2 columns</p>\n",
       "</div>"
      ],
      "text/plain": [
       "      CustomerID  days_since\n",
       "0        12346.0         325\n",
       "1        12747.0           2\n",
       "2        12748.0           0\n",
       "3        12749.0           3\n",
       "4        12820.0           3\n",
       "...          ...         ...\n",
       "3915     18280.0         277\n",
       "3916     18281.0         180\n",
       "3917     18282.0           7\n",
       "3918     18283.0           3\n",
       "3919     18287.0          42\n",
       "\n",
       "[3920 rows x 2 columns]"
      ]
     },
     "execution_count": 471,
     "metadata": {},
     "output_type": "execute_result"
    }
   ],
   "source": [
    "data_recency"
   ]
  },
  {
   "cell_type": "markdown",
   "id": "042b7245",
   "metadata": {},
   "source": [
    "We just calculated recency. Now let's calculate monetary."
   ]
  },
  {
   "cell_type": "code",
   "execution_count": 489,
   "id": "b6a426d8",
   "metadata": {},
   "outputs": [],
   "source": [
    "#How much money a customer spends on purchases.\n",
    "data_monetary = data_v2.groupby(['CustomerID'])['AmountSpent'].sum()"
   ]
  },
  {
   "cell_type": "code",
   "execution_count": 490,
   "id": "479e052e",
   "metadata": {},
   "outputs": [],
   "source": [
    "data_monetary = data_monetary.to_frame()"
   ]
  },
  {
   "cell_type": "code",
   "execution_count": 491,
   "id": "0351fcae",
   "metadata": {},
   "outputs": [],
   "source": [
    "freqn = data_v2.groupby(['CustomerID']).count()['InvoiceNo'].to_frame()"
   ]
  },
  {
   "cell_type": "code",
   "execution_count": 494,
   "id": "218ec981",
   "metadata": {},
   "outputs": [],
   "source": [
    "data_monetary = data_monetary.merge(freqn, on='CustomerID')"
   ]
  },
  {
   "cell_type": "code",
   "execution_count": 498,
   "id": "ab585233",
   "metadata": {},
   "outputs": [],
   "source": [
    "RFM_data = data_monetary.merge(data_recency, on='CustomerID')"
   ]
  },
  {
   "cell_type": "code",
   "execution_count": 502,
   "id": "96988b64",
   "metadata": {},
   "outputs": [],
   "source": [
    "RFM_data.rename({'AmountSpent':'Monetary', 'InvoiceNo':'Frequency', 'days_since':'Recency'}, axis=1, inplace=True)"
   ]
  },
  {
   "cell_type": "code",
   "execution_count": 505,
   "id": "654747fa",
   "metadata": {},
   "outputs": [],
   "source": [
    "RFM_data = RFM_data[['CustomerID', 'Recency', 'Frequency', 'Monetary' ]]"
   ]
  },
  {
   "cell_type": "code",
   "execution_count": 506,
   "id": "82e5f7c2",
   "metadata": {},
   "outputs": [
    {
     "data": {
      "text/html": [
       "<div>\n",
       "<style scoped>\n",
       "    .dataframe tbody tr th:only-of-type {\n",
       "        vertical-align: middle;\n",
       "    }\n",
       "\n",
       "    .dataframe tbody tr th {\n",
       "        vertical-align: top;\n",
       "    }\n",
       "\n",
       "    .dataframe thead th {\n",
       "        text-align: right;\n",
       "    }\n",
       "</style>\n",
       "<table border=\"1\" class=\"dataframe\">\n",
       "  <thead>\n",
       "    <tr style=\"text-align: right;\">\n",
       "      <th></th>\n",
       "      <th>CustomerID</th>\n",
       "      <th>Recency</th>\n",
       "      <th>Frequency</th>\n",
       "      <th>Monetary</th>\n",
       "    </tr>\n",
       "  </thead>\n",
       "  <tbody>\n",
       "    <tr>\n",
       "      <th>0</th>\n",
       "      <td>12346.0</td>\n",
       "      <td>325</td>\n",
       "      <td>1</td>\n",
       "      <td>77183.60</td>\n",
       "    </tr>\n",
       "    <tr>\n",
       "      <th>1</th>\n",
       "      <td>12747.0</td>\n",
       "      <td>2</td>\n",
       "      <td>103</td>\n",
       "      <td>4196.01</td>\n",
       "    </tr>\n",
       "    <tr>\n",
       "      <th>2</th>\n",
       "      <td>12748.0</td>\n",
       "      <td>0</td>\n",
       "      <td>4595</td>\n",
       "      <td>33719.73</td>\n",
       "    </tr>\n",
       "    <tr>\n",
       "      <th>3</th>\n",
       "      <td>12749.0</td>\n",
       "      <td>3</td>\n",
       "      <td>199</td>\n",
       "      <td>4090.88</td>\n",
       "    </tr>\n",
       "    <tr>\n",
       "      <th>4</th>\n",
       "      <td>12820.0</td>\n",
       "      <td>3</td>\n",
       "      <td>59</td>\n",
       "      <td>942.34</td>\n",
       "    </tr>\n",
       "    <tr>\n",
       "      <th>...</th>\n",
       "      <td>...</td>\n",
       "      <td>...</td>\n",
       "      <td>...</td>\n",
       "      <td>...</td>\n",
       "    </tr>\n",
       "    <tr>\n",
       "      <th>3915</th>\n",
       "      <td>18280.0</td>\n",
       "      <td>277</td>\n",
       "      <td>10</td>\n",
       "      <td>180.60</td>\n",
       "    </tr>\n",
       "    <tr>\n",
       "      <th>3916</th>\n",
       "      <td>18281.0</td>\n",
       "      <td>180</td>\n",
       "      <td>7</td>\n",
       "      <td>80.82</td>\n",
       "    </tr>\n",
       "    <tr>\n",
       "      <th>3917</th>\n",
       "      <td>18282.0</td>\n",
       "      <td>7</td>\n",
       "      <td>12</td>\n",
       "      <td>178.05</td>\n",
       "    </tr>\n",
       "    <tr>\n",
       "      <th>3918</th>\n",
       "      <td>18283.0</td>\n",
       "      <td>3</td>\n",
       "      <td>756</td>\n",
       "      <td>2094.88</td>\n",
       "    </tr>\n",
       "    <tr>\n",
       "      <th>3919</th>\n",
       "      <td>18287.0</td>\n",
       "      <td>42</td>\n",
       "      <td>70</td>\n",
       "      <td>1837.28</td>\n",
       "    </tr>\n",
       "  </tbody>\n",
       "</table>\n",
       "<p>3920 rows × 4 columns</p>\n",
       "</div>"
      ],
      "text/plain": [
       "      CustomerID  Recency  Frequency  Monetary\n",
       "0        12346.0      325          1  77183.60\n",
       "1        12747.0        2        103   4196.01\n",
       "2        12748.0        0       4595  33719.73\n",
       "3        12749.0        3        199   4090.88\n",
       "4        12820.0        3         59    942.34\n",
       "...          ...      ...        ...       ...\n",
       "3915     18280.0      277         10    180.60\n",
       "3916     18281.0      180          7     80.82\n",
       "3917     18282.0        7         12    178.05\n",
       "3918     18283.0        3        756   2094.88\n",
       "3919     18287.0       42         70   1837.28\n",
       "\n",
       "[3920 rows x 4 columns]"
      ]
     },
     "execution_count": 506,
     "metadata": {},
     "output_type": "execute_result"
    }
   ],
   "source": [
    "RFM_data"
   ]
  },
  {
   "cell_type": "markdown",
   "id": "c7a33ab4",
   "metadata": {},
   "source": [
    "### Modeling Data"
   ]
  },
  {
   "cell_type": "markdown",
   "id": "c1f7afa3",
   "metadata": {},
   "source": [
    "Let's divide the RFM data in quantiles and assign values to the customers between 1 to 4 for all the three sections by comparing values to the quantiles. Here 4 will be the highest and 1 will be the lowest."
   ]
  },
  {
   "cell_type": "code",
   "execution_count": 512,
   "id": "123b6e8c",
   "metadata": {},
   "outputs": [],
   "source": [
    "quantiles = RFM_data.quantile([0.25,0.50,0.75])"
   ]
  },
  {
   "cell_type": "code",
   "execution_count": 513,
   "id": "bed4b1d6",
   "metadata": {},
   "outputs": [],
   "source": [
    "quantiles = quantiles.to_dict()"
   ]
  },
  {
   "cell_type": "code",
   "execution_count": 515,
   "id": "39971e67",
   "metadata": {},
   "outputs": [
    {
     "data": {
      "text/plain": [
       "{0.25: 14208.75, 0.5: 15569.5, 0.75: 16913.25}"
      ]
     },
     "execution_count": 515,
     "metadata": {},
     "output_type": "execute_result"
    }
   ],
   "source": [
    "quantiles.pop('CustomerID')"
   ]
  },
  {
   "cell_type": "code",
   "execution_count": 519,
   "id": "df969e8d",
   "metadata": {},
   "outputs": [
    {
     "data": {
      "text/plain": [
       "17.0"
      ]
     },
     "execution_count": 519,
     "metadata": {},
     "output_type": "execute_result"
    }
   ],
   "source": [
    "quantiles['Recency'][0.25]"
   ]
  },
  {
   "cell_type": "code",
   "execution_count": 522,
   "id": "2e879434",
   "metadata": {},
   "outputs": [],
   "source": [
    "#Let's write functions for calculating RFM scores.\n",
    "\n",
    "def calcRscore(current, R, quant):\n",
    "    if quant[R][0.25] >= current:\n",
    "        return 1\n",
    "    elif quant[R][0.50] >= current:\n",
    "        return 2\n",
    "    elif quant[R][0.75] >= current:\n",
    "        return 3\n",
    "    else:\n",
    "        return 4\n",
    "    \n",
    "def calcFMscore(current, FM, quant):\n",
    "    if quant[FM][0.25] >= current:\n",
    "        return 4\n",
    "    elif quant[FM][0.50] >= current:\n",
    "        return 3\n",
    "    elif quant[FM][0.75] >= current:\n",
    "        return 2\n",
    "    else:\n",
    "        return 1"
   ]
  },
  {
   "cell_type": "code",
   "execution_count": 527,
   "id": "4657bfc1",
   "metadata": {},
   "outputs": [],
   "source": [
    "custom_segments = RFM_data.copy()"
   ]
  },
  {
   "cell_type": "code",
   "execution_count": 535,
   "id": "27ad1bc4",
   "metadata": {},
   "outputs": [],
   "source": [
    "custom_segments['R_score'] = custom_segments['Recency'].apply(calcRscore, args=['Recency', quantiles])\n",
    "custom_segments['F_score'] = custom_segments['Frequency'].apply(calcFMscore, args=['Frequency', quantiles])\n",
    "custom_segments['M_score'] = custom_segments['Monetary'].apply(calcFMscore, args=['Monetary', quantiles])"
   ]
  },
  {
   "cell_type": "code",
   "execution_count": 536,
   "id": "1235870c",
   "metadata": {},
   "outputs": [
    {
     "data": {
      "text/html": [
       "<div>\n",
       "<style scoped>\n",
       "    .dataframe tbody tr th:only-of-type {\n",
       "        vertical-align: middle;\n",
       "    }\n",
       "\n",
       "    .dataframe tbody tr th {\n",
       "        vertical-align: top;\n",
       "    }\n",
       "\n",
       "    .dataframe thead th {\n",
       "        text-align: right;\n",
       "    }\n",
       "</style>\n",
       "<table border=\"1\" class=\"dataframe\">\n",
       "  <thead>\n",
       "    <tr style=\"text-align: right;\">\n",
       "      <th></th>\n",
       "      <th>CustomerID</th>\n",
       "      <th>Recency</th>\n",
       "      <th>Frequency</th>\n",
       "      <th>Monetary</th>\n",
       "      <th>R_score</th>\n",
       "      <th>F_score</th>\n",
       "      <th>M_score</th>\n",
       "    </tr>\n",
       "  </thead>\n",
       "  <tbody>\n",
       "    <tr>\n",
       "      <th>0</th>\n",
       "      <td>12346.0</td>\n",
       "      <td>325</td>\n",
       "      <td>1</td>\n",
       "      <td>77183.60</td>\n",
       "      <td>4</td>\n",
       "      <td>4</td>\n",
       "      <td>1</td>\n",
       "    </tr>\n",
       "    <tr>\n",
       "      <th>1</th>\n",
       "      <td>12747.0</td>\n",
       "      <td>2</td>\n",
       "      <td>103</td>\n",
       "      <td>4196.01</td>\n",
       "      <td>1</td>\n",
       "      <td>1</td>\n",
       "      <td>1</td>\n",
       "    </tr>\n",
       "    <tr>\n",
       "      <th>2</th>\n",
       "      <td>12748.0</td>\n",
       "      <td>0</td>\n",
       "      <td>4595</td>\n",
       "      <td>33719.73</td>\n",
       "      <td>1</td>\n",
       "      <td>1</td>\n",
       "      <td>1</td>\n",
       "    </tr>\n",
       "    <tr>\n",
       "      <th>3</th>\n",
       "      <td>12749.0</td>\n",
       "      <td>3</td>\n",
       "      <td>199</td>\n",
       "      <td>4090.88</td>\n",
       "      <td>1</td>\n",
       "      <td>1</td>\n",
       "      <td>1</td>\n",
       "    </tr>\n",
       "    <tr>\n",
       "      <th>4</th>\n",
       "      <td>12820.0</td>\n",
       "      <td>3</td>\n",
       "      <td>59</td>\n",
       "      <td>942.34</td>\n",
       "      <td>1</td>\n",
       "      <td>2</td>\n",
       "      <td>2</td>\n",
       "    </tr>\n",
       "    <tr>\n",
       "      <th>...</th>\n",
       "      <td>...</td>\n",
       "      <td>...</td>\n",
       "      <td>...</td>\n",
       "      <td>...</td>\n",
       "      <td>...</td>\n",
       "      <td>...</td>\n",
       "      <td>...</td>\n",
       "    </tr>\n",
       "    <tr>\n",
       "      <th>3915</th>\n",
       "      <td>18280.0</td>\n",
       "      <td>277</td>\n",
       "      <td>10</td>\n",
       "      <td>180.60</td>\n",
       "      <td>4</td>\n",
       "      <td>4</td>\n",
       "      <td>4</td>\n",
       "    </tr>\n",
       "    <tr>\n",
       "      <th>3916</th>\n",
       "      <td>18281.0</td>\n",
       "      <td>180</td>\n",
       "      <td>7</td>\n",
       "      <td>80.82</td>\n",
       "      <td>4</td>\n",
       "      <td>4</td>\n",
       "      <td>4</td>\n",
       "    </tr>\n",
       "    <tr>\n",
       "      <th>3917</th>\n",
       "      <td>18282.0</td>\n",
       "      <td>7</td>\n",
       "      <td>12</td>\n",
       "      <td>178.05</td>\n",
       "      <td>1</td>\n",
       "      <td>4</td>\n",
       "      <td>4</td>\n",
       "    </tr>\n",
       "    <tr>\n",
       "      <th>3918</th>\n",
       "      <td>18283.0</td>\n",
       "      <td>3</td>\n",
       "      <td>756</td>\n",
       "      <td>2094.88</td>\n",
       "      <td>1</td>\n",
       "      <td>1</td>\n",
       "      <td>1</td>\n",
       "    </tr>\n",
       "    <tr>\n",
       "      <th>3919</th>\n",
       "      <td>18287.0</td>\n",
       "      <td>42</td>\n",
       "      <td>70</td>\n",
       "      <td>1837.28</td>\n",
       "      <td>2</td>\n",
       "      <td>2</td>\n",
       "      <td>1</td>\n",
       "    </tr>\n",
       "  </tbody>\n",
       "</table>\n",
       "<p>3920 rows × 7 columns</p>\n",
       "</div>"
      ],
      "text/plain": [
       "      CustomerID  Recency  Frequency  Monetary  R_score  F_score  M_score\n",
       "0        12346.0      325          1  77183.60        4        4        1\n",
       "1        12747.0        2        103   4196.01        1        1        1\n",
       "2        12748.0        0       4595  33719.73        1        1        1\n",
       "3        12749.0        3        199   4090.88        1        1        1\n",
       "4        12820.0        3         59    942.34        1        2        2\n",
       "...          ...      ...        ...       ...      ...      ...      ...\n",
       "3915     18280.0      277         10    180.60        4        4        4\n",
       "3916     18281.0      180          7     80.82        4        4        4\n",
       "3917     18282.0        7         12    178.05        1        4        4\n",
       "3918     18283.0        3        756   2094.88        1        1        1\n",
       "3919     18287.0       42         70   1837.28        2        2        1\n",
       "\n",
       "[3920 rows x 7 columns]"
      ]
     },
     "execution_count": 536,
     "metadata": {},
     "output_type": "execute_result"
    }
   ],
   "source": [
    "custom_segments"
   ]
  },
  {
   "cell_type": "code",
   "execution_count": 537,
   "id": "f07e5b93",
   "metadata": {},
   "outputs": [
    {
     "data": {
      "text/plain": [
       "{0.25: 300.28000000000003, 0.5: 652.2800000000002, 0.75: 1576.5850000000005}"
      ]
     },
     "execution_count": 537,
     "metadata": {},
     "output_type": "execute_result"
    }
   ],
   "source": [
    "quantiles['Monetary']"
   ]
  },
  {
   "cell_type": "code",
   "execution_count": 542,
   "id": "0f966e27",
   "metadata": {},
   "outputs": [],
   "source": [
    "custom_segments['RFMscore'] = custom_segments['R_score'].astype(str) + custom_segments['F_score'].astype(str) + custom_segments['M_score'].astype(str)"
   ]
  },
  {
   "cell_type": "code",
   "execution_count": 548,
   "id": "7421c2aa",
   "metadata": {},
   "outputs": [],
   "source": [
    "custom_segments.rename({'RFMscore': 'SegmentedScore'}, inplace=True, axis=1)"
   ]
  },
  {
   "cell_type": "code",
   "execution_count": 554,
   "id": "5371ff9e",
   "metadata": {},
   "outputs": [],
   "source": [
    "custom_segments['RFMscore'] = custom_segments[['R_score', 'F_score', 'M_score']].sum(axis=1)"
   ]
  },
  {
   "cell_type": "code",
   "execution_count": 556,
   "id": "c23965e3",
   "metadata": {},
   "outputs": [
    {
     "data": {
      "text/html": [
       "<div>\n",
       "<style scoped>\n",
       "    .dataframe tbody tr th:only-of-type {\n",
       "        vertical-align: middle;\n",
       "    }\n",
       "\n",
       "    .dataframe tbody tr th {\n",
       "        vertical-align: top;\n",
       "    }\n",
       "\n",
       "    .dataframe thead th {\n",
       "        text-align: right;\n",
       "    }\n",
       "</style>\n",
       "<table border=\"1\" class=\"dataframe\">\n",
       "  <thead>\n",
       "    <tr style=\"text-align: right;\">\n",
       "      <th></th>\n",
       "      <th>CustomerID</th>\n",
       "      <th>Recency</th>\n",
       "      <th>Frequency</th>\n",
       "      <th>Monetary</th>\n",
       "      <th>R_score</th>\n",
       "      <th>F_score</th>\n",
       "      <th>M_score</th>\n",
       "      <th>SegmentedScore</th>\n",
       "      <th>RFMscore</th>\n",
       "    </tr>\n",
       "  </thead>\n",
       "  <tbody>\n",
       "    <tr>\n",
       "      <th>0</th>\n",
       "      <td>12346.0</td>\n",
       "      <td>325</td>\n",
       "      <td>1</td>\n",
       "      <td>77183.60</td>\n",
       "      <td>4</td>\n",
       "      <td>4</td>\n",
       "      <td>1</td>\n",
       "      <td>441</td>\n",
       "      <td>9</td>\n",
       "    </tr>\n",
       "    <tr>\n",
       "      <th>1</th>\n",
       "      <td>12747.0</td>\n",
       "      <td>2</td>\n",
       "      <td>103</td>\n",
       "      <td>4196.01</td>\n",
       "      <td>1</td>\n",
       "      <td>1</td>\n",
       "      <td>1</td>\n",
       "      <td>111</td>\n",
       "      <td>3</td>\n",
       "    </tr>\n",
       "    <tr>\n",
       "      <th>2</th>\n",
       "      <td>12748.0</td>\n",
       "      <td>0</td>\n",
       "      <td>4595</td>\n",
       "      <td>33719.73</td>\n",
       "      <td>1</td>\n",
       "      <td>1</td>\n",
       "      <td>1</td>\n",
       "      <td>111</td>\n",
       "      <td>3</td>\n",
       "    </tr>\n",
       "    <tr>\n",
       "      <th>3</th>\n",
       "      <td>12749.0</td>\n",
       "      <td>3</td>\n",
       "      <td>199</td>\n",
       "      <td>4090.88</td>\n",
       "      <td>1</td>\n",
       "      <td>1</td>\n",
       "      <td>1</td>\n",
       "      <td>111</td>\n",
       "      <td>3</td>\n",
       "    </tr>\n",
       "    <tr>\n",
       "      <th>4</th>\n",
       "      <td>12820.0</td>\n",
       "      <td>3</td>\n",
       "      <td>59</td>\n",
       "      <td>942.34</td>\n",
       "      <td>1</td>\n",
       "      <td>2</td>\n",
       "      <td>2</td>\n",
       "      <td>122</td>\n",
       "      <td>5</td>\n",
       "    </tr>\n",
       "  </tbody>\n",
       "</table>\n",
       "</div>"
      ],
      "text/plain": [
       "   CustomerID  Recency  Frequency  Monetary  R_score  F_score  M_score  \\\n",
       "0     12346.0      325          1  77183.60        4        4        1   \n",
       "1     12747.0        2        103   4196.01        1        1        1   \n",
       "2     12748.0        0       4595  33719.73        1        1        1   \n",
       "3     12749.0        3        199   4090.88        1        1        1   \n",
       "4     12820.0        3         59    942.34        1        2        2   \n",
       "\n",
       "  SegmentedScore  RFMscore  \n",
       "0            441         9  \n",
       "1            111         3  \n",
       "2            111         3  \n",
       "3            111         3  \n",
       "4            122         5  "
      ]
     },
     "execution_count": 556,
     "metadata": {},
     "output_type": "execute_result"
    }
   ],
   "source": [
    "custom_segments.head()"
   ]
  },
  {
   "cell_type": "markdown",
   "id": "c38f5289",
   "metadata": {},
   "source": [
    "So now we can say that the customer having RFMscore 111 will be the best customer and evidently customer having RFMscore 444 will be the worst customer. Similarly, we can also say that the customer with RFMscore 113 is someone who is a frequent buyer but does not buy expensive things. Get my point?"
   ]
  },
  {
   "cell_type": "code",
   "execution_count": 559,
   "id": "9e401803",
   "metadata": {},
   "outputs": [],
   "source": [
    "custom_segments['Agg. RFM'] = custom_segments[['R_score', 'F_score', 'M_score']].mean(axis=1)"
   ]
  },
  {
   "cell_type": "code",
   "execution_count": 560,
   "id": "cdcf9601",
   "metadata": {},
   "outputs": [
    {
     "data": {
      "text/html": [
       "<div>\n",
       "<style scoped>\n",
       "    .dataframe tbody tr th:only-of-type {\n",
       "        vertical-align: middle;\n",
       "    }\n",
       "\n",
       "    .dataframe tbody tr th {\n",
       "        vertical-align: top;\n",
       "    }\n",
       "\n",
       "    .dataframe thead th {\n",
       "        text-align: right;\n",
       "    }\n",
       "</style>\n",
       "<table border=\"1\" class=\"dataframe\">\n",
       "  <thead>\n",
       "    <tr style=\"text-align: right;\">\n",
       "      <th></th>\n",
       "      <th>CustomerID</th>\n",
       "      <th>Recency</th>\n",
       "      <th>Frequency</th>\n",
       "      <th>Monetary</th>\n",
       "      <th>R_score</th>\n",
       "      <th>F_score</th>\n",
       "      <th>M_score</th>\n",
       "      <th>SegmentedScore</th>\n",
       "      <th>RFMscore</th>\n",
       "      <th>Agg. RFM</th>\n",
       "    </tr>\n",
       "  </thead>\n",
       "  <tbody>\n",
       "    <tr>\n",
       "      <th>0</th>\n",
       "      <td>12346.0</td>\n",
       "      <td>325</td>\n",
       "      <td>1</td>\n",
       "      <td>77183.60</td>\n",
       "      <td>4</td>\n",
       "      <td>4</td>\n",
       "      <td>1</td>\n",
       "      <td>441</td>\n",
       "      <td>9</td>\n",
       "      <td>3.000000</td>\n",
       "    </tr>\n",
       "    <tr>\n",
       "      <th>1</th>\n",
       "      <td>12747.0</td>\n",
       "      <td>2</td>\n",
       "      <td>103</td>\n",
       "      <td>4196.01</td>\n",
       "      <td>1</td>\n",
       "      <td>1</td>\n",
       "      <td>1</td>\n",
       "      <td>111</td>\n",
       "      <td>3</td>\n",
       "      <td>1.000000</td>\n",
       "    </tr>\n",
       "    <tr>\n",
       "      <th>2</th>\n",
       "      <td>12748.0</td>\n",
       "      <td>0</td>\n",
       "      <td>4595</td>\n",
       "      <td>33719.73</td>\n",
       "      <td>1</td>\n",
       "      <td>1</td>\n",
       "      <td>1</td>\n",
       "      <td>111</td>\n",
       "      <td>3</td>\n",
       "      <td>1.000000</td>\n",
       "    </tr>\n",
       "    <tr>\n",
       "      <th>3</th>\n",
       "      <td>12749.0</td>\n",
       "      <td>3</td>\n",
       "      <td>199</td>\n",
       "      <td>4090.88</td>\n",
       "      <td>1</td>\n",
       "      <td>1</td>\n",
       "      <td>1</td>\n",
       "      <td>111</td>\n",
       "      <td>3</td>\n",
       "      <td>1.000000</td>\n",
       "    </tr>\n",
       "    <tr>\n",
       "      <th>4</th>\n",
       "      <td>12820.0</td>\n",
       "      <td>3</td>\n",
       "      <td>59</td>\n",
       "      <td>942.34</td>\n",
       "      <td>1</td>\n",
       "      <td>2</td>\n",
       "      <td>2</td>\n",
       "      <td>122</td>\n",
       "      <td>5</td>\n",
       "      <td>1.666667</td>\n",
       "    </tr>\n",
       "    <tr>\n",
       "      <th>...</th>\n",
       "      <td>...</td>\n",
       "      <td>...</td>\n",
       "      <td>...</td>\n",
       "      <td>...</td>\n",
       "      <td>...</td>\n",
       "      <td>...</td>\n",
       "      <td>...</td>\n",
       "      <td>...</td>\n",
       "      <td>...</td>\n",
       "      <td>...</td>\n",
       "    </tr>\n",
       "    <tr>\n",
       "      <th>3915</th>\n",
       "      <td>18280.0</td>\n",
       "      <td>277</td>\n",
       "      <td>10</td>\n",
       "      <td>180.60</td>\n",
       "      <td>4</td>\n",
       "      <td>4</td>\n",
       "      <td>4</td>\n",
       "      <td>444</td>\n",
       "      <td>12</td>\n",
       "      <td>4.000000</td>\n",
       "    </tr>\n",
       "    <tr>\n",
       "      <th>3916</th>\n",
       "      <td>18281.0</td>\n",
       "      <td>180</td>\n",
       "      <td>7</td>\n",
       "      <td>80.82</td>\n",
       "      <td>4</td>\n",
       "      <td>4</td>\n",
       "      <td>4</td>\n",
       "      <td>444</td>\n",
       "      <td>12</td>\n",
       "      <td>4.000000</td>\n",
       "    </tr>\n",
       "    <tr>\n",
       "      <th>3917</th>\n",
       "      <td>18282.0</td>\n",
       "      <td>7</td>\n",
       "      <td>12</td>\n",
       "      <td>178.05</td>\n",
       "      <td>1</td>\n",
       "      <td>4</td>\n",
       "      <td>4</td>\n",
       "      <td>144</td>\n",
       "      <td>9</td>\n",
       "      <td>3.000000</td>\n",
       "    </tr>\n",
       "    <tr>\n",
       "      <th>3918</th>\n",
       "      <td>18283.0</td>\n",
       "      <td>3</td>\n",
       "      <td>756</td>\n",
       "      <td>2094.88</td>\n",
       "      <td>1</td>\n",
       "      <td>1</td>\n",
       "      <td>1</td>\n",
       "      <td>111</td>\n",
       "      <td>3</td>\n",
       "      <td>1.000000</td>\n",
       "    </tr>\n",
       "    <tr>\n",
       "      <th>3919</th>\n",
       "      <td>18287.0</td>\n",
       "      <td>42</td>\n",
       "      <td>70</td>\n",
       "      <td>1837.28</td>\n",
       "      <td>2</td>\n",
       "      <td>2</td>\n",
       "      <td>1</td>\n",
       "      <td>221</td>\n",
       "      <td>5</td>\n",
       "      <td>1.666667</td>\n",
       "    </tr>\n",
       "  </tbody>\n",
       "</table>\n",
       "<p>3920 rows × 10 columns</p>\n",
       "</div>"
      ],
      "text/plain": [
       "      CustomerID  Recency  Frequency  Monetary  R_score  F_score  M_score  \\\n",
       "0        12346.0      325          1  77183.60        4        4        1   \n",
       "1        12747.0        2        103   4196.01        1        1        1   \n",
       "2        12748.0        0       4595  33719.73        1        1        1   \n",
       "3        12749.0        3        199   4090.88        1        1        1   \n",
       "4        12820.0        3         59    942.34        1        2        2   \n",
       "...          ...      ...        ...       ...      ...      ...      ...   \n",
       "3915     18280.0      277         10    180.60        4        4        4   \n",
       "3916     18281.0      180          7     80.82        4        4        4   \n",
       "3917     18282.0        7         12    178.05        1        4        4   \n",
       "3918     18283.0        3        756   2094.88        1        1        1   \n",
       "3919     18287.0       42         70   1837.28        2        2        1   \n",
       "\n",
       "     SegmentedScore  RFMscore  Agg. RFM  \n",
       "0               441         9  3.000000  \n",
       "1               111         3  1.000000  \n",
       "2               111         3  1.000000  \n",
       "3               111         3  1.000000  \n",
       "4               122         5  1.666667  \n",
       "...             ...       ...       ...  \n",
       "3915            444        12  4.000000  \n",
       "3916            444        12  4.000000  \n",
       "3917            144         9  3.000000  \n",
       "3918            111         3  1.000000  \n",
       "3919            221         5  1.666667  \n",
       "\n",
       "[3920 rows x 10 columns]"
      ]
     },
     "execution_count": 560,
     "metadata": {},
     "output_type": "execute_result"
    }
   ],
   "source": [
    "custom_segments"
   ]
  },
  {
   "cell_type": "markdown",
   "id": "cd638bfd",
   "metadata": {},
   "source": [
    "- Champions are your best customers, who bought most recently, most often, and are heavy spenders. Reward these customers. They can become early adopters for new products and will help promote your brand.\n",
    "- Potential Loyalists are your recent customers with average frequency and who spent a good amount. Offer membership or loyalty programs or recommend related products to upsell them and help them become your Loyalists or Champions.\n",
    "- New Customers are your customers who have a high overall RFM score but are not frequent shoppers. Start building relationships with these customers by providing onboarding support and special offers to increase their visits.\n",
    "- At Risk Customers are your customers who purchased often and spent big amounts, but haven’t purchased recently. Send them personalized reactivation campaigns to reconnect, and offer renewals and helpful products to encourage another purchase.\n",
    "- Can’t Lose Them are customers who used to visit and purchase quite often, but haven’t been visiting recently. Bring them back with relevant promotions, and run surveys to find out what went wrong and avoid losing them to a competitor.\n",
    "\n",
    "(source: https://clevertap.com/blog/rfm-analysis/)"
   ]
  },
  {
   "cell_type": "markdown",
   "id": "97345a06",
   "metadata": {},
   "source": [
    "Let's calculate the percentage of these customers from our data. "
   ]
  },
  {
   "cell_type": "code",
   "execution_count": 562,
   "id": "ff97945d",
   "metadata": {},
   "outputs": [],
   "source": [
    "custom_segments['SegmentedScore'] = custom_segments['SegmentedScore'].astype(str).astype(int)"
   ]
  },
  {
   "cell_type": "code",
   "execution_count": 583,
   "id": "2b217fed",
   "metadata": {},
   "outputs": [
    {
     "name": "stdout",
     "output_type": "stream",
     "text": [
      "Percentage of 'Champion' in the dataset: 10.433673469387756\n",
      "Percentage of 'Potential Loyalists' in the dataset: 3.9795918367346936\n",
      "Percentage of 'New Customers' customers in the dataset: 0.5867346938775511\n",
      "Percentage of 'Risk Customers' customers in the dataset: 0.7142857142857143\n",
      "Percentage of 'Can't lose them' customers in the dataset: 0.30612244897959184\n"
     ]
    }
   ],
   "source": [
    "print(\"Percentage of 'Champion' in the dataset: {}\".format(len(custom_segments[custom_segments['SegmentedScore'] == 111]) / len(custom_segments) *100))\n",
    "print(\"Percentage of 'Potential Loyalists' in the dataset: {}\".format(len(custom_segments[custom_segments['SegmentedScore'] == 222]) / len(custom_segments) * 100))\n",
    "print(\"Percentage of 'New Customers' customers in the dataset: {}\".format((len(custom_segments[custom_segments['SegmentedScore'] == 141]) + len(custom_segments[custom_segments['SegmentedScore'] == 131]))/len(custom_segments) * 100))\n",
    "print(\"Percentage of 'Risk Customers' customers in the dataset: {}\".format((len(custom_segments[custom_segments['SegmentedScore'] == 421])+len(custom_segments[custom_segments['SegmentedScore'] == 411])) / len(custom_segments) * 100))\n",
    "print(\"Percentage of 'Can't lose them' customers in the dataset: {}\".format((len(custom_segments[custom_segments['SegmentedScore'] == 414]) + len(custom_segments[custom_segments['SegmentedScore'] == 313]))/len(custom_segments) * 100))"
   ]
  },
  {
   "cell_type": "code",
   "execution_count": 587,
   "id": "5a45c459",
   "metadata": {},
   "outputs": [],
   "source": [
    "cst_type = [0] * len(custom_segments)\n",
    "\n",
    "for i in range(0,len(custom_segments)):\n",
    "\n",
    "    if custom_segments['SegmentedScore'][i] == 111:\n",
    "        cst_type[i] = \"Champion\"\n",
    "        \n",
    "    elif custom_segments['SegmentedScore'][i] == 222 :\n",
    "        cst_type[i] = \"Potential Loyalist\"\n",
    "        \n",
    "    elif custom_segments['SegmentedScore'][i] == 141 or custom_segments['SegmentedScore'][i] == 131:\n",
    "        cst_type[i] = \"New Customers\"\n",
    "    \n",
    "    elif custom_segments['SegmentedScore'][i] == 411 or custom_segments['SegmentedScore'][i] == 421:\n",
    "        cst_type[i] = \"Risk Customers\"\n",
    "    \n",
    "    elif custom_segments['SegmentedScore'][i] == 414 or custom_segments['SegmentedScore'][i] == 313:\n",
    "        cst_type[i] = \"Can't lose them\"\n",
    "\n",
    "    elif custom_segments['F_score'][i] == 1:\n",
    "        cst_type[i] = \"Loyal Customers\"  \n",
    "    \n",
    "    elif custom_segments['M_score'][i] == 1:\n",
    "        cst_type[i] = \"Big Spenders\"   \n",
    "        \n",
    "    else:\n",
    "        cst_type[i] = \"Others\""
   ]
  },
  {
   "cell_type": "code",
   "execution_count": 589,
   "id": "534b55f1",
   "metadata": {},
   "outputs": [],
   "source": [
    "custom_segments['CustomerType'] = cst_type"
   ]
  },
  {
   "cell_type": "code",
   "execution_count": 590,
   "id": "adeb129a",
   "metadata": {},
   "outputs": [
    {
     "data": {
      "text/html": [
       "<div>\n",
       "<style scoped>\n",
       "    .dataframe tbody tr th:only-of-type {\n",
       "        vertical-align: middle;\n",
       "    }\n",
       "\n",
       "    .dataframe tbody tr th {\n",
       "        vertical-align: top;\n",
       "    }\n",
       "\n",
       "    .dataframe thead th {\n",
       "        text-align: right;\n",
       "    }\n",
       "</style>\n",
       "<table border=\"1\" class=\"dataframe\">\n",
       "  <thead>\n",
       "    <tr style=\"text-align: right;\">\n",
       "      <th></th>\n",
       "      <th>CustomerID</th>\n",
       "      <th>Recency</th>\n",
       "      <th>Frequency</th>\n",
       "      <th>Monetary</th>\n",
       "      <th>R_score</th>\n",
       "      <th>F_score</th>\n",
       "      <th>M_score</th>\n",
       "      <th>SegmentedScore</th>\n",
       "      <th>RFMscore</th>\n",
       "      <th>Agg. RFM</th>\n",
       "      <th>CustomerType</th>\n",
       "    </tr>\n",
       "  </thead>\n",
       "  <tbody>\n",
       "    <tr>\n",
       "      <th>0</th>\n",
       "      <td>12346.0</td>\n",
       "      <td>325</td>\n",
       "      <td>1</td>\n",
       "      <td>77183.60</td>\n",
       "      <td>4</td>\n",
       "      <td>4</td>\n",
       "      <td>1</td>\n",
       "      <td>441</td>\n",
       "      <td>9</td>\n",
       "      <td>3.000000</td>\n",
       "      <td>Big Spenders</td>\n",
       "    </tr>\n",
       "    <tr>\n",
       "      <th>1</th>\n",
       "      <td>12747.0</td>\n",
       "      <td>2</td>\n",
       "      <td>103</td>\n",
       "      <td>4196.01</td>\n",
       "      <td>1</td>\n",
       "      <td>1</td>\n",
       "      <td>1</td>\n",
       "      <td>111</td>\n",
       "      <td>3</td>\n",
       "      <td>1.000000</td>\n",
       "      <td>Champion</td>\n",
       "    </tr>\n",
       "    <tr>\n",
       "      <th>2</th>\n",
       "      <td>12748.0</td>\n",
       "      <td>0</td>\n",
       "      <td>4595</td>\n",
       "      <td>33719.73</td>\n",
       "      <td>1</td>\n",
       "      <td>1</td>\n",
       "      <td>1</td>\n",
       "      <td>111</td>\n",
       "      <td>3</td>\n",
       "      <td>1.000000</td>\n",
       "      <td>Champion</td>\n",
       "    </tr>\n",
       "    <tr>\n",
       "      <th>3</th>\n",
       "      <td>12749.0</td>\n",
       "      <td>3</td>\n",
       "      <td>199</td>\n",
       "      <td>4090.88</td>\n",
       "      <td>1</td>\n",
       "      <td>1</td>\n",
       "      <td>1</td>\n",
       "      <td>111</td>\n",
       "      <td>3</td>\n",
       "      <td>1.000000</td>\n",
       "      <td>Champion</td>\n",
       "    </tr>\n",
       "    <tr>\n",
       "      <th>4</th>\n",
       "      <td>12820.0</td>\n",
       "      <td>3</td>\n",
       "      <td>59</td>\n",
       "      <td>942.34</td>\n",
       "      <td>1</td>\n",
       "      <td>2</td>\n",
       "      <td>2</td>\n",
       "      <td>122</td>\n",
       "      <td>5</td>\n",
       "      <td>1.666667</td>\n",
       "      <td>Others</td>\n",
       "    </tr>\n",
       "    <tr>\n",
       "      <th>...</th>\n",
       "      <td>...</td>\n",
       "      <td>...</td>\n",
       "      <td>...</td>\n",
       "      <td>...</td>\n",
       "      <td>...</td>\n",
       "      <td>...</td>\n",
       "      <td>...</td>\n",
       "      <td>...</td>\n",
       "      <td>...</td>\n",
       "      <td>...</td>\n",
       "      <td>...</td>\n",
       "    </tr>\n",
       "    <tr>\n",
       "      <th>3915</th>\n",
       "      <td>18280.0</td>\n",
       "      <td>277</td>\n",
       "      <td>10</td>\n",
       "      <td>180.60</td>\n",
       "      <td>4</td>\n",
       "      <td>4</td>\n",
       "      <td>4</td>\n",
       "      <td>444</td>\n",
       "      <td>12</td>\n",
       "      <td>4.000000</td>\n",
       "      <td>Others</td>\n",
       "    </tr>\n",
       "    <tr>\n",
       "      <th>3916</th>\n",
       "      <td>18281.0</td>\n",
       "      <td>180</td>\n",
       "      <td>7</td>\n",
       "      <td>80.82</td>\n",
       "      <td>4</td>\n",
       "      <td>4</td>\n",
       "      <td>4</td>\n",
       "      <td>444</td>\n",
       "      <td>12</td>\n",
       "      <td>4.000000</td>\n",
       "      <td>Others</td>\n",
       "    </tr>\n",
       "    <tr>\n",
       "      <th>3917</th>\n",
       "      <td>18282.0</td>\n",
       "      <td>7</td>\n",
       "      <td>12</td>\n",
       "      <td>178.05</td>\n",
       "      <td>1</td>\n",
       "      <td>4</td>\n",
       "      <td>4</td>\n",
       "      <td>144</td>\n",
       "      <td>9</td>\n",
       "      <td>3.000000</td>\n",
       "      <td>Others</td>\n",
       "    </tr>\n",
       "    <tr>\n",
       "      <th>3918</th>\n",
       "      <td>18283.0</td>\n",
       "      <td>3</td>\n",
       "      <td>756</td>\n",
       "      <td>2094.88</td>\n",
       "      <td>1</td>\n",
       "      <td>1</td>\n",
       "      <td>1</td>\n",
       "      <td>111</td>\n",
       "      <td>3</td>\n",
       "      <td>1.000000</td>\n",
       "      <td>Champion</td>\n",
       "    </tr>\n",
       "    <tr>\n",
       "      <th>3919</th>\n",
       "      <td>18287.0</td>\n",
       "      <td>42</td>\n",
       "      <td>70</td>\n",
       "      <td>1837.28</td>\n",
       "      <td>2</td>\n",
       "      <td>2</td>\n",
       "      <td>1</td>\n",
       "      <td>221</td>\n",
       "      <td>5</td>\n",
       "      <td>1.666667</td>\n",
       "      <td>Big Spenders</td>\n",
       "    </tr>\n",
       "  </tbody>\n",
       "</table>\n",
       "<p>3920 rows × 11 columns</p>\n",
       "</div>"
      ],
      "text/plain": [
       "      CustomerID  Recency  Frequency  Monetary  R_score  F_score  M_score  \\\n",
       "0        12346.0      325          1  77183.60        4        4        1   \n",
       "1        12747.0        2        103   4196.01        1        1        1   \n",
       "2        12748.0        0       4595  33719.73        1        1        1   \n",
       "3        12749.0        3        199   4090.88        1        1        1   \n",
       "4        12820.0        3         59    942.34        1        2        2   \n",
       "...          ...      ...        ...       ...      ...      ...      ...   \n",
       "3915     18280.0      277         10    180.60        4        4        4   \n",
       "3916     18281.0      180          7     80.82        4        4        4   \n",
       "3917     18282.0        7         12    178.05        1        4        4   \n",
       "3918     18283.0        3        756   2094.88        1        1        1   \n",
       "3919     18287.0       42         70   1837.28        2        2        1   \n",
       "\n",
       "      SegmentedScore  RFMscore  Agg. RFM  CustomerType  \n",
       "0                441         9  3.000000  Big Spenders  \n",
       "1                111         3  1.000000      Champion  \n",
       "2                111         3  1.000000      Champion  \n",
       "3                111         3  1.000000      Champion  \n",
       "4                122         5  1.666667        Others  \n",
       "...              ...       ...       ...           ...  \n",
       "3915             444        12  4.000000        Others  \n",
       "3916             444        12  4.000000        Others  \n",
       "3917             144         9  3.000000        Others  \n",
       "3918             111         3  1.000000      Champion  \n",
       "3919             221         5  1.666667  Big Spenders  \n",
       "\n",
       "[3920 rows x 11 columns]"
      ]
     },
     "execution_count": 590,
     "metadata": {},
     "output_type": "execute_result"
    }
   ],
   "source": [
    "custom_segments"
   ]
  },
  {
   "cell_type": "markdown",
   "id": "d68cab12",
   "metadata": {},
   "source": [
    "- Example use case of this analysis:\n",
    "By this analysis we can answer many questions about our products and target customers.\n",
    "For example: Which products are popular between the frequent buyers?"
   ]
  },
  {
   "cell_type": "code",
   "execution_count": 596,
   "id": "b495ab40",
   "metadata": {},
   "outputs": [],
   "source": [
    "#Let's answer the above question\n",
    "\n",
    "champion_customers = custom_segments[custom_segments['CustomerType'] == 'Champion']\n",
    "champs = list(champion_customers['CustomerID'])\n",
    "champs_data = data_v2[data_v2['CustomerID'].isin(champs)]"
   ]
  },
  {
   "cell_type": "code",
   "execution_count": 601,
   "id": "828f4abb",
   "metadata": {},
   "outputs": [
    {
     "data": {
      "text/plain": [
       "WHITE HANGING HEART T-LIGHT HOLDER    755\n",
       "JUMBO BAG RED RETROSPOT               743\n",
       "LUNCH BAG RED RETROSPOT               605\n",
       "LUNCH BAG  BLACK SKULL.               527\n",
       "PARTY BUNTING                         510\n",
       "                                     ... \n",
       "PINK CHERRY BLOSSOM CUP & SAUCER        1\n",
       "VINTAGE NOTEBOOK BEAUTY GIRL            1\n",
       "MULTICOLOUR EASTER RABBIT               1\n",
       "WRAP GREEN RUSSIAN FOLKART              1\n",
       "GIRLY PINK TOOL SET                     1\n",
       "Name: Description, Length: 3563, dtype: int64"
      ]
     },
     "execution_count": 601,
     "metadata": {},
     "output_type": "execute_result"
    }
   ],
   "source": [
    "champs_data['Description'].value_counts()"
   ]
  },
  {
   "cell_type": "markdown",
   "id": "88200dab",
   "metadata": {},
   "source": [
    "As you can see thus we can answer many questions related to customers and the products."
   ]
  },
  {
   "cell_type": "code",
   "execution_count": 623,
   "id": "d85a5001",
   "metadata": {},
   "outputs": [],
   "source": [
    "#Let's visualize\n",
    "labelled_data = custom_segments.groupby('CustomerType')['CustomerID'].count().sort_values(ascending=False).reset_index()\n",
    "labelled_data.drop([0], inplace=True)"
   ]
  },
  {
   "cell_type": "code",
   "execution_count": 628,
   "id": "ef682e46",
   "metadata": {},
   "outputs": [
    {
     "data": {
      "image/png": "[encoded data removed]",
      "text/plain": [
       "<Figure size 864x576 with 1 Axes>"
      ]
     },
     "metadata": {
      "needs_background": "light"
     },
     "output_type": "display_data"
    }
   ],
   "source": [
    "plt.figure(figsize=[12,8])\n",
    "sns.barplot(data=labelled_data, x = 'CustomerType', y = 'CustomerID', palette='Accent')\n",
    "sns.despine()"
   ]
  },
  {
   "cell_type": "code",
   "execution_count": 607,
   "id": "b4e056a2",
   "metadata": {},
   "outputs": [
    {
     "data": {
      "text/plain": [
       "Others                2511\n",
       "Loyal Customers        539\n",
       "Champion               409\n",
       "Big Spenders           242\n",
       "Potential Loyalist     156\n",
       "Risk Customers          28\n",
       "New Customers           23\n",
       "Can't lose them         12\n",
       "Name: CustomerType, dtype: int64"
      ]
     },
     "execution_count": 607,
     "metadata": {},
     "output_type": "execute_result"
    }
   ],
   "source": [
    "custom_segments['CustomerType'].value_counts()"
   ]
  },
  {
   "cell_type": "markdown",
   "id": "74b7654b",
   "metadata": {},
   "source": [
    "### K-Means Clustering:"
   ]
  },
  {
   "cell_type": "code",
   "execution_count": 629,
   "id": "5592d3ce",
   "metadata": {},
   "outputs": [],
   "source": [
    "RFM_model = custom_segments[['Recency', 'Frequency', 'Monetary']]"
   ]
  },
  {
   "cell_type": "code",
   "execution_count": 632,
   "id": "72070119",
   "metadata": {},
   "outputs": [
    {
     "data": {
      "text/plain": [
       "<seaborn.axisgrid.FacetGrid at 0x7f944d255b20>"
      ]
     },
     "execution_count": 632,
     "metadata": {},
     "output_type": "execute_result"
    },
    {
     "data": {
      "image/png": "[encoded data removed]",
      "text/plain": [
       "<Figure size 360x360 with 1 Axes>"
      ]
     },
     "metadata": {
      "needs_background": "light"
     },
     "output_type": "display_data"
    }
   ],
   "source": [
    "sns.displot(RFM_model['Recency'])"
   ]
  },
  {
   "cell_type": "code",
   "execution_count": 633,
   "id": "8f8d92c2",
   "metadata": {},
   "outputs": [
    {
     "data": {
      "text/plain": [
       "<seaborn.axisgrid.FacetGrid at 0x7f944b854850>"
      ]
     },
     "execution_count": 633,
     "metadata": {},
     "output_type": "execute_result"
    },
    {
     "data": {
      "image/png": "[encoded data removed]",
      "text/plain": [
       "<Figure size 360x360 with 1 Axes>"
      ]
     },
     "metadata": {
      "needs_background": "light"
     },
     "output_type": "display_data"
    }
   ],
   "source": [
    "sns.displot(RFM_model['Frequency'])"
   ]
  },
  {
   "cell_type": "code",
   "execution_count": 637,
   "id": "8a582652",
   "metadata": {},
   "outputs": [
    {
     "data": {
      "text/plain": [
       "<seaborn.axisgrid.FacetGrid at 0x7f944fe6b970>"
      ]
     },
     "execution_count": 637,
     "metadata": {},
     "output_type": "execute_result"
    },
    {
     "data": {
      "image/png": "[encoded data removed]",
      "text/plain": [
       "<Figure size 360x360 with 1 Axes>"
      ]
     },
     "metadata": {
      "needs_background": "light"
     },
     "output_type": "display_data"
    }
   ],
   "source": [
    "sns.displot(RFM_model['Monetary'])"
   ]
  },
  {
   "cell_type": "markdown",
   "id": "5e5c82d5",
   "metadata": {},
   "source": [
    "We know that K-means clustering algorithm is sensitive to outliers. As we can see from the histograms, there are outliers present in our data.\n",
    "\n",
    "- How to calculate outliers?\n",
    "\n",
    "One way of identifying outliers is to compare the gaps between the median, minimum, maximum, 1st quartile, and 3rd quartile values. If the gap between the 3rd quartile and the maximum value is noticeably larger than the gap between the median and the 3rd quartile, this suggests that the maximum value is unusual and is likely to be an outlier. Similarly, if the gap between the 1st quartile and the minimum value is noticeably larger than the gap between the median and the 1st quartile, this suggests that the minimum value is unusual and is likely to be an outlier."
   ]
  },
  {
   "cell_type": "code",
   "execution_count": 639,
   "id": "ac6cd13b",
   "metadata": {},
   "outputs": [],
   "source": [
    "#let's calculate median, minimum, maximum, 1st Q, 3rd Q values for our data.\n",
    "\n",
    "dqt_rfm = RFM_model.describe().transpose()"
   ]
  },
  {
   "cell_type": "code",
   "execution_count": 641,
   "id": "ae72f7a6",
   "metadata": {},
   "outputs": [],
   "source": [
    "dqt_rfm.rename({'25%': 'Q1', '50%':'Median','75%':'Q3'}, axis=1, inplace=True)"
   ]
  },
  {
   "cell_type": "code",
   "execution_count": 642,
   "id": "14811856",
   "metadata": {},
   "outputs": [
    {
     "data": {
      "text/html": [
       "<div>\n",
       "<style scoped>\n",
       "    .dataframe tbody tr th:only-of-type {\n",
       "        vertical-align: middle;\n",
       "    }\n",
       "\n",
       "    .dataframe tbody tr th {\n",
       "        vertical-align: top;\n",
       "    }\n",
       "\n",
       "    .dataframe thead th {\n",
       "        text-align: right;\n",
       "    }\n",
       "</style>\n",
       "<table border=\"1\" class=\"dataframe\">\n",
       "  <thead>\n",
       "    <tr style=\"text-align: right;\">\n",
       "      <th></th>\n",
       "      <th>count</th>\n",
       "      <th>mean</th>\n",
       "      <th>std</th>\n",
       "      <th>min</th>\n",
       "      <th>Q1</th>\n",
       "      <th>Median</th>\n",
       "      <th>Q3</th>\n",
       "      <th>max</th>\n",
       "    </tr>\n",
       "  </thead>\n",
       "  <tbody>\n",
       "    <tr>\n",
       "      <th>Recency</th>\n",
       "      <td>3920.0</td>\n",
       "      <td>91.742092</td>\n",
       "      <td>99.533485</td>\n",
       "      <td>0.00</td>\n",
       "      <td>17.00</td>\n",
       "      <td>50.00</td>\n",
       "      <td>142.000</td>\n",
       "      <td>373.0</td>\n",
       "    </tr>\n",
       "    <tr>\n",
       "      <th>Frequency</th>\n",
       "      <td>3920.0</td>\n",
       "      <td>90.388010</td>\n",
       "      <td>217.808385</td>\n",
       "      <td>1.00</td>\n",
       "      <td>17.00</td>\n",
       "      <td>41.00</td>\n",
       "      <td>99.250</td>\n",
       "      <td>7847.0</td>\n",
       "    </tr>\n",
       "    <tr>\n",
       "      <th>Monetary</th>\n",
       "      <td>3920.0</td>\n",
       "      <td>1864.385601</td>\n",
       "      <td>7482.817477</td>\n",
       "      <td>3.75</td>\n",
       "      <td>300.28</td>\n",
       "      <td>652.28</td>\n",
       "      <td>1576.585</td>\n",
       "      <td>259657.3</td>\n",
       "    </tr>\n",
       "  </tbody>\n",
       "</table>\n",
       "</div>"
      ],
      "text/plain": [
       "            count         mean          std   min      Q1  Median        Q3  \\\n",
       "Recency    3920.0    91.742092    99.533485  0.00   17.00   50.00   142.000   \n",
       "Frequency  3920.0    90.388010   217.808385  1.00   17.00   41.00    99.250   \n",
       "Monetary   3920.0  1864.385601  7482.817477  3.75  300.28  652.28  1576.585   \n",
       "\n",
       "                max  \n",
       "Recency       373.0  \n",
       "Frequency    7847.0  \n",
       "Monetary   259657.3  "
      ]
     },
     "execution_count": 642,
     "metadata": {},
     "output_type": "execute_result"
    }
   ],
   "source": [
    "dqt_rfm"
   ]
  },
  {
   "cell_type": "code",
   "execution_count": 645,
   "id": "13d0e7d3",
   "metadata": {},
   "outputs": [],
   "source": [
    "max_outlier_range = dqt_rfm['Q3'] + 1.5*(dqt_rfm['Q3'] - dqt_rfm['Q1'])\n",
    "min_outlier_range = dqt_rfm['Q1'] - 1.5*(dqt_rfm['Q3'] - dqt_rfm['Q1'])\n",
    "upper_threshold = dict(max_outlier_range)\n",
    "lower_threshold = dict(min_outlier_range)"
   ]
  },
  {
   "cell_type": "code",
   "execution_count": 647,
   "id": "feab05b5",
   "metadata": {},
   "outputs": [
    {
     "name": "stdout",
     "output_type": "stream",
     "text": [
      "{'Recency': 329.5, 'Frequency': 222.625, 'Monetary': 3491.0425000000014}\n",
      "{'Recency': -170.5, 'Frequency': -106.375, 'Monetary': -1614.177500000001}\n"
     ]
    }
   ],
   "source": [
    "print(upper_threshold)\n",
    "print(lower_threshold)"
   ]
  },
  {
   "cell_type": "code",
   "execution_count": 649,
   "id": "00db2c6a",
   "metadata": {},
   "outputs": [
    {
     "data": {
      "text/plain": [
       "329.5"
      ]
     },
     "execution_count": 649,
     "metadata": {},
     "output_type": "execute_result"
    }
   ],
   "source": [
    "upper_threshold['Recency']"
   ]
  },
  {
   "cell_type": "markdown",
   "id": "0254cec3",
   "metadata": {},
   "source": [
    "You can see the max and min values from the dqt_rfm dataframe and see that outliers are present in the dataset when you comapre them to upper and lower threshold. To deal with these outliers we can use clamp transforamtion. In this we convert the values which are lower than the lower threshold to lower threshold and values which are greater than the upper threshold to upper threshold."
   ]
  },
  {
   "cell_type": "code",
   "execution_count": 648,
   "id": "ccae5ae9",
   "metadata": {},
   "outputs": [],
   "source": [
    "RFM_model_v1 = RFM_model.copy()"
   ]
  },
  {
   "cell_type": "code",
   "execution_count": 654,
   "id": "632f238b",
   "metadata": {},
   "outputs": [],
   "source": [
    "def clamp(x, upper, lower):\n",
    "    if x < lower:\n",
    "        return lower\n",
    "    elif x > upper:\n",
    "        return upper\n",
    "    else:\n",
    "        return x"
   ]
  },
  {
   "cell_type": "code",
   "execution_count": 659,
   "id": "61b6b610",
   "metadata": {},
   "outputs": [],
   "source": [
    "RFM_model_v1['Recency'] = RFM_model_v1['Recency'].apply(clamp, args=[upper_threshold['Recency'], lower_threshold['Recency']])\n",
    "RFM_model_v1['Frequency'] = RFM_model_v1['Frequency'].apply(clamp, args=[upper_threshold['Frequency'], lower_threshold['Frequency']])\n",
    "RFM_model_v1['Monetary'] = RFM_model_v1['Monetary'].apply(clamp, args=[upper_threshold['Monetary'], lower_threshold['Monetary']])"
   ]
  },
  {
   "cell_type": "code",
   "execution_count": 666,
   "id": "4bf10c07",
   "metadata": {},
   "outputs": [
    {
     "data": {
      "text/plain": [
       "<seaborn.axisgrid.FacetGrid at 0x7f9454c79cd0>"
      ]
     },
     "execution_count": 666,
     "metadata": {},
     "output_type": "execute_result"
    },
    {
     "data": {
      "image/png": "[encoded data removed]",
      "text/plain": [
       "<Figure size 360x360 with 1 Axes>"
      ]
     },
     "metadata": {
      "needs_background": "light"
     },
     "output_type": "display_data"
    }
   ],
   "source": [
    "sns.displot(RFM_model_v1['Recency'])"
   ]
  },
  {
   "cell_type": "code",
   "execution_count": 676,
   "id": "069b2e59",
   "metadata": {},
   "outputs": [
    {
     "data": {
      "text/plain": [
       "<seaborn.axisgrid.FacetGrid at 0x7f9437442940>"
      ]
     },
     "execution_count": 676,
     "metadata": {},
     "output_type": "execute_result"
    },
    {
     "data": {
      "image/png": "[encoded data removed]",
      "text/plain": [
       "<Figure size 360x360 with 1 Axes>"
      ]
     },
     "metadata": {
      "needs_background": "light"
     },
     "output_type": "display_data"
    }
   ],
   "source": [
    "sns.displot(RFM_model_v1['Frequency'])"
   ]
  },
  {
   "cell_type": "code",
   "execution_count": 677,
   "id": "42597f13",
   "metadata": {},
   "outputs": [
    {
     "data": {
      "text/plain": [
       "<seaborn.axisgrid.FacetGrid at 0x7f943809eac0>"
      ]
     },
     "execution_count": 677,
     "metadata": {},
     "output_type": "execute_result"
    },
    {
     "data": {
      "image/png": "[encoded data removed]",
      "text/plain": [
       "<Figure size 360x360 with 1 Axes>"
      ]
     },
     "metadata": {
      "needs_background": "light"
     },
     "output_type": "display_data"
    }
   ],
   "source": [
    "sns.displot(RFM_model_v1['Monetary'])"
   ]
  },
  {
   "cell_type": "markdown",
   "id": "72a51ea6",
   "metadata": {},
   "source": [
    "Now, we have removed outliers. Our data looks skewed as you can see from the visualizations. K-Means does not work well on skewed data. Hence, we are gonna perform log transformation on our data."
   ]
  },
  {
   "cell_type": "code",
   "execution_count": 670,
   "id": "76b745ba",
   "metadata": {},
   "outputs": [],
   "source": [
    "RFM_model_v2 = RFM_model_v1.copy()"
   ]
  },
  {
   "cell_type": "code",
   "execution_count": 671,
   "id": "96b30569",
   "metadata": {},
   "outputs": [],
   "source": [
    "RFM_model_v2 = np.log(RFM_model_v2 + 1)"
   ]
  },
  {
   "cell_type": "code",
   "execution_count": 672,
   "id": "aade618b",
   "metadata": {},
   "outputs": [
    {
     "data": {
      "text/html": [
       "<div>\n",
       "<style scoped>\n",
       "    .dataframe tbody tr th:only-of-type {\n",
       "        vertical-align: middle;\n",
       "    }\n",
       "\n",
       "    .dataframe tbody tr th {\n",
       "        vertical-align: top;\n",
       "    }\n",
       "\n",
       "    .dataframe thead th {\n",
       "        text-align: right;\n",
       "    }\n",
       "</style>\n",
       "<table border=\"1\" class=\"dataframe\">\n",
       "  <thead>\n",
       "    <tr style=\"text-align: right;\">\n",
       "      <th></th>\n",
       "      <th>Recency</th>\n",
       "      <th>Frequency</th>\n",
       "      <th>Monetary</th>\n",
       "    </tr>\n",
       "  </thead>\n",
       "  <tbody>\n",
       "    <tr>\n",
       "      <th>0</th>\n",
       "      <td>5.786897</td>\n",
       "      <td>0.693147</td>\n",
       "      <td>8.158242</td>\n",
       "    </tr>\n",
       "    <tr>\n",
       "      <th>1</th>\n",
       "      <td>1.098612</td>\n",
       "      <td>4.644391</td>\n",
       "      <td>8.158242</td>\n",
       "    </tr>\n",
       "    <tr>\n",
       "      <th>2</th>\n",
       "      <td>0.000000</td>\n",
       "      <td>5.409971</td>\n",
       "      <td>8.158242</td>\n",
       "    </tr>\n",
       "    <tr>\n",
       "      <th>3</th>\n",
       "      <td>1.386294</td>\n",
       "      <td>5.298317</td>\n",
       "      <td>8.158242</td>\n",
       "    </tr>\n",
       "    <tr>\n",
       "      <th>4</th>\n",
       "      <td>1.386294</td>\n",
       "      <td>4.094345</td>\n",
       "      <td>6.849427</td>\n",
       "    </tr>\n",
       "    <tr>\n",
       "      <th>...</th>\n",
       "      <td>...</td>\n",
       "      <td>...</td>\n",
       "      <td>...</td>\n",
       "    </tr>\n",
       "    <tr>\n",
       "      <th>3915</th>\n",
       "      <td>5.627621</td>\n",
       "      <td>2.397895</td>\n",
       "      <td>5.201806</td>\n",
       "    </tr>\n",
       "    <tr>\n",
       "      <th>3916</th>\n",
       "      <td>5.198497</td>\n",
       "      <td>2.079442</td>\n",
       "      <td>4.404522</td>\n",
       "    </tr>\n",
       "    <tr>\n",
       "      <th>3917</th>\n",
       "      <td>2.079442</td>\n",
       "      <td>2.564949</td>\n",
       "      <td>5.187665</td>\n",
       "    </tr>\n",
       "    <tr>\n",
       "      <th>3918</th>\n",
       "      <td>1.386294</td>\n",
       "      <td>5.409971</td>\n",
       "      <td>7.647729</td>\n",
       "    </tr>\n",
       "    <tr>\n",
       "      <th>3919</th>\n",
       "      <td>3.761200</td>\n",
       "      <td>4.262680</td>\n",
       "      <td>7.516586</td>\n",
       "    </tr>\n",
       "  </tbody>\n",
       "</table>\n",
       "<p>3920 rows × 3 columns</p>\n",
       "</div>"
      ],
      "text/plain": [
       "       Recency  Frequency  Monetary\n",
       "0     5.786897   0.693147  8.158242\n",
       "1     1.098612   4.644391  8.158242\n",
       "2     0.000000   5.409971  8.158242\n",
       "3     1.386294   5.298317  8.158242\n",
       "4     1.386294   4.094345  6.849427\n",
       "...        ...        ...       ...\n",
       "3915  5.627621   2.397895  5.201806\n",
       "3916  5.198497   2.079442  4.404522\n",
       "3917  2.079442   2.564949  5.187665\n",
       "3918  1.386294   5.409971  7.647729\n",
       "3919  3.761200   4.262680  7.516586\n",
       "\n",
       "[3920 rows x 3 columns]"
      ]
     },
     "execution_count": 672,
     "metadata": {},
     "output_type": "execute_result"
    }
   ],
   "source": [
    "RFM_model_v2"
   ]
  },
  {
   "cell_type": "code",
   "execution_count": 675,
   "id": "3b633f1b",
   "metadata": {},
   "outputs": [
    {
     "data": {
      "text/plain": [
       "<seaborn.axisgrid.FacetGrid at 0x7f943767c7f0>"
      ]
     },
     "execution_count": 675,
     "metadata": {},
     "output_type": "execute_result"
    },
    {
     "data": {
      "image/png": "[encoded data removed]",
      "text/plain": [
       "<Figure size 360x360 with 1 Axes>"
      ]
     },
     "metadata": {
      "needs_background": "light"
     },
     "output_type": "display_data"
    }
   ],
   "source": [
    "sns.displot(RFM_model_v2['Recency'])"
   ]
  },
  {
   "cell_type": "code",
   "execution_count": 678,
   "id": "8dbbf385",
   "metadata": {},
   "outputs": [
    {
     "data": {
      "text/plain": [
       "<seaborn.axisgrid.FacetGrid at 0x7f9437ec57c0>"
      ]
     },
     "execution_count": 678,
     "metadata": {},
     "output_type": "execute_result"
    },
    {
     "data": {
      "image/png": "[encoded data removed]",
      "text/plain": [
       "<Figure size 360x360 with 1 Axes>"
      ]
     },
     "metadata": {
      "needs_background": "light"
     },
     "output_type": "display_data"
    }
   ],
   "source": [
    "sns.displot(RFM_model_v2['Frequency'])"
   ]
  },
  {
   "cell_type": "code",
   "execution_count": 680,
   "id": "5c925a12",
   "metadata": {},
   "outputs": [
    {
     "data": {
      "text/plain": [
       "<seaborn.axisgrid.FacetGrid at 0x7f94385adca0>"
      ]
     },
     "execution_count": 680,
     "metadata": {},
     "output_type": "execute_result"
    },
    {
     "data": {
      "image/png": "[encoded data removed]",
      "text/plain": [
       "<Figure size 360x360 with 1 Axes>"
      ]
     },
     "metadata": {
      "needs_background": "light"
     },
     "output_type": "display_data"
    }
   ],
   "source": [
    "sns.displot(RFM_model_v2['Monetary'])"
   ]
  },
  {
   "cell_type": "markdown",
   "id": "d7e0ff23",
   "metadata": {},
   "source": [
    "Standardizing data."
   ]
  },
  {
   "cell_type": "code",
   "execution_count": 682,
   "id": "df811797",
   "metadata": {},
   "outputs": [],
   "source": [
    "from sklearn.preprocessing import StandardScaler"
   ]
  },
  {
   "cell_type": "code",
   "execution_count": 683,
   "id": "91303b10",
   "metadata": {},
   "outputs": [],
   "source": [
    "scaler = StandardScaler()\n",
    "RFM_stdzed = scaler.fit_transform(RFM_model_v2)"
   ]
  },
  {
   "cell_type": "code",
   "execution_count": 685,
   "id": "494ec07b",
   "metadata": {},
   "outputs": [],
   "source": [
    "RFM_stdzed = pd.DataFrame(RFM_stdzed, columns=[RFM_model_v2.columns])"
   ]
  },
  {
   "cell_type": "code",
   "execution_count": 687,
   "id": "c46ca189",
   "metadata": {},
   "outputs": [
    {
     "data": {
      "text/html": [
       "<div>\n",
       "<style scoped>\n",
       "    .dataframe tbody tr th:only-of-type {\n",
       "        vertical-align: middle;\n",
       "    }\n",
       "\n",
       "    .dataframe tbody tr th {\n",
       "        vertical-align: top;\n",
       "    }\n",
       "\n",
       "    .dataframe thead tr th {\n",
       "        text-align: left;\n",
       "    }\n",
       "</style>\n",
       "<table border=\"1\" class=\"dataframe\">\n",
       "  <thead>\n",
       "    <tr>\n",
       "      <th></th>\n",
       "      <th>Recency</th>\n",
       "      <th>Frequency</th>\n",
       "      <th>Monetary</th>\n",
       "    </tr>\n",
       "  </thead>\n",
       "  <tbody>\n",
       "    <tr>\n",
       "      <th>0</th>\n",
       "      <td>1.445048</td>\n",
       "      <td>-2.542323</td>\n",
       "      <td>1.525606</td>\n",
       "    </tr>\n",
       "    <tr>\n",
       "      <th>1</th>\n",
       "      <td>-1.957577</td>\n",
       "      <td>0.828374</td>\n",
       "      <td>1.525606</td>\n",
       "    </tr>\n",
       "    <tr>\n",
       "      <th>2</th>\n",
       "      <td>-2.754919</td>\n",
       "      <td>1.481469</td>\n",
       "      <td>1.525606</td>\n",
       "    </tr>\n",
       "    <tr>\n",
       "      <th>3</th>\n",
       "      <td>-1.748786</td>\n",
       "      <td>1.386220</td>\n",
       "      <td>1.525606</td>\n",
       "    </tr>\n",
       "    <tr>\n",
       "      <th>4</th>\n",
       "      <td>-1.748786</td>\n",
       "      <td>0.359144</td>\n",
       "      <td>0.337944</td>\n",
       "    </tr>\n",
       "  </tbody>\n",
       "</table>\n",
       "</div>"
      ],
      "text/plain": [
       "    Recency Frequency  Monetary\n",
       "0  1.445048 -2.542323  1.525606\n",
       "1 -1.957577  0.828374  1.525606\n",
       "2 -2.754919  1.481469  1.525606\n",
       "3 -1.748786  1.386220  1.525606\n",
       "4 -1.748786  0.359144  0.337944"
      ]
     },
     "execution_count": 687,
     "metadata": {},
     "output_type": "execute_result"
    }
   ],
   "source": [
    "RFM_stdzed.head()"
   ]
  },
  {
   "cell_type": "code",
   "execution_count": 694,
   "id": "7cc36c3d",
   "metadata": {},
   "outputs": [
    {
     "data": {
      "text/plain": [
       "<AxesSubplot:ylabel='Count'>"
      ]
     },
     "execution_count": 694,
     "metadata": {},
     "output_type": "execute_result"
    },
    {
     "data": {
      "image/png": "[encoded data removed]",
      "text/plain": [
       "<Figure size 432x288 with 1 Axes>"
      ]
     },
     "metadata": {
      "needs_background": "light"
     },
     "output_type": "display_data"
    }
   ],
   "source": [
    "sns.histplot(RFM_stdzed['Recency'])"
   ]
  },
  {
   "cell_type": "code",
   "execution_count": 695,
   "id": "6f3f29f6",
   "metadata": {},
   "outputs": [
    {
     "data": {
      "text/plain": [
       "<AxesSubplot:ylabel='Count'>"
      ]
     },
     "execution_count": 695,
     "metadata": {},
     "output_type": "execute_result"
    },
    {
     "data": {
      "image/png": "[encoded data removed]",
      "text/plain": [
       "<Figure size 432x288 with 1 Axes>"
      ]
     },
     "metadata": {
      "needs_background": "light"
     },
     "output_type": "display_data"
    }
   ],
   "source": [
    "sns.histplot(RFM_stdzed['Frequency'])"
   ]
  },
  {
   "cell_type": "code",
   "execution_count": 696,
   "id": "0d7db8e1",
   "metadata": {},
   "outputs": [
    {
     "data": {
      "text/plain": [
       "<AxesSubplot:ylabel='Count'>"
      ]
     },
     "execution_count": 696,
     "metadata": {},
     "output_type": "execute_result"
    },
    {
     "data": {
      "image/png": "[encoded data removed]",
      "text/plain": [
       "<Figure size 432x288 with 1 Axes>"
      ]
     },
     "metadata": {
      "needs_background": "light"
     },
     "output_type": "display_data"
    }
   ],
   "source": [
    "sns.histplot(RFM_stdzed['Monetary'])"
   ]
  },
  {
   "cell_type": "code",
   "execution_count": 699,
   "id": "2731df2c",
   "metadata": {},
   "outputs": [],
   "source": [
    "from scipy.spatial.distance import cdist\n",
    "from sklearn.cluster import KMeans\n",
    "distortions = [] \n",
    "inertias = [] \n",
    "mapping1 = {} \n",
    "mapping2 = {} \n",
    "K = range(1,10) \n",
    "  \n",
    "for k in K: \n",
    "    #Building and fitting the model \n",
    "    kmeanModel = KMeans(n_clusters=k).fit(RFM_stdzed) \n",
    "    kmeanModel.fit(RFM_stdzed)     \n",
    "      \n",
    "    distortions.append(sum(np.min(cdist(RFM_stdzed, kmeanModel.cluster_centers_, \n",
    "                      'euclidean'),axis=1)) / RFM_stdzed.shape[0]) \n",
    "    inertias.append(kmeanModel.inertia_) \n",
    "  \n",
    "    mapping1[k] = sum(np.min(cdist(RFM_stdzed, kmeanModel.cluster_centers_, \n",
    "                 'euclidean'),axis=1)) / RFM_stdzed.shape[0] \n",
    "    mapping2[k] = kmeanModel.inertia_"
   ]
  },
  {
   "cell_type": "code",
   "execution_count": 700,
   "id": "f2576728",
   "metadata": {},
   "outputs": [
    {
     "data": {
      "text/plain": [
       "Text(0.5, 1.0, 'Elbow method')"
      ]
     },
     "execution_count": 700,
     "metadata": {},
     "output_type": "execute_result"
    },
    {
     "data": {
      "image/png": "[encoded data removed]",
      "text/plain": [
       "<Figure size 432x288 with 1 Axes>"
      ]
     },
     "metadata": {
      "needs_background": "light"
     },
     "output_type": "display_data"
    }
   ],
   "source": [
    "plt.plot(K, inertias, 'bx-')\n",
    "plt.xlabel('Values of K')\n",
    "plt.ylabel('Values of inertia')\n",
    "plt.title('Elbow method')"
   ]
  },
  {
   "cell_type": "markdown",
   "id": "8d888bb0",
   "metadata": {},
   "source": [
    "3 looks like an optimum number of clusters here. 4 also looks like a good choice. To choose between 3 or 4 we can use Silhouetter Score. Higher the better."
   ]
  },
  {
   "cell_type": "code",
   "execution_count": 729,
   "id": "a7635719",
   "metadata": {},
   "outputs": [],
   "source": [
    "\n",
    "from sklearn.metrics import silhouette_score\n",
    "\n",
    "sil = []\n",
    "kmax = 9\n",
    "\n",
    "# dissimilarity would not be defined for a single cluster, thus, minimum number of clusters should be 2\n",
    "for k in range(3, kmax+1):\n",
    "  kmeans = KMeans(n_clusters = k).fit(RFM_stdzed)\n",
    "  labels = kmeans.labels_\n",
    "  sil.append(silhouette_score(RFM_stdzed, labels, metric = 'euclidean'))"
   ]
  },
  {
   "cell_type": "code",
   "execution_count": 730,
   "id": "f43a9ed3",
   "metadata": {},
   "outputs": [
    {
     "data": {
      "text/plain": [
       "array([1, 2, 2, ..., 0, 2, 7], dtype=int32)"
      ]
     },
     "execution_count": 730,
     "metadata": {},
     "output_type": "execute_result"
    }
   ],
   "source": [
    "labels"
   ]
  },
  {
   "cell_type": "code",
   "execution_count": 732,
   "id": "761b427e",
   "metadata": {},
   "outputs": [
    {
     "data": {
      "text/plain": [
       "Text(0.5, 1.0, 'S-score method')"
      ]
     },
     "execution_count": 732,
     "metadata": {},
     "output_type": "execute_result"
    },
    {
     "data": {
      "image/png": "[encoded data removed]",
      "text/plain": [
       "<Figure size 432x288 with 1 Axes>"
      ]
     },
     "metadata": {
      "needs_background": "light"
     },
     "output_type": "display_data"
    }
   ],
   "source": [
    "K= range(3, kmax+1)\n",
    "plt.plot(K, sil, 'bx-')\n",
    "plt.xlabel('K')\n",
    "plt.ylabel('Values of S_score')\n",
    "plt.title('S-score method')"
   ]
  },
  {
   "cell_type": "markdown",
   "id": "2d076890",
   "metadata": {},
   "source": [
    "This tells us that 4 is better than 3."
   ]
  },
  {
   "cell_type": "code",
   "execution_count": 709,
   "id": "bb6c1086",
   "metadata": {},
   "outputs": [],
   "source": [
    "from sklearn.metrics import davies_bouldin_score"
   ]
  },
  {
   "cell_type": "code",
   "execution_count": 711,
   "id": "c62cdac1",
   "metadata": {},
   "outputs": [
    {
     "data": {
      "text/plain": [
       "KMeans(n_clusters=3)"
      ]
     },
     "execution_count": 711,
     "metadata": {},
     "output_type": "execute_result"
    }
   ],
   "source": [
    "kmeans = KMeans(n_clusters=3)\n",
    "kmeans.fit(RFM_stdzed)"
   ]
  },
  {
   "cell_type": "code",
   "execution_count": 713,
   "id": "6846dacf",
   "metadata": {},
   "outputs": [],
   "source": [
    "kmax = 5\n",
    "davies = []\n",
    "for k in range(2, kmax+1):\n",
    "    kmeans = KMeans(n_clusters=3)\n",
    "    kmeans.fit(RFM_stdzed)\n",
    "    labels = kmeans.labels_\n",
    "    davies.append(davies_bouldin_score(RFM_stdzed, kmeans.labels_))"
   ]
  },
  {
   "cell_type": "code",
   "execution_count": 716,
   "id": "fdb5d1d3",
   "metadata": {},
   "outputs": [
    {
     "name": "stdout",
     "output_type": "stream",
     "text": [
      "When K=3: 1.1186926203221892\n",
      "When K=4: 1.1186926203221892\n"
     ]
    },
    {
     "data": {
      "image/png": "[encoded data removed]",
      "text/plain": [
       "<Figure size 432x288 with 1 Axes>"
      ]
     },
     "metadata": {
      "needs_background": "light"
     },
     "output_type": "display_data"
    }
   ],
   "source": [
    "K= range(2, kmax+1)\n",
    "plt.plot(K, davies, 'bx-')\n",
    "plt.xlabel('Values of K')\n",
    "plt.ylabel('Values of db-score')\n",
    "plt.title('Davies Bouldin Score')\n",
    "print(\"When K=3: {}\".format(davies[1]))\n",
    "print(\"When K=4: {}\".format(davies[2]))"
   ]
  },
  {
   "cell_type": "code",
   "execution_count": 718,
   "id": "c2050baa",
   "metadata": {},
   "outputs": [
    {
     "data": {
      "text/plain": [
       "0.0"
      ]
     },
     "execution_count": 718,
     "metadata": {},
     "output_type": "execute_result"
    }
   ],
   "source": [
    "davies[1]-davies[2]"
   ]
  },
  {
   "cell_type": "markdown",
   "id": "ea5aeb33",
   "metadata": {},
   "source": [
    "Hence, we can use 4 for further processing."
   ]
  },
  {
   "cell_type": "code",
   "execution_count": 735,
   "id": "cca4eb01",
   "metadata": {},
   "outputs": [
    {
     "data": {
      "text/plain": [
       "KMeans(n_clusters=4)"
      ]
     },
     "execution_count": 735,
     "metadata": {},
     "output_type": "execute_result"
    }
   ],
   "source": [
    "kmeans = KMeans(n_clusters=4)\n",
    "kmeans.fit(RFM_stdzed)"
   ]
  },
  {
   "cell_type": "code",
   "execution_count": 738,
   "id": "8eff3026",
   "metadata": {},
   "outputs": [
    {
     "data": {
      "text/html": [
       "<div>\n",
       "<style scoped>\n",
       "    .dataframe tbody tr th:only-of-type {\n",
       "        vertical-align: middle;\n",
       "    }\n",
       "\n",
       "    .dataframe tbody tr th {\n",
       "        vertical-align: top;\n",
       "    }\n",
       "\n",
       "    .dataframe thead th {\n",
       "        text-align: right;\n",
       "    }\n",
       "</style>\n",
       "<table border=\"1\" class=\"dataframe\">\n",
       "  <thead>\n",
       "    <tr style=\"text-align: right;\">\n",
       "      <th></th>\n",
       "      <th>CustomerID</th>\n",
       "      <th>Recency</th>\n",
       "      <th>Frequency</th>\n",
       "      <th>Monetary</th>\n",
       "    </tr>\n",
       "  </thead>\n",
       "  <tbody>\n",
       "    <tr>\n",
       "      <th>0</th>\n",
       "      <td>12346.0</td>\n",
       "      <td>325</td>\n",
       "      <td>1</td>\n",
       "      <td>77183.60</td>\n",
       "    </tr>\n",
       "    <tr>\n",
       "      <th>1</th>\n",
       "      <td>12747.0</td>\n",
       "      <td>2</td>\n",
       "      <td>103</td>\n",
       "      <td>4196.01</td>\n",
       "    </tr>\n",
       "    <tr>\n",
       "      <th>2</th>\n",
       "      <td>12748.0</td>\n",
       "      <td>0</td>\n",
       "      <td>4595</td>\n",
       "      <td>33719.73</td>\n",
       "    </tr>\n",
       "    <tr>\n",
       "      <th>3</th>\n",
       "      <td>12749.0</td>\n",
       "      <td>3</td>\n",
       "      <td>199</td>\n",
       "      <td>4090.88</td>\n",
       "    </tr>\n",
       "    <tr>\n",
       "      <th>4</th>\n",
       "      <td>12820.0</td>\n",
       "      <td>3</td>\n",
       "      <td>59</td>\n",
       "      <td>942.34</td>\n",
       "    </tr>\n",
       "    <tr>\n",
       "      <th>...</th>\n",
       "      <td>...</td>\n",
       "      <td>...</td>\n",
       "      <td>...</td>\n",
       "      <td>...</td>\n",
       "    </tr>\n",
       "    <tr>\n",
       "      <th>3915</th>\n",
       "      <td>18280.0</td>\n",
       "      <td>277</td>\n",
       "      <td>10</td>\n",
       "      <td>180.60</td>\n",
       "    </tr>\n",
       "    <tr>\n",
       "      <th>3916</th>\n",
       "      <td>18281.0</td>\n",
       "      <td>180</td>\n",
       "      <td>7</td>\n",
       "      <td>80.82</td>\n",
       "    </tr>\n",
       "    <tr>\n",
       "      <th>3917</th>\n",
       "      <td>18282.0</td>\n",
       "      <td>7</td>\n",
       "      <td>12</td>\n",
       "      <td>178.05</td>\n",
       "    </tr>\n",
       "    <tr>\n",
       "      <th>3918</th>\n",
       "      <td>18283.0</td>\n",
       "      <td>3</td>\n",
       "      <td>756</td>\n",
       "      <td>2094.88</td>\n",
       "    </tr>\n",
       "    <tr>\n",
       "      <th>3919</th>\n",
       "      <td>18287.0</td>\n",
       "      <td>42</td>\n",
       "      <td>70</td>\n",
       "      <td>1837.28</td>\n",
       "    </tr>\n",
       "  </tbody>\n",
       "</table>\n",
       "<p>3920 rows × 4 columns</p>\n",
       "</div>"
      ],
      "text/plain": [
       "      CustomerID  Recency  Frequency  Monetary\n",
       "0        12346.0      325          1  77183.60\n",
       "1        12747.0        2        103   4196.01\n",
       "2        12748.0        0       4595  33719.73\n",
       "3        12749.0        3        199   4090.88\n",
       "4        12820.0        3         59    942.34\n",
       "...          ...      ...        ...       ...\n",
       "3915     18280.0      277         10    180.60\n",
       "3916     18281.0      180          7     80.82\n",
       "3917     18282.0        7         12    178.05\n",
       "3918     18283.0        3        756   2094.88\n",
       "3919     18287.0       42         70   1837.28\n",
       "\n",
       "[3920 rows x 4 columns]"
      ]
     },
     "execution_count": 738,
     "metadata": {},
     "output_type": "execute_result"
    }
   ],
   "source": [
    "RFM_data"
   ]
  },
  {
   "cell_type": "code",
   "execution_count": 739,
   "id": "c3d3b614",
   "metadata": {},
   "outputs": [],
   "source": [
    "cluster_labels = kmeans.labels_\n",
    "        \n",
    "# Create a cluster label column in original dataset\n",
    "data_k4 = RFM_data.assign(Cluster = cluster_labels)"
   ]
  },
  {
   "cell_type": "code",
   "execution_count": 760,
   "id": "8cd70edb",
   "metadata": {},
   "outputs": [],
   "source": [
    "data_k4.drop(['CustomerID'], axis=1, inplace=True)"
   ]
  },
  {
   "cell_type": "code",
   "execution_count": 767,
   "id": "abfc5299",
   "metadata": {},
   "outputs": [
    {
     "data": {
      "text/html": [
       "<div>\n",
       "<style scoped>\n",
       "    .dataframe tbody tr th:only-of-type {\n",
       "        vertical-align: middle;\n",
       "    }\n",
       "\n",
       "    .dataframe tbody tr th {\n",
       "        vertical-align: top;\n",
       "    }\n",
       "\n",
       "    .dataframe thead th {\n",
       "        text-align: right;\n",
       "    }\n",
       "</style>\n",
       "<table border=\"1\" class=\"dataframe\">\n",
       "  <thead>\n",
       "    <tr style=\"text-align: right;\">\n",
       "      <th></th>\n",
       "      <th>Recency</th>\n",
       "      <th>Frequency</th>\n",
       "      <th>Monetary</th>\n",
       "      <th>Cluster</th>\n",
       "    </tr>\n",
       "  </thead>\n",
       "  <tbody>\n",
       "    <tr>\n",
       "      <th>0</th>\n",
       "      <td>325</td>\n",
       "      <td>1</td>\n",
       "      <td>77183.60</td>\n",
       "      <td>1</td>\n",
       "    </tr>\n",
       "    <tr>\n",
       "      <th>1</th>\n",
       "      <td>2</td>\n",
       "      <td>103</td>\n",
       "      <td>4196.01</td>\n",
       "      <td>2</td>\n",
       "    </tr>\n",
       "    <tr>\n",
       "      <th>2</th>\n",
       "      <td>0</td>\n",
       "      <td>4595</td>\n",
       "      <td>33719.73</td>\n",
       "      <td>2</td>\n",
       "    </tr>\n",
       "    <tr>\n",
       "      <th>3</th>\n",
       "      <td>3</td>\n",
       "      <td>199</td>\n",
       "      <td>4090.88</td>\n",
       "      <td>2</td>\n",
       "    </tr>\n",
       "    <tr>\n",
       "      <th>4</th>\n",
       "      <td>3</td>\n",
       "      <td>59</td>\n",
       "      <td>942.34</td>\n",
       "      <td>2</td>\n",
       "    </tr>\n",
       "    <tr>\n",
       "      <th>...</th>\n",
       "      <td>...</td>\n",
       "      <td>...</td>\n",
       "      <td>...</td>\n",
       "      <td>...</td>\n",
       "    </tr>\n",
       "    <tr>\n",
       "      <th>3915</th>\n",
       "      <td>277</td>\n",
       "      <td>10</td>\n",
       "      <td>180.60</td>\n",
       "      <td>1</td>\n",
       "    </tr>\n",
       "    <tr>\n",
       "      <th>3916</th>\n",
       "      <td>180</td>\n",
       "      <td>7</td>\n",
       "      <td>80.82</td>\n",
       "      <td>1</td>\n",
       "    </tr>\n",
       "    <tr>\n",
       "      <th>3917</th>\n",
       "      <td>7</td>\n",
       "      <td>12</td>\n",
       "      <td>178.05</td>\n",
       "      <td>3</td>\n",
       "    </tr>\n",
       "    <tr>\n",
       "      <th>3918</th>\n",
       "      <td>3</td>\n",
       "      <td>756</td>\n",
       "      <td>2094.88</td>\n",
       "      <td>2</td>\n",
       "    </tr>\n",
       "    <tr>\n",
       "      <th>3919</th>\n",
       "      <td>42</td>\n",
       "      <td>70</td>\n",
       "      <td>1837.28</td>\n",
       "      <td>0</td>\n",
       "    </tr>\n",
       "  </tbody>\n",
       "</table>\n",
       "<p>3920 rows × 4 columns</p>\n",
       "</div>"
      ],
      "text/plain": [
       "      Recency  Frequency  Monetary  Cluster\n",
       "0         325          1  77183.60        1\n",
       "1           2        103   4196.01        2\n",
       "2           0       4595  33719.73        2\n",
       "3           3        199   4090.88        2\n",
       "4           3         59    942.34        2\n",
       "...       ...        ...       ...      ...\n",
       "3915      277         10    180.60        1\n",
       "3916      180          7     80.82        1\n",
       "3917        7         12    178.05        3\n",
       "3918        3        756   2094.88        2\n",
       "3919       42         70   1837.28        0\n",
       "\n",
       "[3920 rows x 4 columns]"
      ]
     },
     "execution_count": 767,
     "metadata": {},
     "output_type": "execute_result"
    }
   ],
   "source": [
    "data_k4"
   ]
  },
  {
   "cell_type": "code",
   "execution_count": 772,
   "id": "1e5fc408",
   "metadata": {},
   "outputs": [],
   "source": [
    "final_analysis = data_k4.groupby('Cluster').agg({\n",
    "    'Recency':'mean',\n",
    "    'Frequency':'mean',\n",
    "    'Monetary':['mean','count']\n",
    "}).round(0)"
   ]
  },
  {
   "cell_type": "code",
   "execution_count": 775,
   "id": "0e554ecb",
   "metadata": {},
   "outputs": [
    {
     "data": {
      "text/html": [
       "<div>\n",
       "<style scoped>\n",
       "    .dataframe tbody tr th:only-of-type {\n",
       "        vertical-align: middle;\n",
       "    }\n",
       "\n",
       "    .dataframe tbody tr th {\n",
       "        vertical-align: top;\n",
       "    }\n",
       "\n",
       "    .dataframe thead tr th {\n",
       "        text-align: left;\n",
       "    }\n",
       "\n",
       "    .dataframe thead tr:last-of-type th {\n",
       "        text-align: right;\n",
       "    }\n",
       "</style>\n",
       "<table border=\"1\" class=\"dataframe\">\n",
       "  <thead>\n",
       "    <tr>\n",
       "      <th></th>\n",
       "      <th>Recency</th>\n",
       "      <th>Frequency</th>\n",
       "      <th colspan=\"2\" halign=\"left\">Monetary</th>\n",
       "    </tr>\n",
       "    <tr>\n",
       "      <th></th>\n",
       "      <th>mean</th>\n",
       "      <th>mean</th>\n",
       "      <th>mean</th>\n",
       "      <th>count</th>\n",
       "    </tr>\n",
       "    <tr>\n",
       "      <th>Cluster</th>\n",
       "      <th></th>\n",
       "      <th></th>\n",
       "      <th></th>\n",
       "      <th></th>\n",
       "    </tr>\n",
       "  </thead>\n",
       "  <tbody>\n",
       "    <tr>\n",
       "      <th>0</th>\n",
       "      <td>99.0</td>\n",
       "      <td>78.0</td>\n",
       "      <td>1322.0</td>\n",
       "      <td>1105</td>\n",
       "    </tr>\n",
       "    <tr>\n",
       "      <th>1</th>\n",
       "      <td>194.0</td>\n",
       "      <td>14.0</td>\n",
       "      <td>380.0</td>\n",
       "      <td>1131</td>\n",
       "    </tr>\n",
       "    <tr>\n",
       "      <th>2</th>\n",
       "      <td>12.0</td>\n",
       "      <td>244.0</td>\n",
       "      <td>5206.0</td>\n",
       "      <td>944</td>\n",
       "    </tr>\n",
       "    <tr>\n",
       "      <th>3</th>\n",
       "      <td>26.0</td>\n",
       "      <td>30.0</td>\n",
       "      <td>681.0</td>\n",
       "      <td>740</td>\n",
       "    </tr>\n",
       "  </tbody>\n",
       "</table>\n",
       "</div>"
      ],
      "text/plain": [
       "        Recency Frequency Monetary      \n",
       "           mean      mean     mean count\n",
       "Cluster                                 \n",
       "0          99.0      78.0   1322.0  1105\n",
       "1         194.0      14.0    380.0  1131\n",
       "2          12.0     244.0   5206.0   944\n",
       "3          26.0      30.0    681.0   740"
      ]
     },
     "execution_count": 775,
     "metadata": {},
     "output_type": "execute_result"
    }
   ],
   "source": [
    "final_analysis"
   ]
  },
  {
   "cell_type": "code",
   "execution_count": 778,
   "id": "57ee53f7",
   "metadata": {},
   "outputs": [],
   "source": [
    "final_analysis['Total %'] = final_analysis['Monetary']['count'] / 3920 * 100"
   ]
  },
  {
   "cell_type": "code",
   "execution_count": 779,
   "id": "0ff64be8",
   "metadata": {},
   "outputs": [
    {
     "data": {
      "text/html": [
       "<div>\n",
       "<style scoped>\n",
       "    .dataframe tbody tr th:only-of-type {\n",
       "        vertical-align: middle;\n",
       "    }\n",
       "\n",
       "    .dataframe tbody tr th {\n",
       "        vertical-align: top;\n",
       "    }\n",
       "\n",
       "    .dataframe thead tr th {\n",
       "        text-align: left;\n",
       "    }\n",
       "\n",
       "    .dataframe thead tr:last-of-type th {\n",
       "        text-align: right;\n",
       "    }\n",
       "</style>\n",
       "<table border=\"1\" class=\"dataframe\">\n",
       "  <thead>\n",
       "    <tr>\n",
       "      <th></th>\n",
       "      <th>Recency</th>\n",
       "      <th>Frequency</th>\n",
       "      <th colspan=\"2\" halign=\"left\">Monetary</th>\n",
       "      <th>Total %</th>\n",
       "    </tr>\n",
       "    <tr>\n",
       "      <th></th>\n",
       "      <th>mean</th>\n",
       "      <th>mean</th>\n",
       "      <th>mean</th>\n",
       "      <th>count</th>\n",
       "      <th></th>\n",
       "    </tr>\n",
       "    <tr>\n",
       "      <th>Cluster</th>\n",
       "      <th></th>\n",
       "      <th></th>\n",
       "      <th></th>\n",
       "      <th></th>\n",
       "      <th></th>\n",
       "    </tr>\n",
       "  </thead>\n",
       "  <tbody>\n",
       "    <tr>\n",
       "      <th>0</th>\n",
       "      <td>99.0</td>\n",
       "      <td>78.0</td>\n",
       "      <td>1322.0</td>\n",
       "      <td>1105</td>\n",
       "      <td>28.188776</td>\n",
       "    </tr>\n",
       "    <tr>\n",
       "      <th>1</th>\n",
       "      <td>194.0</td>\n",
       "      <td>14.0</td>\n",
       "      <td>380.0</td>\n",
       "      <td>1131</td>\n",
       "      <td>28.852041</td>\n",
       "    </tr>\n",
       "    <tr>\n",
       "      <th>2</th>\n",
       "      <td>12.0</td>\n",
       "      <td>244.0</td>\n",
       "      <td>5206.0</td>\n",
       "      <td>944</td>\n",
       "      <td>24.081633</td>\n",
       "    </tr>\n",
       "    <tr>\n",
       "      <th>3</th>\n",
       "      <td>26.0</td>\n",
       "      <td>30.0</td>\n",
       "      <td>681.0</td>\n",
       "      <td>740</td>\n",
       "      <td>18.877551</td>\n",
       "    </tr>\n",
       "  </tbody>\n",
       "</table>\n",
       "</div>"
      ],
      "text/plain": [
       "        Recency Frequency Monetary          Total %\n",
       "           mean      mean     mean count           \n",
       "Cluster                                            \n",
       "0          99.0      78.0   1322.0  1105  28.188776\n",
       "1         194.0      14.0    380.0  1131  28.852041\n",
       "2          12.0     244.0   5206.0   944  24.081633\n",
       "3          26.0      30.0    681.0   740  18.877551"
      ]
     },
     "execution_count": 779,
     "metadata": {},
     "output_type": "execute_result"
    }
   ],
   "source": [
    "final_analysis"
   ]
  },
  {
   "cell_type": "markdown",
   "id": "efa8308e",
   "metadata": {},
   "source": [
    "- We can interpret these clusters as follows:\n",
    "\n",
    "Cluster 2 has the lowest 'Recency' value, highest 'Frequency' value and highest 'Monetary' value. Hence, we can safely say that the Cluster 3 represents 'Champion' customers. (Those who buys frequently, spend good amount and are amoong recent buyers). This comprises around 24% of our data. Reward these customers. They can become early adopters for new products and will help promote your brand.\n",
    "\n",
    "Cluster 1 has the highest 'Recency' value, lowest 'Frequency' value and lowest 'Monetary' value. Hence, we can safely say that the Cluster 1 represents 'Lost Customers', who were never frequent buyers or big spenders.\n",
    "\n",
    "Cluster 0 has high 'Recency' value, but it also has high 'Frequency' and 'Monetary' value. Hence, we can say that th Cluster 0 represents 'At Risk' customers. At Risk Customers are your customers who purchased often and spent big amounts, but haven’t purchased recently. Send them personalized reactivation campaigns to reconnect, and offer renewals and helpful products to encourage another purchase.\n",
    "\n",
    "Cluster 3 has comparitively low overall RFM score but they have bought frequently. They may reprsent 'Almost lost' customers or some of the points may be representing 'New customers' as they have bought products recently."
   ]
  },
  {
   "cell_type": "code",
   "execution_count": null,
   "id": "32dabf86",
   "metadata": {},
   "outputs": [],
   "source": []
  }
 ],
 "metadata": {
  "kernelspec": {
   "display_name": "Python 3",
   "language": "python",
   "name": "python3"
  },
  "language_info": {
   "codemirror_mode": {
    "name": "ipython",
    "version": 3
   },
   "file_extension": ".py",
   "mimetype": "text/x-python",
   "name": "python",
   "nbconvert_exporter": "python",
   "pygments_lexer": "ipython3",
   "version": "3.8.8"
  }
 },
 "nbformat": 4,
 "nbformat_minor": 5
}
